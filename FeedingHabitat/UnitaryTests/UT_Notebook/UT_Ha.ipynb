{
 "cells": [
  {
   "cell_type": "code",
   "execution_count": 1,
   "metadata": {},
   "outputs": [],
   "source": [
    "from sys import path\n",
    "import matplotlib.pyplot as plt\n",
    "import xarray as xr\n",
    "import numpy as np\n",
    "import pandas as pd\n",
    "import math\n",
    "\n",
    "if not (\"C:\\\\Users\\\\julesl\\\\Documents (Local)\\\\JupyterLabWorkspace\\\\Library\\\\\" in path) :\n",
    "    path.append(\"C:\\\\Users\\\\julesl\\\\Documents (Local)\\\\JupyterLabWorkspace\\\\Library\\\\\")\n",
    "\n",
    "from FeedingHabitat.feedingHabitat import FeedingHabitat\n",
    "\n",
    "fh = FeedingHabitat(1)"
   ]
  },
  {
   "cell_type": "code",
   "execution_count": 2,
   "metadata": {},
   "outputs": [],
   "source": [
    "%load_ext memory_profiler"
   ]
  },
  {
   "cell_type": "code",
   "execution_count": 3,
   "metadata": {},
   "outputs": [
    {
     "name": "stdout",
     "output_type": "stream",
     "text": [
      "Overwriting mprun_tmp.py\n"
     ]
    }
   ],
   "source": [
    "%%file mprun_tmp.py\n",
    "def init(xr, fh, np):\n",
    "    # OXYGEN\n",
    "    #xr_ds_o2 = xr.open_dataset(\"C:\\\\Users\\\\julesl\\\\Documents (Local)\\\\JupyterLabWorkspace\\\\\\Data\\\\Concat\\\\SP\\\\MFCat_sp_2x30d_interim_historic_O2_L2_1979_2010.nc\")\n",
    "    fh.variables_dictionary[\"oxygen_L1\"] = xr.open_dataset(\"C:\\\\Users\\\\julesl\\\\Documents (Local)\\\\JupyterLabWorkspace\\\\\\Data\\\\Concat\\\\SP\\\\MFCat_sp_2x30d_interim_historic_O2_L2_1979_2010.nc\")['o2'].data\n",
    "    fh.variables_dictionary[\"oxygen_L2\"] = xr.open_dataset(\"C:\\\\Users\\\\julesl\\\\Documents (Local)\\\\JupyterLabWorkspace\\\\\\Data\\\\Concat\\\\SP\\\\MFCat_sp_2x30d_interim_historic_O2_L2_1979_2010.nc\")['o2'].data\n",
    "    fh.variables_dictionary[\"oxygen_L3\"] = xr.open_dataset(\"C:\\\\Users\\\\julesl\\\\Documents (Local)\\\\JupyterLabWorkspace\\\\\\Data\\\\Concat\\\\SP\\\\MFCat_sp_2x30d_interim_historic_O2_L2_1979_2010.nc\")['o2'].data\n",
    "\n",
    "    #TEMPERATURE\n",
    "    #xr_ds_sst = xr.open_dataset(\"C:\\\\Users\\\\julesl\\\\Documents (Local)\\\\JupyterLabWorkspace\\\\\\Data\\\\Concat\\\\SP\\\\MFCat_sp_2x30d_interim_historic_sst_1979_2010.nc\")\n",
    "    fh.variables_dictionary[\"temperature_L1\"] = xr.open_dataset(\"C:\\\\Users\\\\julesl\\\\Documents (Local)\\\\JupyterLabWorkspace\\\\\\Data\\\\Concat\\\\SP\\\\MFCat_sp_2x30d_interim_historic_sst_1979_2010.nc\")['sst'].data\n",
    "    fh.variables_dictionary[\"temperature_L2\"] = xr.open_dataset(\"C:\\\\Users\\\\julesl\\\\Documents (Local)\\\\JupyterLabWorkspace\\\\\\Data\\\\Concat\\\\SP\\\\MFCat_sp_2x30d_interim_historic_sst_1979_2010.nc\")['sst'].data\n",
    "    fh.variables_dictionary[\"temperature_L3\"] = xr.open_dataset(\"C:\\\\Users\\\\julesl\\\\Documents (Local)\\\\JupyterLabWorkspace\\\\\\Data\\\\Concat\\\\SP\\\\MFCat_sp_2x30d_interim_historic_sst_1979_2010.nc\")['sst'].data\n",
    "\n",
    "    # FORAGE\n",
    "    fh.variables_dictionary[\"forage_epi\"]     = xr.open_dataset(\"C:\\\\Users\\\\julesl\\\\Documents (Local)\\\\JupyterLabWorkspace\\\\\\Data\\\\Concat\\\\SP\\\\MFCat_sp_2x30d_Fbiom_epi_1979_2010.nc\")['epi'].data\n",
    "    fh.variables_dictionary[\"forage_meso\"]    = xr.open_dataset(\"C:\\\\Users\\\\julesl\\\\Documents (Local)\\\\JupyterLabWorkspace\\\\\\Data\\\\Concat\\\\SP\\\\MFCat_sp_2x30d_Fbiom_mmeso_1979_2010.nc\")['mmeso'].data\n",
    "    fh.variables_dictionary[\"forage_mmeso\"]   = xr.open_dataset(\"C:\\\\Users\\\\julesl\\\\Documents (Local)\\\\JupyterLabWorkspace\\\\\\Data\\\\Concat\\\\SP\\\\MFCat_sp_2x30d_Fbiom_mmeso_1979_2010.nc\")['mmeso'].data\n",
    "    fh.variables_dictionary[\"forage_bathy\"]   = xr.open_dataset(\"C:\\\\Users\\\\julesl\\\\Documents (Local)\\\\JupyterLabWorkspace\\\\\\Data\\\\Concat\\\\SP\\\\MFCat_sp_2x30d_Fbiom_hmbathy_1979_2010.nc\")['hmbathy'].data\n",
    "    fh.variables_dictionary[\"forage_mbathy\"]  = xr.open_dataset(\"C:\\\\Users\\\\julesl\\\\Documents (Local)\\\\JupyterLabWorkspace\\\\\\Data\\\\Concat\\\\SP\\\\MFCat_sp_2x30d_Fbiom_hmbathy_1979_2010.nc\")['hmbathy'].data\n",
    "    fh.variables_dictionary[\"forage_hmbathy\"] = xr.open_dataset(\"C:\\\\Users\\\\julesl\\\\Documents (Local)\\\\JupyterLabWorkspace\\\\\\Data\\\\Concat\\\\SP\\\\MFCat_sp_2x30d_Fbiom_hmbathy_1979_2010.nc\")['hmbathy'].data\n",
    "\n",
    "    #L/W\n",
    "    fh.variables_dictionary['cohorts_mean_weight'] = np.arange(1.0,2.1,0.1)\n",
    "    fh.variables_dictionary['cohorts_mean_length'] = np.arange(1.0,2.1,0.1)\n",
    "\n",
    "    #OTHERS\n",
    "    fh.daysLength(model=xr.open_dataset(\"C:\\\\Users\\\\julesl\\\\Documents (Local)\\\\JupyterLabWorkspace\\\\\\Data\\\\Concat\\\\SP\\\\MFCat_sp_2x30d_interim_historic_sst_1979_2010.nc\"))\n",
    "    #fh.global_mask=np.isfinite(xr_ds_o2['o2'].data)\n",
    "    fh.setMask()"
   ]
  },
  {
   "cell_type": "code",
   "execution_count": 4,
   "metadata": {},
   "outputs": [
    {
     "name": "stdout",
     "output_type": "stream",
     "text": [
      "\n"
     ]
    },
    {
     "data": {
      "text/plain": [
       "Filename: C:\\Users\\julesl\\Documents (Local)\\JupyterLabWorkspace\\Library\\FeedingHabitat\\UnitaryTests\\mprun_tmp.py\n",
       "\n",
       "Line #    Mem usage    Increment  Occurences   Line Contents\n",
       "============================================================\n",
       "     1    127.4 MiB    127.4 MiB           1   def init(xr, fh, np):\n",
       "     2                                             # OXYGEN\n",
       "     3                                             #xr_ds_o2 = xr.open_dataset(\"C:\\\\Users\\\\julesl\\\\Documents (Local)\\\\JupyterLabWorkspace\\\\\\Data\\\\Concat\\\\SP\\\\MFCat_sp_2x30d_interim_historic_O2_L2_1979_2010.nc\")\n",
       "     4    133.3 MiB      5.9 MiB           1       fh.variables_dictionary[\"oxygen_L1\"] = xr.open_dataset(\"C:\\\\Users\\\\julesl\\\\Documents (Local)\\\\JupyterLabWorkspace\\\\\\Data\\\\Concat\\\\SP\\\\MFCat_sp_2x30d_interim_historic_O2_L2_1979_2010.nc\")['o2'].data\n",
       "     5    138.0 MiB      4.7 MiB           1       fh.variables_dictionary[\"oxygen_L2\"] = xr.open_dataset(\"C:\\\\Users\\\\julesl\\\\Documents (Local)\\\\JupyterLabWorkspace\\\\\\Data\\\\Concat\\\\SP\\\\MFCat_sp_2x30d_interim_historic_O2_L2_1979_2010.nc\")['o2'].data\n",
       "     6    142.3 MiB      4.3 MiB           1       fh.variables_dictionary[\"oxygen_L3\"] = xr.open_dataset(\"C:\\\\Users\\\\julesl\\\\Documents (Local)\\\\JupyterLabWorkspace\\\\\\Data\\\\Concat\\\\SP\\\\MFCat_sp_2x30d_interim_historic_O2_L2_1979_2010.nc\")['o2'].data\n",
       "     7                                         \n",
       "     8                                             #TEMPERATURE\n",
       "     9                                             #xr_ds_sst = xr.open_dataset(\"C:\\\\Users\\\\julesl\\\\Documents (Local)\\\\JupyterLabWorkspace\\\\\\Data\\\\Concat\\\\SP\\\\MFCat_sp_2x30d_interim_historic_sst_1979_2010.nc\")\n",
       "    10    146.0 MiB      3.8 MiB           1       fh.variables_dictionary[\"temperature_L1\"] = xr.open_dataset(\"C:\\\\Users\\\\julesl\\\\Documents (Local)\\\\JupyterLabWorkspace\\\\\\Data\\\\Concat\\\\SP\\\\MFCat_sp_2x30d_interim_historic_sst_1979_2010.nc\")['sst'].data\n",
       "    11    149.8 MiB      3.8 MiB           1       fh.variables_dictionary[\"temperature_L2\"] = xr.open_dataset(\"C:\\\\Users\\\\julesl\\\\Documents (Local)\\\\JupyterLabWorkspace\\\\\\Data\\\\Concat\\\\SP\\\\MFCat_sp_2x30d_interim_historic_sst_1979_2010.nc\")['sst'].data\n",
       "    12    153.5 MiB      3.8 MiB           1       fh.variables_dictionary[\"temperature_L3\"] = xr.open_dataset(\"C:\\\\Users\\\\julesl\\\\Documents (Local)\\\\JupyterLabWorkspace\\\\\\Data\\\\Concat\\\\SP\\\\MFCat_sp_2x30d_interim_historic_sst_1979_2010.nc\")['sst'].data\n",
       "    13                                         \n",
       "    14                                             # FORAGE\n",
       "    15    157.3 MiB      3.8 MiB           1       fh.variables_dictionary[\"forage_epi\"]     = xr.open_dataset(\"C:\\\\Users\\\\julesl\\\\Documents (Local)\\\\JupyterLabWorkspace\\\\\\Data\\\\Concat\\\\SP\\\\MFCat_sp_2x30d_Fbiom_epi_1979_2010.nc\")['epi'].data\n",
       "    16    161.0 MiB      3.8 MiB           1       fh.variables_dictionary[\"forage_meso\"]    = xr.open_dataset(\"C:\\\\Users\\\\julesl\\\\Documents (Local)\\\\JupyterLabWorkspace\\\\\\Data\\\\Concat\\\\SP\\\\MFCat_sp_2x30d_Fbiom_mmeso_1979_2010.nc\")['mmeso'].data\n",
       "    17    164.8 MiB      3.8 MiB           1       fh.variables_dictionary[\"forage_mmeso\"]   = xr.open_dataset(\"C:\\\\Users\\\\julesl\\\\Documents (Local)\\\\JupyterLabWorkspace\\\\\\Data\\\\Concat\\\\SP\\\\MFCat_sp_2x30d_Fbiom_mmeso_1979_2010.nc\")['mmeso'].data\n",
       "    18    168.6 MiB      3.8 MiB           1       fh.variables_dictionary[\"forage_bathy\"]   = xr.open_dataset(\"C:\\\\Users\\\\julesl\\\\Documents (Local)\\\\JupyterLabWorkspace\\\\\\Data\\\\Concat\\\\SP\\\\MFCat_sp_2x30d_Fbiom_hmbathy_1979_2010.nc\")['hmbathy'].data\n",
       "    19    172.3 MiB      3.8 MiB           1       fh.variables_dictionary[\"forage_mbathy\"]  = xr.open_dataset(\"C:\\\\Users\\\\julesl\\\\Documents (Local)\\\\JupyterLabWorkspace\\\\\\Data\\\\Concat\\\\SP\\\\MFCat_sp_2x30d_Fbiom_hmbathy_1979_2010.nc\")['hmbathy'].data\n",
       "    20    176.1 MiB      3.8 MiB           1       fh.variables_dictionary[\"forage_hmbathy\"] = xr.open_dataset(\"C:\\\\Users\\\\julesl\\\\Documents (Local)\\\\JupyterLabWorkspace\\\\\\Data\\\\Concat\\\\SP\\\\MFCat_sp_2x30d_Fbiom_hmbathy_1979_2010.nc\")['hmbathy'].data\n",
       "    21                                         \n",
       "    22                                             #L/W\n",
       "    23    176.1 MiB      0.0 MiB           1       fh.variables_dictionary['cohorts_mean_weight'] = np.arange(1.0,2.1,0.1)\n",
       "    24    176.1 MiB      0.0 MiB           1       fh.variables_dictionary['cohorts_mean_length'] = np.arange(1.0,2.1,0.1)\n",
       "    25                                         \n",
       "    26                                             #OTHERS\n",
       "    27    179.4 MiB      3.4 MiB           1       fh.daysLength(model=xr.open_dataset(\"C:\\\\Users\\\\julesl\\\\Documents (Local)\\\\JupyterLabWorkspace\\\\\\Data\\\\Concat\\\\SP\\\\MFCat_sp_2x30d_interim_historic_sst_1979_2010.nc\"))\n",
       "    28                                             #fh.global_mask=np.isfinite(xr_ds_o2['o2'].data)\n",
       "    29    183.2 MiB      3.8 MiB           1       fh.setMask()"
      ]
     },
     "metadata": {},
     "output_type": "display_data"
    }
   ],
   "source": [
    "from mprun_tmp import init\n",
    "%mprun -f init init(xr, fh,np)"
   ]
  },
  {
   "cell_type": "code",
   "execution_count": 5,
   "metadata": {},
   "outputs": [
    {
     "name": "stdout",
     "output_type": "stream",
     "text": [
      "Temperature\n",
      "Oxygen\n",
      "Forage\n"
     ]
    }
   ],
   "source": [
    "result_ha = fh.Ha(fpc=[1.0,1.0,1.0,1.0,1.0,1.0], gamma=0.0001, o_star=3.4, sigma_0=1.0, sigma_K=2.0, T_star_1=28.0, T_star_K=24.0, bT=2.0)"
   ]
  },
  {
   "cell_type": "code",
   "execution_count": 6,
   "metadata": {},
   "outputs": [
    {
     "data": {
      "text/plain": [
       "(1, 384, 32, 80)"
      ]
     },
     "execution_count": 6,
     "metadata": {},
     "output_type": "execute_result"
    }
   ],
   "source": [
    "result_ha.shape"
   ]
  },
  {
   "cell_type": "code",
   "execution_count": 9,
   "metadata": {},
   "outputs": [
    {
     "data": {
      "text/plain": [
       "3932160"
      ]
     },
     "execution_count": 9,
     "metadata": {},
     "output_type": "execute_result"
    }
   ],
   "source": [
    "result_ha.nbytes"
   ]
  },
  {
   "cell_type": "code",
   "execution_count": 7,
   "metadata": {},
   "outputs": [
    {
     "name": "stdout",
     "output_type": "stream",
     "text": [
      "Temperature\n",
      "Oxygen\n",
      "Forage\n",
      "\n"
     ]
    },
    {
     "data": {
      "text/plain": [
       "Filename: C:\\Users\\julesl\\Documents (Local)\\JupyterLabWorkspace\\Library\\FeedingHabitat\\feedingHabitat.py\n",
       "\n",
       "Line #    Mem usage    Increment  Occurences   Line Contents\n",
       "============================================================\n",
       "   318    186.4 MiB    186.4 MiB           1       def Ha(self, fpc, gamma, o_star, sigma_0, sigma_K, T_star_1, T_star_K, bT) :\n",
       "   319                                                 \n",
       "   320                                                 # TEMPERATURE #########################################################\n",
       "   321    186.4 MiB      0.0 MiB           1           print('Temperature')\n",
       "   322    197.6 MiB     11.3 MiB           1           ha_result = self.temperature(sigma_0, sigma_K, T_star_1, T_star_K, bT)\n",
       "   323                                                 \n",
       "   324                                                 # OXYGEN ##############################################################\n",
       "   325    197.6 MiB      0.0 MiB           1           print('Oxygen')\n",
       "   326    208.9 MiB     11.3 MiB           1           ha_oxygen = self.oxygen(gamma, o_star)\n",
       "   327    208.9 MiB      0.0 MiB           1           if self.partial_oxygen_time_axis :\n",
       "   328                                                     buffer = []\n",
       "   329                                                     for time_unit in range(ha_result.shape[2]) :\n",
       "   330                                                         buffer.append(ha_result[:,:,time_unit,:,:] * ha_oxygen[:,:,time_unit % ha_oxygen.shape[2],:,:])\n",
       "   331                                                     ha_result = np.transpose(np.array(buffer),(1,2,0,3,4)) \n",
       "   332                                                     del buffer\n",
       "   333                                                 else :\n",
       "   334    208.9 MiB      0.0 MiB           1               ha_result *= ha_oxygen\n",
       "   335                                                 \n",
       "   336    197.6 MiB    -11.3 MiB           1           del ha_oxygen\n",
       "   337                                         \n",
       "   338                                                 # FORAGE ##############################################################    \n",
       "   339    197.6 MiB      0.0 MiB           1           print('Forage')\n",
       "   340    207.9 MiB     10.3 MiB           1           ha_forage = self.forage(fpc)\n",
       "   341    207.9 MiB      0.0 MiB           1           ha_result *= ha_forage[np.newaxis, :, :, :, :]\n",
       "   342    200.4 MiB     -7.5 MiB           1           ha_result = np.sum(ha_result, axis=1)\n",
       "   343                                                 \n",
       "   344    189.2 MiB    -11.3 MiB           1           del ha_forage\n",
       "   345                                         \n",
       "   346    189.2 MiB      0.0 MiB           1           return ha_result"
      ]
     },
     "metadata": {},
     "output_type": "display_data"
    }
   ],
   "source": [
    "%mprun -f fh.Ha fh.Ha(fpc=[1.0,1.0,1.0,1.0,1.0,1.0], gamma=0.0001, o_star=3.4, sigma_0=1.0, sigma_K=2.0, T_star_1=28.0, T_star_K=24.0, bT=2.0)"
   ]
  },
  {
   "cell_type": "markdown",
   "metadata": {},
   "source": [
    "----\n",
    "----\n",
    "----\n",
    "# Testing multi mask computation\n",
    "----\n",
    "----"
   ]
  },
  {
   "cell_type": "code",
   "execution_count": null,
   "metadata": {},
   "outputs": [],
   "source": [
    "fh.variables_dictionary[\"forage_bathy\"] = np.full_like(fh.variables_dictionary[\"forage_bathy\"], np.NaN)\n",
    "fh.variables_dictionary[\"temperature_L2\"] = fh.variables_dictionary[\"oxygen_L2\"]\n",
    "fh.variables_dictionary[\"temperature_L3\"] = fh.variables_dictionary[\"forage_bathy\"]\n",
    "fh.variables_dictionary[\"oxygen_L3\"] = fh.variables_dictionary[\"forage_bathy\"]"
   ]
  },
  {
   "cell_type": "code",
   "execution_count": null,
   "metadata": {},
   "outputs": [],
   "source": [
    "fh.setMask()\n",
    "[np.sum(fh.global_mask == 0),\n",
    " np.sum(fh.global_mask == 1),\n",
    " np.sum(fh.global_mask == 2),\n",
    " np.sum(fh.global_mask == 3),\n",
    " [np.sum((fh.global_mask == 1) | (fh.global_mask == 2) | (fh.global_mask == 3)),\n",
    " np.sum((fh.global_mask == 2) | (fh.global_mask == 3)),\n",
    " np.sum(fh.global_mask == 3)]]"
   ]
  },
  {
   "cell_type": "code",
   "execution_count": null,
   "metadata": {},
   "outputs": [],
   "source": [
    "fh.variables_dictionary[\"temperature_L3\"] = fh.variables_dictionary[\"temperature_L2\"]\n",
    "fh.variables_dictionary[\"temperature_L3\"] = np.where(fh.variables_dictionary[\"temperature_L3\"]<3.0, np.NaN, fh.variables_dictionary[\"temperature_L3\"])"
   ]
  },
  {
   "cell_type": "code",
   "execution_count": null,
   "metadata": {},
   "outputs": [],
   "source": [
    "fh.setMask()\n",
    "[np.sum(fh.global_mask == 0),\n",
    " np.sum(fh.global_mask == 1),\n",
    " np.sum(fh.global_mask == 2),\n",
    " np.sum(fh.global_mask == 3),\n",
    " [np.sum((fh.global_mask == 1) | (fh.global_mask == 2) | (fh.global_mask == 3)),\n",
    " np.sum((fh.global_mask == 2) | (fh.global_mask == 3)),\n",
    " np.sum(fh.global_mask == 3)]]"
   ]
  },
  {
   "cell_type": "code",
   "execution_count": null,
   "metadata": {},
   "outputs": [],
   "source": [
    "masks  = {\"temperature_L1\" : ((fh.global_mask == 1) + (fh.global_mask == 2) + (fh.global_mask == 3)),\n",
    "          \"temperature_L2\" : ((fh.global_mask == 2) + (fh.global_mask == 3)),\n",
    "          \"temperature_L3\" : (fh.global_mask == 3)}"
   ]
  },
  {
   "cell_type": "code",
   "execution_count": null,
   "metadata": {},
   "outputs": [],
   "source": [
    "np.sum(masks[\"temperature_L1\"])"
   ]
  },
  {
   "cell_type": "code",
   "execution_count": null,
   "metadata": {},
   "outputs": [],
   "source": [
    "np.sum(masks[\"temperature_L2\"])"
   ]
  },
  {
   "cell_type": "code",
   "execution_count": null,
   "metadata": {},
   "outputs": [],
   "source": [
    "np.sum(masks[\"temperature_L3\"])"
   ]
  },
  {
   "cell_type": "markdown",
   "metadata": {},
   "source": [
    "## Temperature"
   ]
  },
  {
   "cell_type": "raw",
   "metadata": {},
   "source": [
    "fh.temperature(sigma_0=1.0, sigma_K=1.0, T_star_1=1.0, T_star_K=1.0, bT=1.0)"
   ]
  }
 ],
 "metadata": {
  "kernelspec": {
   "display_name": "Python 3",
   "language": "python",
   "name": "python3"
  },
  "language_info": {
   "codemirror_mode": {
    "name": "ipython",
    "version": 3
   },
   "file_extension": ".py",
   "mimetype": "text/x-python",
   "name": "python",
   "nbconvert_exporter": "python",
   "pygments_lexer": "ipython3",
   "version": "3.8.5"
  }
 },
 "nbformat": 4,
 "nbformat_minor": 4
}

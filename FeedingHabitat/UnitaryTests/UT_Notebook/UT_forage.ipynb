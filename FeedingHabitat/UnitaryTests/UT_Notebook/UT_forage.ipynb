{
 "cells": [
  {
   "cell_type": "code",
   "execution_count": 1,
   "metadata": {},
   "outputs": [],
   "source": [
    "from sys import path\n",
    "import matplotlib.pyplot as plt\n",
    "import xarray as xr\n",
    "import numpy as np\n",
    "import pandas as pd\n",
    "import math\n",
    "\n",
    "if not (\"C:\\\\Users\\\\julesl\\\\Documents (Local)\\\\JupyterLabWorkspace\\\\Library\\\\\" in path) :\n",
    "    path.append(\"C:\\\\Users\\\\julesl\\\\Documents (Local)\\\\JupyterLabWorkspace\\\\Library\\\\\")\n",
    "\n",
    "from FeedingHabitat.feedingHabitat import FeedingHabitat\n",
    "%load_ext memory_profiler"
   ]
  },
  {
   "cell_type": "code",
   "execution_count": 2,
   "metadata": {},
   "outputs": [],
   "source": [
    "fh = FeedingHabitat()"
   ]
  },
  {
   "cell_type": "markdown",
   "metadata": {},
   "source": [
    "## **Real DATA**"
   ]
  },
  {
   "cell_type": "code",
   "execution_count": 3,
   "metadata": {},
   "outputs": [],
   "source": [
    "xr_ds_o2 = xr.open_dataset(\"C:\\\\Users\\\\julesl\\\\Documents (Local)\\\\JupyterLabWorkspace\\\\\\Data\\\\Concat\\\\SP\\\\MFCat_sp_2x30d_interim_historic_O2_L2_1979_2010.nc\")\n",
    "fh.coords = xr_ds_o2.coords\n",
    "fh.variables_dictionary[\"forage_epi\"]     = xr.open_dataset(\"C:\\\\Users\\\\julesl\\\\Documents (Local)\\\\JupyterLabWorkspace\\\\\\Data\\\\Concat\\\\SP\\\\MFCat_sp_2x30d_Fbiom_epi_1979_2010.nc\")['epi'].data\n",
    "fh.variables_dictionary[\"forage_meso\"]    = xr.open_dataset(\"C:\\\\Users\\\\julesl\\\\Documents (Local)\\\\JupyterLabWorkspace\\\\\\Data\\\\Concat\\\\SP\\\\MFCat_sp_2x30d_Fbiom_mmeso_1979_2010.nc\")['mmeso'].data\n",
    "fh.variables_dictionary[\"forage_mmeso\"]   = xr.open_dataset(\"C:\\\\Users\\\\julesl\\\\Documents (Local)\\\\JupyterLabWorkspace\\\\\\Data\\\\Concat\\\\SP\\\\MFCat_sp_2x30d_Fbiom_mmeso_1979_2010.nc\")['mmeso'].data\n",
    "fh.variables_dictionary[\"forage_bathy\"]   = xr.open_dataset(\"C:\\\\Users\\\\julesl\\\\Documents (Local)\\\\JupyterLabWorkspace\\\\\\Data\\\\Concat\\\\SP\\\\MFCat_sp_2x30d_Fbiom_hmbathy_1979_2010.nc\")['hmbathy'].data\n",
    "fh.variables_dictionary[\"forage_mbathy\"]  = xr.open_dataset(\"C:\\\\Users\\\\julesl\\\\Documents (Local)\\\\JupyterLabWorkspace\\\\\\Data\\\\Concat\\\\SP\\\\MFCat_sp_2x30d_Fbiom_hmbathy_1979_2010.nc\")['hmbathy'].data\n",
    "fh.variables_dictionary[\"forage_hmbathy\"] = xr.open_dataset(\"C:\\\\Users\\\\julesl\\\\Documents (Local)\\\\JupyterLabWorkspace\\\\\\Data\\\\Concat\\\\SP\\\\MFCat_sp_2x30d_Fbiom_hmbathy_1979_2010.nc\")['hmbathy'].data\n",
    "\n",
    "xr_ds_sst = xr.open_dataset(\"C:\\\\Users\\\\julesl\\\\Documents (Local)\\\\JupyterLabWorkspace\\\\\\Data\\\\Concat\\\\SP\\\\MFCat_sp_2x30d_interim_historic_sst_1979_2010.nc\")\n",
    "\n",
    "fh.variables_dictionary[\"temperature_L1\"] = fh.variables_dictionary[\"forage_epi\"]\n",
    "fh.variables_dictionary[\"temperature_L2\"] = fh.variables_dictionary[\"forage_meso\"]\n",
    "fh.variables_dictionary[\"temperature_L3\"] = fh.variables_dictionary[\"forage_bathy\"]\n",
    "\n",
    "\n",
    "fh.daysLength(model=xr.open_dataset(\"C:\\\\Users\\\\julesl\\\\Documents (Local)\\\\JupyterLabWorkspace\\\\\\Data\\\\Concat\\\\SP\\\\MFCat_sp_2x30d_Fbiom_epi_1979_2010.nc\"))\n",
    "fh.setMask()"
   ]
  },
  {
   "cell_type": "code",
   "execution_count": 5,
   "metadata": {},
   "outputs": [
    {
     "name": "stdout",
     "output_type": "stream",
     "text": [
      "Wall time: 96.8 ms\n"
     ]
    }
   ],
   "source": [
    "%%time\n",
    "results = fh.forage([1.0,1.0,1.0,1.0,1.0,1.0])"
   ]
  },
  {
   "cell_type": "code",
   "execution_count": 6,
   "metadata": {},
   "outputs": [
    {
     "data": {
      "text/plain": [
       "(3, 384, 32, 80)"
      ]
     },
     "execution_count": 6,
     "metadata": {},
     "output_type": "execute_result"
    }
   ],
   "source": [
    "results.shape"
   ]
  },
  {
   "cell_type": "code",
   "execution_count": 9,
   "metadata": {},
   "outputs": [
    {
     "data": {
      "text/plain": [
       "1.0"
      ]
     },
     "execution_count": 9,
     "metadata": {},
     "output_type": "execute_result"
    }
   ],
   "source": [
    "access[:,0,10,40]"
   ]
  },
  {
   "cell_type": "code",
   "execution_count": 8,
   "metadata": {},
   "outputs": [
    {
     "data": {
      "text/plain": [
       "array([0.42793524, 0.6035516 , 0.86696815], dtype=float32)"
      ]
     },
     "execution_count": 8,
     "metadata": {},
     "output_type": "execute_result"
    }
   ],
   "source": [
    "results[:,0,10,40]"
   ]
  },
  {
   "cell_type": "raw",
   "metadata": {},
   "source": [
    "%mprun -f fh.forage fh.forage([1.0,1.0,1.0,1.0,1.0,1.0])"
   ]
  },
  {
   "cell_type": "raw",
   "metadata": {},
   "source": [
    "Filename: C:\\Users\\julesl\\Documents (Local)\\JupyterLabWorkspace\\Library\\FeedingHabitat\\feedingHabitat.py\n",
    "\n",
    "Line #    Mem usage    Increment  Occurences   Line Contents\n",
    "============================================================\n",
    "   273    172.6 MiB    172.6 MiB           1       def forage(self, forage_preference_coefficients) :\n",
    "   274    172.6 MiB      0.0 MiB           1           print('init')\n",
    "   275                                                 # Initialization\n",
    "   276    172.6 MiB      0.0 MiB           1           days_length = self.variables_dictionary['days_length']\n",
    "   277                                                 #TODO : Erreur ici\n",
    "   278    176.3 MiB      3.8 MiB           1           night_length = np.ones_like(days_length) - days_length\n",
    "   279    176.3 MiB      0.0 MiB           1           print('l1')\n",
    "   280                                                 #L1 ###################################################################\n",
    "   281    181.0 MiB      4.7 MiB           1           epi     = np.nan_to_num(self.variables_dictionary[\"forage_epi\"]     * forage_preference_coefficients[0])\n",
    "   282    183.8 MiB      2.8 MiB           1           mmeso   = np.nan_to_num(self.variables_dictionary[\"forage_mmeso\"]   * forage_preference_coefficients[2])\n",
    "   283    188.5 MiB      4.7 MiB           1           hmbathy = np.nan_to_num(self.variables_dictionary[\"forage_hmbathy\"] * forage_preference_coefficients[5])\n",
    "   284                                                 \n",
    "   285    192.3 MiB      3.8 MiB           1           day_l1  = days_length * epi\n",
    "   286    196.0 MiB      3.8 MiB           1           night_l1  = night_length * (epi + mmeso + hmbathy)\n",
    "   287                                                 \n",
    "   288    199.8 MiB      3.8 MiB           1           tmp_L1 = np.add(day_l1, night_l1, out=np.full_like(days_length, np.NaN), where=self.global_mask['mask_L1'])\n",
    "   289    188.5 MiB    -11.3 MiB           1           del epi, day_l1, night_l1\n",
    "   290    188.5 MiB      0.0 MiB           1           print('l2')\n",
    "   291                                                 #L2 ###################################################################\n",
    "   292    191.3 MiB      2.8 MiB           1           meso    = np.nan_to_num(self.variables_dictionary[\"forage_meso\"]    * forage_preference_coefficients[1])\n",
    "   293    196.0 MiB      4.7 MiB           1           mbathy  = np.nan_to_num(self.variables_dictionary[\"forage_mbathy\"]  * forage_preference_coefficients[4])\n",
    "   294                                                 \n",
    "   295    199.8 MiB      3.8 MiB           1           day_l2  = days_length * (meso + mmeso)\n",
    "   296    203.6 MiB      3.8 MiB           1           night_l2  = night_length * (meso + mbathy)\n",
    "   297                                                 \n",
    "   298    207.3 MiB      3.8 MiB           1           tmp_L2 = np.add(day_l2, night_l2, out=np.full_like(days_length, np.NaN), where=self.global_mask['mask_L2'])\n",
    "   299    192.3 MiB    -15.0 MiB           1           del meso, mmeso, day_l2, night_l2\n",
    "   300    192.3 MiB      0.0 MiB           1           print('l3')\n",
    "   301                                                 #L3 ###################################################################\n",
    "   302    195.1 MiB      2.8 MiB           1           bathy   = np.nan_to_num(self.variables_dictionary[\"forage_bathy\"]   * forage_preference_coefficients[3])\n",
    "   303                                                 \n",
    "   304    198.9 MiB      3.8 MiB           1           day_l3  = days_length * (bathy + mbathy + hmbathy)\n",
    "   305    202.6 MiB      3.8 MiB           1           night_l3  = night_length * (bathy)\n",
    "   306                                                 \n",
    "   307    206.4 MiB      3.8 MiB           1           tmp_L3 = np.add(day_l3, night_l3, out=np.full_like(days_length, np.NaN), where=self.global_mask['mask_L3'])\n",
    "   308    183.8 MiB    -22.5 MiB           1           del bathy, mbathy, hmbathy, day_l3, night_l3, night_length\n",
    "   309    183.8 MiB      0.0 MiB           1           print('result')\n",
    "   310                                                 # Result ##############################################################\n",
    "   311    195.1 MiB     11.3 MiB           1           result = np.array([tmp_L1, tmp_L2, tmp_L3])\n",
    "   312    183.8 MiB    -11.3 MiB           1           del tmp_L1, tmp_L2, tmp_L3\n",
    "   313    183.8 MiB      0.0 MiB           1           return result\n"
   ]
  }
 ],
 "metadata": {
  "kernelspec": {
   "display_name": "Python 3",
   "language": "python",
   "name": "python3"
  },
  "language_info": {
   "codemirror_mode": {
    "name": "ipython",
    "version": 3
   },
   "file_extension": ".py",
   "mimetype": "text/x-python",
   "name": "python",
   "nbconvert_exporter": "python",
   "pygments_lexer": "ipython3",
   "version": "3.8.5"
  }
 },
 "nbformat": 4,
 "nbformat_minor": 4
}

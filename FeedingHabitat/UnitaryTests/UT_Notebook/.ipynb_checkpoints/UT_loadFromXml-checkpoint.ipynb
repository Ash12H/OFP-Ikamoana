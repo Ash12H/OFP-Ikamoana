{
 "cells": [
  {
   "cell_type": "code",
   "execution_count": 4,
   "metadata": {},
   "outputs": [],
   "source": [
    "from sys import path\n",
    "import numpy as np\n",
    "\n",
    "if not (\"./../../\" in path) :\n",
    "    path.append(\"./../../\")\n",
    "    \n",
    "from feedingHabitat import FeedingHabitat"
   ]
  },
  {
   "cell_type": "code",
   "execution_count": 5,
   "metadata": {},
   "outputs": [],
   "source": [
    "fh = FeedingHabitat()"
   ]
  },
  {
   "cell_type": "code",
   "execution_count": 10,
   "metadata": {},
   "outputs": [],
   "source": [
    "xmlPath = './../../Data_Test/skj_po_interim_2deg_configuration_file.xml'"
   ]
  },
  {
   "cell_type": "code",
   "execution_count": 11,
   "metadata": {},
   "outputs": [],
   "source": [
    "fh.loadFromXml(xmlPath)"
   ]
  },
  {
   "cell_type": "code",
   "execution_count": 19,
   "metadata": {
    "tags": []
   },
   "outputs": [
    {
     "name": "stdout",
     "output_type": "stream",
     "text": [
      "forage_epi  :  <class 'numpy.ndarray'>\n",
      "forage_meso  :  <class 'numpy.ndarray'>\n",
      "forage_mmeso  :  <class 'numpy.ndarray'>\n",
      "forage_bathy  :  <class 'numpy.ndarray'>\n",
      "forage_mbathy  :  <class 'numpy.ndarray'>\n",
      "forage_hmbathy  :  <class 'numpy.ndarray'>\n",
      "temperature_L1  :  <class 'numpy.ndarray'>\n",
      "temperature_L2  :  <class 'numpy.ndarray'>\n",
      "temperature_L3  :  <class 'numpy.ndarray'>\n",
      "oxygen_L1  :  <class 'numpy.ndarray'>\n",
      "oxygen_L2  :  <class 'numpy.ndarray'>\n",
      "oxygen_L3  :  <class 'numpy.ndarray'>\n",
      "days_length  :  <class 'xarray.core.dataarray.DataArray'>\n",
      "cohorts_mean_length  :  <class 'numpy.ndarray'>\n",
      "cohorts_mean_weight  :  <class 'numpy.ndarray'>\n"
     ]
    }
   ],
   "source": [
    "for key, value in fh.variables_dictionary.items() :\n",
    "    print(key, ' : ' ,type(value))"
   ]
  },
  {
   "cell_type": "code",
   "execution_count": 20,
   "metadata": {},
   "outputs": [
    {
     "data": {
      "text/plain": [
       "{'eF_list': [3.999907116416026,\n",
       "  0.05,\n",
       "  0.897307278945509,\n",
       "  0.0,\n",
       "  0.0,\n",
       "  3.999946416753347],\n",
       " 'sigma_0': 1.492626509052,\n",
       " 'sigma_K': 3.00000257690523,\n",
       " 'T_star_1': 31.09996321152416,\n",
       " 'T_star_K': 26.04960048814059,\n",
       " 'bT': 2.83057972721579,\n",
       " 'gamma': 0.0001000000005808978,\n",
       " 'o_star': 3.764163854561827}"
      ]
     },
     "execution_count": 20,
     "metadata": {},
     "output_type": "execute_result"
    }
   ],
   "source": [
    "fh.parameters_dictionary"
   ]
  }
 ],
 "metadata": {
  "kernelspec": {
   "display_name": "Python 3",
   "language": "python",
   "name": "python3"
  },
  "language_info": {
   "codemirror_mode": {
    "name": "ipython",
    "version": 3
   },
   "file_extension": ".py",
   "mimetype": "text/x-python",
   "name": "python",
   "nbconvert_exporter": "python",
   "pygments_lexer": "ipython3",
   "version": "3.8.5"
  }
 },
 "nbformat": 4,
 "nbformat_minor": 4
}

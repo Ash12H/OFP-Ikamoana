{
 "cells": [
  {
   "cell_type": "code",
   "execution_count": 1,
   "metadata": {},
   "outputs": [],
   "source": [
    "from sys import path\n",
    "import matplotlib.pyplot as plt\n",
    "import xarray as xr\n",
    "import numpy as np\n",
    "import pandas as pd\n",
    "import math\n",
    "\n",
    "if not (\"C:\\\\Users\\\\julesl\\\\Documents (Local)\\\\JupyterLabWorkspace\\\\Library\\\\\" in path) :\n",
    "    path.append(\"C:\\\\Users\\\\julesl\\\\Documents (Local)\\\\JupyterLabWorkspace\\\\Library\\\\\")\n",
    "\n",
    "from FeedingHabitat.feedingHabitat import FeedingHabitat\n",
    "%load_ext memory_profiler"
   ]
  },
  {
   "cell_type": "code",
   "execution_count": 2,
   "metadata": {},
   "outputs": [],
   "source": [
    "fh = FeedingHabitat()\n",
    "fh.cohorts_number = 1"
   ]
  },
  {
   "cell_type": "code",
   "execution_count": 3,
   "metadata": {},
   "outputs": [],
   "source": [
    "min, max = 0.0,10.0\n",
    "fh.variables_dictionary[\"oxygen_L1\"] = np.ndarray((1,2,2), buffer=np.arange(min, max))\n",
    "fh.variables_dictionary[\"oxygen_L2\"] = np.ndarray((1,2,2), buffer=np.arange(min+1, max+1))\n",
    "fh.variables_dictionary[\"oxygen_L3\"] = np.ndarray((1,2,2), buffer=np.arange(min+2, max+2))\n",
    "\n",
    "fh.variables_dictionary[\"temperature_L1\"] = fh.variables_dictionary[\"oxygen_L1\"] \n",
    "fh.variables_dictionary[\"temperature_L2\"] = fh.variables_dictionary[\"oxygen_L2\"]\n",
    "fh.variables_dictionary[\"temperature_L3\"] = fh.variables_dictionary[\"oxygen_L3\"]"
   ]
  },
  {
   "cell_type": "code",
   "execution_count": 4,
   "metadata": {},
   "outputs": [
    {
     "name": "stdout",
     "output_type": "stream",
     "text": [
      "[[[0. 1.]\n",
      "  [2. 3.]]]\n",
      "[[[1. 2.]\n",
      "  [3. 4.]]]\n",
      "[[[2. 3.]\n",
      "  [4. 5.]]]\n"
     ]
    }
   ],
   "source": [
    "print(fh.variables_dictionary[\"oxygen_L1\"])\n",
    "print(fh.variables_dictionary[\"oxygen_L2\"])\n",
    "print(fh.variables_dictionary[\"oxygen_L3\"])"
   ]
  },
  {
   "cell_type": "code",
   "execution_count": 5,
   "metadata": {},
   "outputs": [],
   "source": [
    "fh.setMask()"
   ]
  },
  {
   "cell_type": "code",
   "execution_count": 6,
   "metadata": {},
   "outputs": [
    {
     "data": {
      "text/plain": [
       "array([[[[[1.0000000e-12, 9.9999999e-09],\n",
       "          [9.9990001e-05, 5.0000000e-01]]],\n",
       "\n",
       "\n",
       "        [[[9.9999999e-09, 9.9990001e-05],\n",
       "          [5.0000000e-01, 9.9990001e-01]]],\n",
       "\n",
       "\n",
       "        [[[9.9990001e-05, 5.0000000e-01],\n",
       "          [9.9990001e-01, 9.9999999e-01]]]]])"
      ]
     },
     "execution_count": 6,
     "metadata": {},
     "output_type": "execute_result"
    }
   ],
   "source": [
    "results = fh.oxygen(0.0001, 3.)\n",
    "results"
   ]
  },
  {
   "cell_type": "code",
   "execution_count": 7,
   "metadata": {},
   "outputs": [
    {
     "data": {
      "text/plain": [
       "(1, 3, 1, 2, 2)"
      ]
     },
     "execution_count": 7,
     "metadata": {},
     "output_type": "execute_result"
    }
   ],
   "source": [
    "results.shape"
   ]
  },
  {
   "cell_type": "markdown",
   "metadata": {},
   "source": [
    "## **Real DATA**"
   ]
  },
  {
   "cell_type": "code",
   "execution_count": 7,
   "metadata": {},
   "outputs": [],
   "source": [
    "xr_ds_o2 = xr.open_dataset(\"C:\\\\Users\\\\julesl\\\\Documents (Local)\\\\JupyterLabWorkspace\\\\\\Data\\\\Concat\\\\SP\\\\MFCat_sp_2x30d_interim_historic_O2_L2_1979_2010.nc\")\n",
    "\n",
    "fh.variables_dictionary[\"oxygen_L1\"] = xr_ds_o2['o2'].data[:12,:,:]\n",
    "fh.variables_dictionary[\"oxygen_L2\"] = xr_ds_o2['o2'].data[:12,:,:]\n",
    "fh.variables_dictionary[\"oxygen_L3\"] = xr_ds_o2['o2'].data[:12,:,:]\n",
    "\n",
    "fh.variables_dictionary[\"temperature_L1\"] = xr_ds_o2['o2'].data\n",
    "fh.variables_dictionary[\"temperature_L2\"] = xr_ds_o2['o2'].data\n",
    "fh.variables_dictionary[\"temperature_L3\"] = xr_ds_o2['o2'].data\n",
    "\n",
    "fh.setMask()\n",
    "fh.partial_oxygen_time_axis = True"
   ]
  },
  {
   "cell_type": "code",
   "execution_count": 21,
   "metadata": {},
   "outputs": [
    {
     "name": "stdout",
     "output_type": "stream",
     "text": [
      "\n"
     ]
    },
    {
     "data": {
      "text/plain": [
       "Filename: C:\\Users\\julesl\\Documents (Local)\\JupyterLabWorkspace\\Library\\FeedingHabitat\\feedingHabitat.py\n",
       "\n",
       "Line #    Mem usage    Increment  Occurences   Line Contents\n",
       "============================================================\n",
       "   475    195.3 MiB    195.3 MiB           1       def oxygen(self, gamma, o_star) :\n",
       "   476                                         \n",
       "   477    195.3 MiB      0.0 MiB           1           layers = [\"oxygen_L1\", \"oxygen_L2\", \"oxygen_L3\"]\n",
       "   478                                                 \n",
       "   479    195.3 MiB      0.0 MiB           1           cohort_buffer = []\n",
       "   480                                                 \n",
       "   481    195.3 MiB      0.0 MiB           1           if self.cohorts_to_compute is None :\n",
       "   482    195.3 MiB      0.0 MiB           1               cohorts_number = self.cohorts_number\n",
       "   483                                                 else :\n",
       "   484                                                     cohorts_number = len(self.cohorts_to_compute)\n",
       "   485    195.5 MiB      0.0 MiB           2           for _ in range(cohorts_number) :\n",
       "   486    195.3 MiB      0.0 MiB           1               layer_buffer = []\n",
       "   487    195.5 MiB      0.0 MiB           4               for layer, mask in zip(layers, self.global_mask.keys()) :\n",
       "   488    195.5 MiB      0.0 MiB           3                   variable = self.variables_dictionary[layer]\n",
       "   489                                                         #Take into account the case where oxygen time serie is shorter\n",
       "   490    195.5 MiB      0.0 MiB          12                   layer_buffer.append(np.where(self.global_mask[mask][:variable.shape[0],\n",
       "   491    195.5 MiB      0.0 MiB           3                                                             :variable.shape[1],\n",
       "   492    195.5 MiB      0.0 MiB           3                                                             :variable.shape[2]],\n",
       "   493    195.5 MiB      0.2 MiB           3                                                1.0 / (1.0 + (gamma**(variable - o_star))),\n",
       "   494    195.5 MiB      0.0 MiB           3                                                0.0))                                           \n",
       "   495    195.5 MiB      0.0 MiB           1               cohort_buffer.append(layer_buffer)\n",
       "   496    195.5 MiB      0.0 MiB           1               del layer_buffer\n",
       "   497                                                     \n",
       "   498    195.5 MiB      0.0 MiB           1           result = np.array(cohort_buffer)\n",
       "   499    195.5 MiB      0.0 MiB           1           del cohort_buffer\n",
       "   500                                                 \n",
       "   501    195.5 MiB      0.0 MiB           1           return result"
      ]
     },
     "metadata": {},
     "output_type": "display_data"
    }
   ],
   "source": [
    "%mprun -f fh.oxygen fh.oxygen(0.0001, 3.)"
   ]
  },
  {
   "cell_type": "code",
   "execution_count": 8,
   "metadata": {},
   "outputs": [],
   "source": [
    "results = fh.oxygen(0.0001, 3.)"
   ]
  },
  {
   "cell_type": "code",
   "execution_count": 9,
   "metadata": {},
   "outputs": [
    {
     "data": {
      "text/plain": [
       "(1, 3, 12, 32, 80)"
      ]
     },
     "execution_count": 9,
     "metadata": {},
     "output_type": "execute_result"
    }
   ],
   "source": [
    "results.shape"
   ]
  },
  {
   "cell_type": "code",
   "execution_count": 10,
   "metadata": {},
   "outputs": [],
   "source": [
    "buffer = []\n",
    "for time_unit in range(fh.variables_dictionary[\"temperature_L1\"].shape[0]) :\n",
    "    buffer.append(results[:,:,time_unit % results.shape[2],:,:])\n",
    "ha_result = np.transpose(np.array(buffer),(1,2,0,3,4))"
   ]
  },
  {
   "cell_type": "code",
   "execution_count": 11,
   "metadata": {},
   "outputs": [
    {
     "data": {
      "text/plain": [
       "(1, 3, 384, 32, 80)"
      ]
     },
     "execution_count": 11,
     "metadata": {},
     "output_type": "execute_result"
    }
   ],
   "source": [
    "ha_result.shape"
   ]
  },
  {
   "cell_type": "code",
   "execution_count": 13,
   "metadata": {},
   "outputs": [
    {
     "data": {
      "text/plain": [
       "(1, 3, 12, 32, 80)"
      ]
     },
     "execution_count": 13,
     "metadata": {},
     "output_type": "execute_result"
    }
   ],
   "source": [
    "results[:,:,:12,:,:].shape"
   ]
  },
  {
   "cell_type": "code",
   "execution_count": 14,
   "metadata": {},
   "outputs": [
    {
     "data": {
      "text/plain": [
       "(1, 3, 12, 32, 80)"
      ]
     },
     "execution_count": 14,
     "metadata": {},
     "output_type": "execute_result"
    }
   ],
   "source": [
    "ha_result[:,:,:12,:,:].shape"
   ]
  },
  {
   "cell_type": "code",
   "execution_count": 21,
   "metadata": {},
   "outputs": [
    {
     "data": {
      "text/plain": [
       "False"
      ]
     },
     "execution_count": 21,
     "metadata": {},
     "output_type": "execute_result"
    }
   ],
   "source": [
    "False in (results[:,:,:,:,:] == ha_result[:,:,12:24,:,:])"
   ]
  },
  {
   "cell_type": "markdown",
   "metadata": {},
   "source": [
    "## **Many cohorts**"
   ]
  },
  {
   "cell_type": "code",
   "execution_count": 5,
   "metadata": {},
   "outputs": [],
   "source": [
    "fh.cohorts_number = 37"
   ]
  },
  {
   "cell_type": "code",
   "execution_count": 6,
   "metadata": {},
   "outputs": [
    {
     "name": "stdout",
     "output_type": "stream",
     "text": [
      "\n"
     ]
    },
    {
     "data": {
      "text/plain": [
       "Filename: C:\\Users\\julesl\\Documents (Local)\\JupyterLabWorkspace\\Library\\FeedingHabitat\\feedingHabitat.py\n",
       "\n",
       "Line #    Mem usage    Increment  Occurences   Line Contents\n",
       "============================================================\n",
       "   243    141.4 MiB    141.4 MiB           1       def oxygen(self, gamma, o_star) :\n",
       "   244                                         \n",
       "   245    141.4 MiB      0.0 MiB           1           layers = [\"oxygen_L1\", \"oxygen_L2\", \"oxygen_L3\"]\n",
       "   246                                                 \n",
       "   247    141.4 MiB      0.0 MiB           1           cohort_buffer = []\n",
       "   248    558.1 MiB      0.0 MiB          38           for cohort in range(self.cohorts_number) :\n",
       "   249    546.8 MiB      0.0 MiB          37               layer_buffer = []\n",
       "   250    558.1 MiB      0.0 MiB         148               for layer, mask in zip(layers, self.global_mask.keys()) :\n",
       "   251    554.4 MiB      0.0 MiB         111                   variable = self.variables_dictionary[layer]\n",
       "   252                                                         #Take into account the case where oxygen time serie is shorter\n",
       "   253    558.1 MiB      0.0 MiB         444                   layer_buffer.append(np.where(self.global_mask[mask][:variable.shape[0],\n",
       "   254    554.4 MiB      0.0 MiB         111                                                             :variable.shape[1],\n",
       "   255    554.4 MiB      0.0 MiB         111                                                             :variable.shape[2]],\n",
       "   256    558.1 MiB    416.7 MiB         111                                                1.0 / (1.0 + (gamma**(variable - o_star))),\n",
       "   257    558.1 MiB      0.0 MiB         111                                                0.0))                                           \n",
       "   258    558.1 MiB      0.0 MiB          37               cohort_buffer.append(layer_buffer)\n",
       "   259    558.1 MiB      0.0 MiB          37               del layer_buffer\n",
       "   260                                                     \n",
       "   261    974.4 MiB    416.3 MiB           1           result = np.array(cohort_buffer)\n",
       "   262    557.7 MiB   -416.7 MiB           1           del cohort_buffer\n",
       "   263                                                 \n",
       "   264    557.7 MiB      0.0 MiB           1           return result"
      ]
     },
     "metadata": {},
     "output_type": "display_data"
    }
   ],
   "source": [
    "%mprun -f fh.oxygen fh.oxygen(0.0001, 3.)"
   ]
  },
  {
   "cell_type": "code",
   "execution_count": 13,
   "metadata": {},
   "outputs": [
    {
     "data": {
      "text/plain": [
       "(37, 3, 384, 32, 80)"
      ]
     },
     "execution_count": 13,
     "metadata": {},
     "output_type": "execute_result"
    }
   ],
   "source": [
    "results.shape"
   ]
  },
  {
   "cell_type": "code",
   "execution_count": 14,
   "metadata": {},
   "outputs": [
    {
     "data": {
      "text/plain": [
       "109117440"
      ]
     },
     "execution_count": 14,
     "metadata": {},
     "output_type": "execute_result"
    }
   ],
   "source": [
    "results.size"
   ]
  },
  {
   "cell_type": "code",
   "execution_count": null,
   "metadata": {},
   "outputs": [],
   "source": []
  }
 ],
 "metadata": {
  "kernelspec": {
   "display_name": "Python 3",
   "language": "python",
   "name": "python3"
  },
  "language_info": {
   "codemirror_mode": {
    "name": "ipython",
    "version": 3
   },
   "file_extension": ".py",
   "mimetype": "text/x-python",
   "name": "python",
   "nbconvert_exporter": "python",
   "pygments_lexer": "ipython3",
   "version": "3.8.5"
  }
 },
 "nbformat": 4,
 "nbformat_minor": 4
}

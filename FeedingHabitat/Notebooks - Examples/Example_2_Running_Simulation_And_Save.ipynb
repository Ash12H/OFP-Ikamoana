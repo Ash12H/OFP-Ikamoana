{
 "cells": [
  {
   "cell_type": "markdown",
   "id": "85f3761e-c060-4406-afc9-2fd7d3b2ede2",
   "metadata": {},
   "source": [
    "# Running Simulation And Save Each Cohort Feeding Habitat\n",
    "\n",
    "## 1. Initialization"
   ]
  },
  {
   "cell_type": "code",
   "execution_count": 1,
   "id": "62a3f232-c0a3-4e49-a8eb-aaa3dbbdd54e",
   "metadata": {},
   "outputs": [],
   "source": [
    "# The path may change if you run this notebooks on your computer #\n",
    "path_to_library = \"./../\"\n",
    "# -------------------------------------------------------------- #\n",
    "\n",
    "import sys\n",
    "if path_to_library not in sys.path :\n",
    "    sys.path.append(path_to_library)\n",
    "    \n",
    "from feedingHabitat import FeedingHabitat\n",
    "\n",
    "fh = FeedingHabitat(xml_filepath=\"./../Data_Test/skj_po_interim_2deg_configuration_file.xml\",\n",
    "                    partial_cohorts_computation=[0])"
   ]
  },
  {
   "cell_type": "markdown",
   "id": "cb653380-c700-40f7-8c20-b57cd7cf9be9",
   "metadata": {},
   "source": [
    "> You can choose which cohort you want to compute the habitat with the `partial_cohorts_computation` argument"
   ]
  },
  {
   "cell_type": "markdown",
   "id": "74a5ef19-e815-4d5c-8d1b-8a97d081f0f2",
   "metadata": {},
   "source": [
    "## 2. Run simulation"
   ]
  },
  {
   "cell_type": "code",
   "execution_count": 2,
   "id": "ee680ab8-de23-44c1-86fd-d2e2384e5db9",
   "metadata": {},
   "outputs": [
    {
     "name": "stdout",
     "output_type": "stream",
     "text": [
      "Files will be saved at : ./output/\n",
      "Computing  forage\n",
      "Computing oxygen\n",
      "Cohort 0 : computing temperature\n",
      "Cohort 0 : saving Ha in NetCDF file\n"
     ]
    }
   ],
   "source": [
    "save_filepath = './output/'\n",
    "\n",
    "fh.computeFeedingHabitat(save_filepath)"
   ]
  }
 ],
 "metadata": {
  "kernelspec": {
   "display_name": "Python 3",
   "language": "python",
   "name": "python3"
  },
  "language_info": {
   "codemirror_mode": {
    "name": "ipython",
    "version": 3
   },
   "file_extension": ".py",
   "mimetype": "text/x-python",
   "name": "python",
   "nbconvert_exporter": "python",
   "pygments_lexer": "ipython3",
   "version": "3.8.5"
  }
 },
 "nbformat": 4,
 "nbformat_minor": 5
}

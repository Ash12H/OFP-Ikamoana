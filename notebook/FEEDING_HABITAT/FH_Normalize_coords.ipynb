{
 "cells": [
  {
   "cell_type": "code",
   "execution_count": 1,
   "id": "7d72ab08",
   "metadata": {},
   "outputs": [],
   "source": [
    "import sys\n",
    "\n",
    "sys.path.append(\"./../../\")"
   ]
  },
  {
   "cell_type": "code",
   "execution_count": 2,
   "metadata": {},
   "outputs": [],
   "source": [
    "import numpy as np\n",
    "\n",
    "import ikamoana"
   ]
  },
  {
   "cell_type": "code",
   "execution_count": 3,
   "metadata": {},
   "outputs": [],
   "source": [
    "xml_filepath = \"./../../data/SEAPODYM_data/run-test/skj_interim_CL_2018_testopt.xml\"\n",
    "fh = ikamoana.feedinghabitat.FeedingHabitat(xml_filepath)"
   ]
  },
  {
   "cell_type": "code",
   "execution_count": 4,
   "metadata": {},
   "outputs": [
    {
     "data": {
      "text/plain": [
       "array(['1979-01-15T00:00:00.000000000', '1979-02-14T00:00:00.000000000',\n",
       "       '1979-03-17T00:00:00.000000000', '1979-04-16T00:00:00.000000000',\n",
       "       '1979-05-17T00:00:00.000000000', '1979-06-16T00:00:00.000000000',\n",
       "       '1979-07-17T00:00:00.000000000', '1979-08-16T00:00:00.000000000',\n",
       "       '1979-09-15T00:00:00.000000000', '1979-10-16T00:00:00.000000000'],\n",
       "      dtype='datetime64[ns]')"
      ]
     },
     "execution_count": 4,
     "metadata": {},
     "output_type": "execute_result"
    }
   ],
   "source": [
    "fh.data_structure.coords[\"time\"].data[:10]"
   ]
  },
  {
   "cell_type": "code",
   "execution_count": 5,
   "metadata": {},
   "outputs": [],
   "source": [
    "sum_before = []\n",
    "for k, v in fh.data_structure.variables_dictionary.items():\n",
    "    sum_before.append(v.sum().data)\n",
    "sum_before = np.array(sum_before)\n",
    "\n",
    "fh.data_structure.normalizeCoords()\n",
    "\n",
    "sum_after = []\n",
    "for k, v in fh.data_structure.variables_dictionary.items():\n",
    "    sum_after.append(v.sum().data)\n",
    "sum_after = np.array(sum_after)\n",
    "\n",
    "assert False not in ((sum_before - sum_after) == 0)"
   ]
  },
  {
   "cell_type": "code",
   "execution_count": 6,
   "metadata": {},
   "outputs": [
    {
     "data": {
      "text/plain": [
       "array(['1979-01-01T00:00:00.000000000', '1979-02-01T00:00:00.000000000',\n",
       "       '1979-03-01T00:00:00.000000000', '1979-04-01T00:00:00.000000000',\n",
       "       '1979-05-01T00:00:00.000000000', '1979-06-01T00:00:00.000000000',\n",
       "       '1979-07-01T00:00:00.000000000', '1979-08-01T00:00:00.000000000',\n",
       "       '1979-09-01T00:00:00.000000000', '1979-10-01T00:00:00.000000000'],\n",
       "      dtype='datetime64[ns]')"
      ]
     },
     "execution_count": 6,
     "metadata": {},
     "output_type": "execute_result"
    }
   ],
   "source": [
    "fh.data_structure.coords[\"time\"].data[:10]"
   ]
  }
 ],
 "metadata": {
  "interpreter": {
   "hash": "37ec2f13ba464e68fd0ed37b53a9616d3f8194c3696da374c2105063a1dc0216"
  },
  "kernelspec": {
   "display_name": "Python 3.9.7 64-bit ('ikamoana': conda)",
   "language": "python",
   "name": "python3"
  },
  "language_info": {
   "codemirror_mode": {
    "name": "ipython",
    "version": 3
   },
   "file_extension": ".py",
   "mimetype": "text/x-python",
   "name": "python",
   "nbconvert_exporter": "python",
   "pygments_lexer": "ipython3",
   "version": "3.9.7"
  },
  "orig_nbformat": 4
 },
 "nbformat": 4,
 "nbformat_minor": 2
}

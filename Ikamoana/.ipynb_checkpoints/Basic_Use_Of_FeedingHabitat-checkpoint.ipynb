{
 "cells": [
  {
   "cell_type": "code",
   "execution_count": 1,
   "id": "d373979f-40e0-48d3-8484-a7c211b57453",
   "metadata": {},
   "outputs": [],
   "source": [
    "import xarray as xr\n",
    "import numpy as np\n",
    "\n",
    "import ikamoana"
   ]
  },
  {
   "cell_type": "code",
   "execution_count": 2,
   "id": "11a23b86-56cd-4fab-a3b0-96d311b8106c",
   "metadata": {
    "tags": []
   },
   "outputs": [],
   "source": [
    "fh = ikamoana.feedinghabitat.FeedingHabitat(xml_filepath=\"./data/skj_po_interim_2deg_configuration_file.xml\")"
   ]
  },
  {
   "cell_type": "code",
   "execution_count": 3,
   "id": "ffe80895-de58-4dc4-afb8-a629febbe481",
   "metadata": {},
   "outputs": [
    {
     "name": "stdout",
     "output_type": "stream",
     "text": [
      "# ------------------------------ #\n",
      "# Summary of this data structure #\n",
      "# ------------------------------ #\n",
      "\n",
      "Root directory is :\t/home/uash/JupyterWorkspace/Library/Ikamoana/data/po_2x30_historical_interim/\n",
      "Output directory is :\t/home/uash/JupyterWorkspace/Library/Ikamoana/data/po_2x30_historical_interim/output/\n",
      "\n",
      "# -------------------------------SPECIES----------------------------- #\n",
      "\n",
      "\n",
      "The short name of the species is skj.\n",
      "There is(are) 3\tlife stages considered in the model which are : ['larvae', 'juvenile', 'adult']\n",
      "\t- There is(are) 1\tcohort(s) in life stage larvae.\n",
      "\t- There is(are) 2\tcohort(s) in life stage juvenile.\n",
      "\t- There is(are) 34\tcohort(s) in life stage adult.\n",
      "\n",
      "Mean length for each cohort is :\n",
      " [ 3.    4.5   7.52 11.65 16.91 21.83 26.43 30.72 34.73 38.49 41.99 45.27\n",
      " 48.33 51.19 53.86 56.36 58.7  60.88 62.92 64.83 66.61 68.27 69.83 71.28\n",
      " 72.64 73.91 75.1  76.21 77.25 78.22 79.12 79.97 80.76 81.5  82.19 82.83\n",
      " 87.96]\n",
      "\n",
      "Mean weight for each cohort is :\n",
      " [ 0.0003   0.00109  0.00571  0.023    0.08     0.18     0.32     0.53\n",
      "  0.78     1.09     1.44     1.84     2.27     2.73     3.21     3.72\n",
      "  4.23     4.76     5.3      5.83     6.36     6.89     7.4      7.91\n",
      "  8.41     8.89     9.36     9.81    10.25    10.66    11.07    11.45\n",
      " 11.82    12.17    12.51    12.83    15.56   ]\n",
      "\n",
      "# -----------------------------PARAMETERS---------------------------- #\n",
      "\n",
      "\n",
      "The parameters used are the following :\n",
      "\t-  eF_list    \t: [3.999907116416026, 0.05, 0.897307278945509, 0.0, 0.0, 3.999946416753347]\n",
      "\t-  sigma_0    \t: 1.492626509052\n",
      "\t-  sigma_K    \t: 3.00000257690523\n",
      "\t-  T_star_1    \t: 31.09996321152416\n",
      "\t-  T_star_K    \t: 26.04960048814059\n",
      "\t-  bT    \t: 2.83057972721579\n",
      "\t-  gamma    \t: 0.0001000000005808978\n",
      "\t-  o_star    \t: 3.764163854561827\n",
      "Reminder : \n",
      "\t- Forage \t-> eF\n",
      "\t- Temperature\t-> sigma, T* and bT\n",
      "\t- Oxygen \t-> gamma and O*\n",
      "\n",
      "# ------------------------------FIELDS------------------------------- #\n",
      "\n",
      "\n",
      "Fields are grouped by coordinates :\n",
      "\n",
      "#\t#\t#\t#\t#\n",
      "Group : ('forage_epi', 'forage_umeso', 'forage_mumeso', 'forage_lmeso', 'forage_mlmeso', 'forage_hmlmeso')\n",
      "Their coordinates are :\n",
      " Coordinates:\n",
      "  * lat      (lat) float32 64.5 62.5 60.5 58.5 56.5 ... -47.5 -49.5 -51.5 -53.5\n",
      "  * lon      (lon) float32 89.5 91.5 93.5 95.5 97.5 ... 283.5 285.5 287.5 289.5\n",
      "  * time     (time) datetime64[ns] 1979-01-15T12:00:00 ... 2010-12-15T12:00:00\n",
      "\n",
      "#\t#\t#\t#\t#\n",
      "Group : ('oxygen_L1', 'oxygen_L2', 'oxygen_L3', 'temperature_L1', 'temperature_L2', 'temperature_L3', 'sst', 'zeu', 'days_length')\n",
      "Their coordinates are :\n",
      " Coordinates:\n",
      "  * lat      (lat) float32 64.5 62.5 60.5 58.5 56.5 ... -47.5 -49.5 -51.5 -53.5\n",
      "  * lon      (lon) float32 89.5 91.5 93.5 95.5 97.5 ... 283.5 285.5 287.5 289.5\n",
      "  * time     (time) datetime64[ns] 1979-01-15T12:00:00 ... 2010-12-16T12:00:00\n",
      "\n",
      "#\t#\t#\t#\t#\n",
      "\n",
      "Day Length is calculated using the main coordinates that are base on temperature (L1) field.\n",
      "\n",
      "#\t#\t#\t#\t#\n",
      "\n",
      "TIPS : The user can use equalCoords() or compareDims() functions to compare Coordinates.\n",
      "\n",
      "# ------------------------------------------------------------------- #\n",
      "\n",
      "\n"
     ]
    }
   ],
   "source": [
    "fh.data_structure.summary()"
   ]
  },
  {
   "cell_type": "code",
   "execution_count": 6,
   "id": "30cc22e5-339c-431a-b91d-e1339643e30e",
   "metadata": {},
   "outputs": [],
   "source": [
    "#print(fh.data_structure.cohorts_to_compute)\n",
    "#print(fh.data_structure.global_mask)\n",
    "#print(fh.data_structure.layers_number)"
   ]
  },
  {
   "cell_type": "code",
   "execution_count": 5,
   "id": "24b5b6a7-f5b5-4ed1-8dc9-5e502d77805c",
   "metadata": {},
   "outputs": [],
   "source": [
    "#fh.data_structure.setCohorts_to_compute([9])\n",
    "#print(fh.data_structure.cohorts_to_compute)\n",
    "#fh.computeFeedingHabitat()"
   ]
  }
 ],
 "metadata": {
  "kernelspec": {
   "display_name": "Python 3 (ipykernel)",
   "language": "python",
   "name": "python3"
  },
  "language_info": {
   "codemirror_mode": {
    "name": "ipython",
    "version": 3
   },
   "file_extension": ".py",
   "mimetype": "text/x-python",
   "name": "python",
   "nbconvert_exporter": "python",
   "pygments_lexer": "ipython3",
   "version": "3.9.7"
  }
 },
 "nbformat": 4,
 "nbformat_minor": 5
}

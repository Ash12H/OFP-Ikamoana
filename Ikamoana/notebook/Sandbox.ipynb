{
 "cells": [
  {
   "cell_type": "code",
   "execution_count": 1,
   "id": "d373979f-40e0-48d3-8484-a7c211b57453",
   "metadata": {},
   "outputs": [],
   "source": [
    "import sys\n",
    "sys.path.append('./../')\n",
    "\n",
    "import ikamoana.fisherieseffort.fisherieseffort as fe\n",
    "from ikamoana.ikamoanafields import ikamoanafields\n",
    "from ikamoana.feedinghabitat import feedinghabitat\n",
    "import xarray as xr\n",
    "import numpy as np"
   ]
  },
  {
   "cell_type": "markdown",
   "metadata": {},
   "source": [
    "## Initialize"
   ]
  },
  {
   "cell_type": "code",
   "execution_count": 3,
   "id": "11a23b86-56cd-4fab-a3b0-96d311b8106c",
   "metadata": {
    "tags": []
   },
   "outputs": [],
   "source": [
    "#xml_filepath=\"./../data/SEAPODYM_data/run-test/skj_interim_CL_2018_testopt.xml\"\n",
    "xml_filepath=\"./../data/SEAPODYM_data/run-test/skj_CLT_e5_3_est.xml\"\n",
    "fisheries_xml_filepath=\"./../data/SEAPODYM_data/run-test/data/fisheries/skj_fisheries_data_2021_Nov17.txt\"\n",
    "\n",
    "fh = feedinghabitat.FeedingHabitat(xml_filepath)\n",
    "ikaf = ikamoanafields.IkamoanaFields(xml_filepath)\n",
    "ikaf.feeding_habitat_structure.data_structure.normalizeCoords()"
   ]
  },
  {
   "cell_type": "code",
   "execution_count": 4,
   "metadata": {},
   "outputs": [],
   "source": [
    "Tx, Ty = ikaf.computeTaxis(0)"
   ]
  },
  {
   "cell_type": "markdown",
   "metadata": {},
   "source": [
    "---\n"
   ]
  },
  {
   "cell_type": "code",
   "execution_count": 71,
   "metadata": {},
   "outputs": [],
   "source": [
    "current_u = feedinghabitat.fhcr.seapodymFieldConstructor(\n",
    "    './../data/SEAPODYM_data/run-test/data/run-interim_2x30d_po/po_interim_historic_2x30d_u_L1_1979_2010.dym')\n",
    "current_v = feedinghabitat.fhcr.seapodymFieldConstructor(\n",
    "    './../data/SEAPODYM_data/run-test/data/run-interim_2x30d_po/po_interim_historic_2x30d_v_L1_1979_2010.dym')\n",
    "habitat = fh.computeFeedingHabitat(0)\n"
   ]
  },
  {
   "cell_type": "code",
   "execution_count": 73,
   "metadata": {},
   "outputs": [
    {
     "name": "stdout",
     "output_type": "stream",
     "text": [
      "Coordinates:\n",
      "  * time     (time) datetime64[ns] 1979-01-15 1979-02-14 ... 2010-12-16\n",
      "  * lat      (lat) float32 64.5 62.5 60.5 58.5 56.5 ... -47.5 -49.5 -51.5 -53.5\n",
      "  * lon      (lon) float32 89.5 91.5 93.5 95.5 97.5 ... 283.5 285.5 287.5 289.5\n",
      "Coordinates:\n",
      "  * time     (time) datetime64[ns] 1979-01-15 1979-02-14 ... 2010-12-16\n",
      "  * lat      (lat) float32 64.5 62.5 60.5 58.5 56.5 ... -47.5 -49.5 -51.5 -53.5\n",
      "  * lon      (lon) float32 89.5 91.5 93.5 95.5 97.5 ... 283.5 285.5 287.5 289.5\n",
      "Coordinates:\n",
      "  * lon      (lon) float32 89.5 91.5 93.5 95.5 97.5 ... 283.5 285.5 287.5 289.5\n",
      "  * lat      (lat) float32 64.5 62.5 60.5 58.5 56.5 ... -47.5 -49.5 -51.5 -53.5\n",
      "  * time     (time) datetime64[ns] 1979-01-15 1979-02-14 ... 2010-12-16\n"
     ]
    }
   ],
   "source": [
    "print(current_u.coords)\n",
    "print(current_v.coords)\n",
    "print(habitat.coords)"
   ]
  }
 ],
 "metadata": {
  "interpreter": {
   "hash": "37ec2f13ba464e68fd0ed37b53a9616d3f8194c3696da374c2105063a1dc0216"
  },
  "kernelspec": {
   "display_name": "Python 3.9.7 64-bit ('ikamoana': conda)",
   "language": "python",
   "name": "python3"
  },
  "language_info": {
   "codemirror_mode": {
    "name": "ipython",
    "version": 3
   },
   "file_extension": ".py",
   "mimetype": "text/x-python",
   "name": "python",
   "nbconvert_exporter": "python",
   "pygments_lexer": "ipython3",
   "version": "3.9.7"
  },
  "orig_nbformat": 4
 },
 "nbformat": 4,
 "nbformat_minor": 2
}

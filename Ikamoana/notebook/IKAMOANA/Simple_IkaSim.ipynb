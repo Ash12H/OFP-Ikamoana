{
 "cells": [
  {
   "cell_type": "code",
   "execution_count": 1,
   "id": "7d72ab08",
   "metadata": {},
   "outputs": [],
   "source": [
    "import sys\n",
    "sys.path.append('./../../')\n",
    "\n",
    "import numpy as np\n",
    "import ikamoana as ika"
   ]
  },
  {
   "cell_type": "code",
   "execution_count": 5,
   "id": "d6d45ac2",
   "metadata": {},
   "outputs": [
    {
     "name": "stdout",
     "output_type": "stream",
     "text": [
      "Warning : This function (correctEpiTempWithVld) was only tested for Skipjack.\n",
      " It will also add +1 to sigma_min. Cf. function documentation for more details.\n"
     ]
    }
   ],
   "source": [
    "#ika_file = 'C:/Users/joes/Dropbox/SPC_2020/OFP-Ikamoana/Ikamoana/ikamoana/IkaSim_Example.xml'\n",
    "ika_file = './../../data/ikamoana_fields_data/IkaSim_Example.xml'\n",
    "\n",
    "IkaTest = ika.ikamoana.IkaSim(ika_file)"
   ]
  },
  {
   "cell_type": "code",
   "execution_count": 8,
   "id": "13744a9c",
   "metadata": {},
   "outputs": [],
   "source": [
    "IkaTest.generateForcing()"
   ]
  },
  {
   "cell_type": "code",
   "execution_count": 9,
   "id": "46aecaf1",
   "metadata": {},
   "outputs": [],
   "source": [
    "IkaTest.createFieldSet()"
   ]
  },
  {
   "cell_type": "code",
   "execution_count": 10,
   "id": "37d0cb88",
   "metadata": {},
   "outputs": [],
   "source": [
    "\n",
    "\n",
    "#Make five IkaFish particles that start in the same position to start with (for a test)\n",
    "N=5\n",
    "#init_pos = [[140]*N,[0]*N]\n",
    "#IkaTest.initialiseFishParticles(start=np.array(init_pos,dtype=np.float32),n_fish=N, pclass=ika.ikafish.ikafish.IkaFish)\n",
    "\n",
    "#Create 5000 particles using the default start field distribution already loaded into the fieldset(start=None)\n",
    "N = 5000\n",
    "IkaTest.initialiseFishParticles(start=None,n_fish=N, pclass=ika.ikafish.ikafish.IkaFish)\n",
    "\n"
   ]
  },
  {
   "cell_type": "code",
   "execution_count": 11,
   "id": "9cd10abd",
   "metadata": {},
   "outputs": [
    {
     "name": "stderr",
     "output_type": "stream",
     "text": [
      "WARNING: u1 declared in multiple Kernels\n",
      "WARNING: v1 declared in multiple Kernels\n",
      "WARNING: lon1 declared in multiple Kernels\n",
      "WARNING: lat1 declared in multiple Kernels\n",
      "WARNING: u2 declared in multiple Kernels\n",
      "WARNING: v2 declared in multiple Kernels\n",
      "WARNING: lon2 declared in multiple Kernels\n",
      "WARNING: lat2 declared in multiple Kernels\n",
      "WARNING: u3 declared in multiple Kernels\n",
      "WARNING: v3 declared in multiple Kernels\n",
      "WARNING: lon3 declared in multiple Kernels\n",
      "WARNING: lat3 declared in multiple Kernels\n",
      "WARNING: u4 declared in multiple Kernels\n",
      "WARNING: v4 declared in multiple Kernels\n",
      "WARNING: u1 declared in multiple Kernels\n",
      "WARNING: v1 declared in multiple Kernels\n",
      "WARNING: lon1 declared in multiple Kernels\n",
      "WARNING: lat1 declared in multiple Kernels\n",
      "WARNING: u2 declared in multiple Kernels\n",
      "WARNING: v2 declared in multiple Kernels\n",
      "WARNING: lon2 declared in multiple Kernels\n",
      "WARNING: lat2 declared in multiple Kernels\n",
      "WARNING: u3 declared in multiple Kernels\n",
      "WARNING: v3 declared in multiple Kernels\n",
      "WARNING: lon3 declared in multiple Kernels\n",
      "WARNING: lat3 declared in multiple Kernels\n",
      "WARNING: u4 declared in multiple Kernels\n",
      "WARNING: v4 declared in multiple Kernels\n",
      "WARNING: u1 declared in multiple Kernels\n",
      "WARNING: v1 declared in multiple Kernels\n",
      "WARNING: lon1 declared in multiple Kernels\n",
      "WARNING: lat1 declared in multiple Kernels\n",
      "WARNING: u2 declared in multiple Kernels\n",
      "WARNING: v2 declared in multiple Kernels\n",
      "WARNING: lon2 declared in multiple Kernels\n",
      "WARNING: lat2 declared in multiple Kernels\n",
      "WARNING: u3 declared in multiple Kernels\n",
      "WARNING: v3 declared in multiple Kernels\n",
      "WARNING: lon3 declared in multiple Kernels\n",
      "WARNING: lat3 declared in multiple Kernels\n",
      "WARNING: u4 declared in multiple Kernels\n",
      "WARNING: v4 declared in multiple Kernels\n",
      "WARNING: Dx declared in multiple Kernels\n",
      "WARNING: Dy declared in multiple Kernels\n",
      "WARNING: Rx declared in multiple Kernels\n",
      "WARNING: Ry declared in multiple Kernels\n",
      "INFO: Compiled ArrayIkaFishCalcLonLatScalersIkAdvectionRK4TaxisRK4RandomWalkNonUniformDiffusionIkaDimMoveWithDiffusionReroll ==> /tmp/parcels-1000/lib2830bde60b5bf5a3b6b28fdcda9b32dd_0.so\n",
      "100% (5184000.0 of 5184000.0) |##########| Elapsed Time: 0:00:00 Time:  0:00:00\n",
      "/home/ash/anaconda3/envs/ikamoana/lib/python3.9/site-packages/numpy/lib/arraysetops.py:270: VisibleDeprecationWarning: Creating an ndarray from ragged nested sequences (which is a list-or-tuple of lists-or-tuples-or ndarrays with different lengths or shapes) is deprecated. If you meant to do this, you must specify 'dtype=object' when creating the ndarray.\n",
      "  ar = np.asanyarray(ar)\n"
     ]
    }
   ],
   "source": [
    "#Run the behavioural kernels for two months\n",
    "IkaTest.runKernels(T=86400*60)"
   ]
  },
  {
   "cell_type": "code",
   "execution_count": null,
   "id": "80c83be5",
   "metadata": {},
   "outputs": [],
   "source": []
  }
 ],
 "metadata": {
  "kernelspec": {
   "display_name": "Python 3",
   "language": "python",
   "name": "python3"
  },
  "language_info": {
   "codemirror_mode": {
    "name": "ipython",
    "version": 3
   },
   "file_extension": ".py",
   "mimetype": "text/x-python",
   "name": "python",
   "nbconvert_exporter": "python",
   "pygments_lexer": "ipython3",
   "version": "3.9.7"
  }
 },
 "nbformat": 4,
 "nbformat_minor": 5
}

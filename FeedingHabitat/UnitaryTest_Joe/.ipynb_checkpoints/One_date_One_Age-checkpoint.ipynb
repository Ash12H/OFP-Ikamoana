{
 "cells": [
  {
   "cell_type": "code",
   "execution_count": 1,
   "id": "107dedad-079f-4880-9807-46a70156a6fb",
   "metadata": {},
   "outputs": [],
   "source": [
    "from sys import path\n",
    "path.append(\"./..\")\n",
    "from feedingHabitat import FeedingHabitat\n",
    "\n",
    "import numpy as np"
   ]
  },
  {
   "cell_type": "code",
   "execution_count": 2,
   "id": "83425847-b3d0-4b09-9864-8eb957b904cf",
   "metadata": {},
   "outputs": [],
   "source": [
    "config_file_path = \"./TEST_SEAPODYM_skj_po_interim.xml\"\n",
    "f_h = FeedingHabitat(config_file_path)"
   ]
  },
  {
   "cell_type": "markdown",
   "id": "2c68a3b2-2ff5-4485-9845-b8867ea2198a",
   "metadata": {},
   "source": [
    "## 3 way to ask for a specific date :\n",
    "- Good : `f_h.computeFeedingHabitatForSpecificAgeAndDate(age=0, date=np.datetime64('2010-05-17T12:00:00.000000000'))`\n",
    "\n",
    "- Good : `f_h.computeFeedingHabitatForSpecificAgeAndDate(age=0, date='2010-05-17T12:00:00.000000000')`\n",
    "\n",
    "- Good : `f_h.computeFeedingHabitatForSpecificAgeAndDate(age=0, date=0)`\n",
    "\n",
    "- Wrong : `f_h.computeFeedingHabitatForSpecificAgeAndDate(age=0, date=0.5)`"
   ]
  },
  {
   "cell_type": "code",
   "execution_count": 4,
   "id": "efea47f2-275f-42f4-83ca-252bc3d026e7",
   "metadata": {},
   "outputs": [],
   "source": [
    "feeding_habitat_result = f_h.computeFeedingHabitatForSpecificAgeAndDate(age=0, date='2010-05-17T12:00:00.000000000', verbose=True)"
   ]
  },
  {
   "cell_type": "markdown",
   "id": "b55bdd08-dd49-481d-be3f-e4e304b15673",
   "metadata": {},
   "source": [
    "## Save data in a NetCDF file :"
   ]
  },
  {
   "cell_type": "raw",
   "id": "43d91393-5deb-457a-a88d-d90a86900bae",
   "metadata": {},
   "source": [
    "feeding_habitat_result.to_netcdf(\"./output.nc\")"
   ]
  },
  {
   "cell_type": "markdown",
   "id": "baf163b2-49a0-426d-bc71-a79564c53076",
   "metadata": {},
   "source": [
    "---\n",
    "## To compare with the original habitat :\n",
    "> date : 2010-05-17"
   ]
  },
  {
   "cell_type": "raw",
   "id": "ec614bee-ea9e-43b1-82f7-80f4bf487e92",
   "metadata": {},
   "source": [
    "f_h.setCohorts_to_compute([0])\n",
    "\n",
    "f_h.computeFeedingHabitat(filepath='./')"
   ]
  }
 ],
 "metadata": {
  "kernelspec": {
   "display_name": "Python 3",
   "language": "python",
   "name": "python3"
  },
  "language_info": {
   "codemirror_mode": {
    "name": "ipython",
    "version": 3
   },
   "file_extension": ".py",
   "mimetype": "text/x-python",
   "name": "python",
   "nbconvert_exporter": "python",
   "pygments_lexer": "ipython3",
   "version": "3.8.5"
  }
 },
 "nbformat": 4,
 "nbformat_minor": 5
}

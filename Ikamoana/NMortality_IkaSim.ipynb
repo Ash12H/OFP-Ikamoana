{
 "cells": [
  {
   "cell_type": "code",
   "execution_count": 1,
   "id": "b86fd80e",
   "metadata": {},
   "outputs": [],
   "source": [
    "import numpy as np\n",
    "import ikamoana as ika "
   ]
  },
  {
   "cell_type": "code",
   "execution_count": 2,
   "id": "d6d45ac2",
   "metadata": {},
   "outputs": [],
   "source": [
    "ika_file = 'C:/Users/joes/Dropbox/SPC_2020/OFP-Ikamoana/Ikamoana/ikamoana/IkaSim_NatMortalityTest.xml'\n",
    "\n",
    "IkaTest = ika.ikamoana.IkaSim(ika_file)"
   ]
  },
  {
   "cell_type": "code",
   "execution_count": 3,
   "id": "13744a9c",
   "metadata": {},
   "outputs": [],
   "source": [
    "IkaTest.generateForcing()"
   ]
  },
  {
   "cell_type": "code",
   "execution_count": 4,
   "id": "46aecaf1",
   "metadata": {},
   "outputs": [
    {
     "name": "stderr",
     "output_type": "stream",
     "text": [
      "WARNING: Flipping lat data from North-South to South-North\n",
      "WARNING: Casting depth data to np.float32\n"
     ]
    }
   ],
   "source": [
    "IkaTest.createFieldSet()"
   ]
  },
  {
   "cell_type": "code",
   "execution_count": 5,
   "id": "37d0cb88",
   "metadata": {},
   "outputs": [],
   "source": [
    "\n",
    "\n",
    "#Make five IkaFish particles that start in the same position to start with (for a test)\n",
    "N=5\n",
    "#init_pos = [[140]*N,[0]*N]\n",
    "#IkaTest.initialiseFishParticles(start=np.array(init_pos,dtype=np.float32),n_fish=N, pclass=ika.ikafish.ikafish.IkaFish)\n",
    "\n",
    "#Create 5000 particles using the default start field distribution already loaded into the fieldset(start=None)\n",
    "N = 10\n",
    "IkaTest.initialiseFishParticles(start=None,n_fish=N, pclass=ika.ikafish.ikafish.IkaTag)\n",
    "\n"
   ]
  },
  {
   "cell_type": "code",
   "execution_count": 6,
   "id": "9cd10abd",
   "metadata": {},
   "outputs": [
    {
     "name": "stderr",
     "output_type": "stream",
     "text": [
      "WARNING: u1 declared in multiple Kernels\n",
      "WARNING: v1 declared in multiple Kernels\n",
      "WARNING: lon1 declared in multiple Kernels\n",
      "WARNING: lat1 declared in multiple Kernels\n",
      "WARNING: u2 declared in multiple Kernels\n",
      "WARNING: v2 declared in multiple Kernels\n",
      "WARNING: lon2 declared in multiple Kernels\n",
      "WARNING: lat2 declared in multiple Kernels\n",
      "WARNING: u3 declared in multiple Kernels\n",
      "WARNING: v3 declared in multiple Kernels\n",
      "WARNING: lon3 declared in multiple Kernels\n",
      "WARNING: lat3 declared in multiple Kernels\n",
      "WARNING: u4 declared in multiple Kernels\n",
      "WARNING: v4 declared in multiple Kernels\n",
      "WARNING: u1 declared in multiple Kernels\n",
      "WARNING: v1 declared in multiple Kernels\n",
      "WARNING: lon1 declared in multiple Kernels\n",
      "WARNING: lat1 declared in multiple Kernels\n",
      "WARNING: u2 declared in multiple Kernels\n",
      "WARNING: v2 declared in multiple Kernels\n",
      "WARNING: lon2 declared in multiple Kernels\n",
      "WARNING: lat2 declared in multiple Kernels\n",
      "WARNING: u3 declared in multiple Kernels\n",
      "WARNING: v3 declared in multiple Kernels\n",
      "WARNING: lon3 declared in multiple Kernels\n",
      "WARNING: lat3 declared in multiple Kernels\n",
      "WARNING: u4 declared in multiple Kernels\n",
      "WARNING: v4 declared in multiple Kernels\n",
      "WARNING: u1 declared in multiple Kernels\n",
      "WARNING: v1 declared in multiple Kernels\n",
      "WARNING: lon1 declared in multiple Kernels\n",
      "WARNING: lat1 declared in multiple Kernels\n",
      "WARNING: u2 declared in multiple Kernels\n",
      "WARNING: v2 declared in multiple Kernels\n",
      "WARNING: lon2 declared in multiple Kernels\n",
      "WARNING: lat2 declared in multiple Kernels\n",
      "WARNING: u3 declared in multiple Kernels\n",
      "WARNING: v3 declared in multiple Kernels\n",
      "WARNING: lon3 declared in multiple Kernels\n",
      "WARNING: lat3 declared in multiple Kernels\n",
      "WARNING: u4 declared in multiple Kernels\n",
      "WARNING: v4 declared in multiple Kernels\n",
      "WARNING: Dx declared in multiple Kernels\n",
      "WARNING: Dy declared in multiple Kernels\n",
      "WARNING: Rx declared in multiple Kernels\n",
      "WARNING: Ry declared in multiple Kernels\n",
      "WARNING: u1 declared in multiple Kernels\n",
      "WARNING: v1 declared in multiple Kernels\n",
      "WARNING: lon1 declared in multiple Kernels\n",
      "WARNING: lat1 declared in multiple Kernels\n",
      "WARNING: u2 declared in multiple Kernels\n",
      "WARNING: v2 declared in multiple Kernels\n",
      "WARNING: lon2 declared in multiple Kernels\n",
      "WARNING: lat2 declared in multiple Kernels\n",
      "WARNING: u3 declared in multiple Kernels\n",
      "WARNING: v3 declared in multiple Kernels\n",
      "WARNING: lon3 declared in multiple Kernels\n",
      "WARNING: lat3 declared in multiple Kernels\n",
      "WARNING: u4 declared in multiple Kernels\n",
      "WARNING: v4 declared in multiple Kernels\n",
      "WARNING: Dx declared in multiple Kernels\n",
      "WARNING: Dy declared in multiple Kernels\n",
      "WARNING: Rx declared in multiple Kernels\n",
      "WARNING: Ry declared in multiple Kernels\n",
      "WARNING: u1 declared in multiple Kernels\n",
      "WARNING: v1 declared in multiple Kernels\n",
      "WARNING: lon1 declared in multiple Kernels\n",
      "WARNING: lat1 declared in multiple Kernels\n",
      "WARNING: u2 declared in multiple Kernels\n",
      "WARNING: v2 declared in multiple Kernels\n",
      "WARNING: lon2 declared in multiple Kernels\n",
      "WARNING: lat2 declared in multiple Kernels\n",
      "WARNING: u3 declared in multiple Kernels\n",
      "WARNING: v3 declared in multiple Kernels\n",
      "WARNING: lon3 declared in multiple Kernels\n",
      "WARNING: lat3 declared in multiple Kernels\n",
      "WARNING: u4 declared in multiple Kernels\n",
      "WARNING: v4 declared in multiple Kernels\n",
      "WARNING: Dx declared in multiple Kernels\n",
      "WARNING: Dy declared in multiple Kernels\n",
      "WARNING: Rx declared in multiple Kernels\n",
      "WARNING: Ry declared in multiple Kernels\n",
      "WARNING: u1 declared in multiple Kernels\n",
      "WARNING: v1 declared in multiple Kernels\n",
      "WARNING: lon1 declared in multiple Kernels\n",
      "WARNING: lat1 declared in multiple Kernels\n",
      "WARNING: u2 declared in multiple Kernels\n",
      "WARNING: v2 declared in multiple Kernels\n",
      "WARNING: lon2 declared in multiple Kernels\n",
      "WARNING: lat2 declared in multiple Kernels\n",
      "WARNING: u3 declared in multiple Kernels\n",
      "WARNING: v3 declared in multiple Kernels\n",
      "WARNING: lon3 declared in multiple Kernels\n",
      "WARNING: lat3 declared in multiple Kernels\n",
      "WARNING: u4 declared in multiple Kernels\n",
      "WARNING: v4 declared in multiple Kernels\n",
      "WARNING: Dx declared in multiple Kernels\n",
      "WARNING: Dy declared in multiple Kernels\n",
      "WARNING: Rx declared in multiple Kernels\n",
      "WARNING: Ry declared in multiple Kernels\n",
      "INFO: Compiled IkaTagCalcLonLatScalersIkAdvectionRK4TaxisRK4RandomWalkNonUniformDiffusionIkaDimMoveWithDiffusionRerollAgeNaturalMortalityUpdateSurvivalProbNOnly ==> C:\\Users\\joes\\AppData\\Local\\Temp\\parcels-tmp\\207c038b10454dba4e988a71113fb2ab.dll\n",
      "100% (5184000.0 of 5184000.0) |##########| Elapsed Time: 0:00:00 Time:  0:00:00\n"
     ]
    }
   ],
   "source": [
    "#Run the behavioural kernels for two months\n",
    "IkaTest.runKernels(T=86400*60)"
   ]
  },
  {
   "cell_type": "code",
   "execution_count": null,
   "id": "80c83be5",
   "metadata": {},
   "outputs": [],
   "source": []
  }
 ],
 "metadata": {
  "kernelspec": {
   "display_name": "Python 3",
   "language": "python",
   "name": "python3"
  },
  "language_info": {
   "codemirror_mode": {
    "name": "ipython",
    "version": 3
   },
   "file_extension": ".py",
   "mimetype": "text/x-python",
   "name": "python",
   "nbconvert_exporter": "python",
   "pygments_lexer": "ipython3",
   "version": "3.7.3"
  }
 },
 "nbformat": 4,
 "nbformat_minor": 5
}

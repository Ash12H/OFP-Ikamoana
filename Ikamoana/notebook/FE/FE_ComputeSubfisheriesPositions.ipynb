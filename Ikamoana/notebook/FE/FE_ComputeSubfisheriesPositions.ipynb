{
 "cells": [
  {
   "cell_type": "code",
   "execution_count": null,
   "id": "7d72ab08",
   "metadata": {},
   "outputs": [],
   "source": [
    "import sys\n",
    "sys.path.append('./../../')"
   ]
  },
  {
   "cell_type": "code",
   "execution_count": 1,
   "metadata": {},
   "outputs": [],
   "source": [
    "import ikamoana.fisherieseffort.fisherieseffort as fe\n",
    "import numpy as np\n",
    "filepath = \"./../../data/fisheries_effort/fisheries_data_2021_Nov8.txt\""
   ]
  },
  {
   "cell_type": "code",
   "execution_count": 2,
   "metadata": {},
   "outputs": [],
   "source": [
    "fisheries_effort_df = fe.readFile(filepath, header_position=0, columns_name=None)"
   ]
  },
  {
   "cell_type": "code",
   "execution_count": 3,
   "metadata": {},
   "outputs": [],
   "source": [
    "resolution = 5\n",
    "min_resolution = 1\n",
    "latitude = 0\n",
    "longitude = 120"
   ]
  },
  {
   "cell_type": "code",
   "execution_count": 4,
   "metadata": {},
   "outputs": [
    {
     "data": {
      "text/plain": [
       "array([[[ -2,  -2,  -2,  -2,  -2],\n",
       "        [ -1,  -1,  -1,  -1,  -1],\n",
       "        [  0,   0,   0,   0,   0],\n",
       "        [  1,   1,   1,   1,   1],\n",
       "        [  2,   2,   2,   2,   2]],\n",
       "\n",
       "       [[118, 119, 120, 121, 122],\n",
       "        [118, 119, 120, 121, 122],\n",
       "        [118, 119, 120, 121, 122],\n",
       "        [118, 119, 120, 121, 122],\n",
       "        [118, 119, 120, 121, 122]]])"
      ]
     },
     "execution_count": 4,
     "metadata": {},
     "output_type": "execute_result"
    }
   ],
   "source": [
    "np.array(list(fe.computeSubfisheriesPositions(resolution,min_resolution,latitude,longitude)))"
   ]
  },
  {
   "cell_type": "raw",
   "metadata": {},
   "source": [
    "fe.separateFisheries(fisheries_effort_df)"
   ]
  }
 ],
 "metadata": {
  "interpreter": {
   "hash": "ffb4c739a54b0f14d85400558931514482bb564738e7dc16fa6fbcf98080c52d"
  },
  "kernelspec": {
   "display_name": "Python 3.9.7 64-bit ('cps': conda)",
   "language": "python",
   "name": "python3"
  },
  "language_info": {
   "codemirror_mode": {
    "name": "ipython",
    "version": 3
   },
   "file_extension": ".py",
   "mimetype": "text/x-python",
   "name": "python",
   "nbconvert_exporter": "python",
   "pygments_lexer": "ipython3",
   "version": "3.9.7"
  },
  "orig_nbformat": 4
 },
 "nbformat": 4,
 "nbformat_minor": 2
}

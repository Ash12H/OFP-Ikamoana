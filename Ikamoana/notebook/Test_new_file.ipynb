{
 "cells": [
  {
   "cell_type": "code",
   "execution_count": 2,
   "id": "7d72ab08",
   "metadata": {},
   "outputs": [],
   "source": [
    "import sys\n",
    "sys.path.append('./../')"
   ]
  },
  {
   "cell_type": "code",
   "execution_count": 3,
   "metadata": {},
   "outputs": [],
   "source": [
    "import ikamoana.fisherieseffort.fisherieseffort as fe\n",
    "import numpy as np\n",
    "import matplotlib.pyplot as plt\n",
    "import pandas as pd\n",
    "from sklearn import linear_model\n",
    "filepath = \"./../data/fisheries_effort/skj_fisheries_data_2021_Nov17.txt\""
   ]
  },
  {
   "cell_type": "code",
   "execution_count": 4,
   "metadata": {},
   "outputs": [
    {
     "name": "stdout",
     "output_type": "stream",
     "text": [
      "[1]  [2]  [3]  [4]  [5]  [6]  [7]  [8]  [9]  [10]  [12]  [13]  [15]  \n",
      "[1]  [1]  [1]  [1]  [1]  [1]  [1]  [5]  [1]  [1]  [1]  [1]  [5]  \n"
     ]
    }
   ],
   "source": [
    "fisheries_df = fe.readFile(filepath, header_position=0, columns_name=None)\n",
    "fisheries_dict = fe.separateFisheries(fisheries_df)\n",
    "\n",
    "for i in fisheries_dict.keys()  :\n",
    "    print(\"[%d]\"%(i),end=\"  \")\n",
    "print()\n",
    "for i in fisheries_dict  :\n",
    "    print(np.unique(fisheries_dict[i].res),end=\"  \")\n",
    "print()\n",
    "\n",
    "f9 = fisheries_dict[9]"
   ]
  },
  {
   "cell_type": "code",
   "execution_count": 5,
   "metadata": {},
   "outputs": [
    {
     "name": "stdout",
     "output_type": "stream",
     "text": [
      "10780\n",
      "369532\n",
      "17845\n"
     ]
    }
   ],
   "source": [
    "print(len(fisheries_df[(fisheries_df['E']==0) & fisheries_df['C']!=0]))\n",
    "print(len(fisheries_df[(fisheries_df['E']!=0) & fisheries_df['C']==0]))\n",
    "print(len(fisheries_df[(fisheries_df['C']==0) & (fisheries_df['E']==0)]))"
   ]
  },
  {
   "cell_type": "code",
   "execution_count": 8,
   "metadata": {},
   "outputs": [
    {
     "name": "stdout",
     "output_type": "stream",
     "text": [
      "[ 1  2  3  4  5  6  7  8  9 10 12 13 15]\n",
      "[192951 102617  64067  18491 149096  93723  73779 146415  23310 121626\n",
      " 124572  64685   7040]\n"
     ]
    }
   ],
   "source": [
    "tmp = np.unique(fisheries_df['f'], return_counts=True)\n",
    "print(tmp[0])\n",
    "print(tmp[1])"
   ]
  },
  {
   "cell_type": "code",
   "execution_count": null,
   "metadata": {},
   "outputs": [],
   "source": [
    "np.unique(fisheries_df[fisheries_df['E']==0]['f'], return_counts=True)"
   ]
  },
  {
   "cell_type": "code",
   "execution_count": 5,
   "metadata": {},
   "outputs": [
    {
     "data": {
      "text/plain": [
       "(array([ 1,  2,  3,  5,  6,  7,  8,  9, 10, 12, 13, 15]),\n",
       " array([13059,   518,     1,    26,   768,   234,  1851, 12032,     7,\n",
       "            2,     2,     1]))"
      ]
     },
     "execution_count": 5,
     "metadata": {},
     "output_type": "execute_result"
    }
   ],
   "source": [
    "np.unique(fisheries_df[fisheries_df['E']==0]['f'], return_counts=True)"
   ]
  },
  {
   "cell_type": "code",
   "execution_count": 6,
   "metadata": {},
   "outputs": [
    {
     "data": {
      "text/plain": [
       "(array([ 1,  2,  5,  7,  8,  9, 10, 12]),\n",
       " array([12813,   518,    18,   121,  1846,  2424,     2,     2]))"
      ]
     },
     "execution_count": 6,
     "metadata": {},
     "output_type": "execute_result"
    }
   ],
   "source": [
    "np.unique(fisheries_df[(fisheries_df['C']==0) & (fisheries_df['E']==0)]['f'], return_counts=True)"
   ]
  },
  {
   "cell_type": "code",
   "execution_count": 7,
   "metadata": {},
   "outputs": [
    {
     "data": {
      "text/plain": [
       "(array(['G', 'H', 'K', 'O', 'R', 'T'], dtype=object),\n",
       " array([1261, 4728, 4380, 6120, 3060, 3761]))"
      ]
     },
     "execution_count": 7,
     "metadata": {},
     "output_type": "execute_result"
    }
   ],
   "source": [
    "np.unique(f9['gr'], return_counts=True)"
   ]
  },
  {
   "cell_type": "code",
   "execution_count": 8,
   "metadata": {},
   "outputs": [],
   "source": [
    "f9_gb = fe.groupByFisheries({9:fisheries_dict[9]})\n",
    "f9_gb = f9_gb[9]"
   ]
  },
  {
   "cell_type": "code",
   "execution_count": 9,
   "metadata": {},
   "outputs": [
    {
     "data": {
      "text/plain": [
       "array(['G', 'H', 'K', 'O', 'R', 'T'], dtype=object)"
      ]
     },
     "execution_count": 9,
     "metadata": {},
     "output_type": "execute_result"
    }
   ],
   "source": [
    "gr_array = []\n",
    "for gr in f9_gb['gr'] : gr_array = np.concatenate((gr_array, np.array(gr).ravel()))\n",
    "gr_unique = np.unique(gr_array)\n",
    "gr_unique"
   ]
  },
  {
   "cell_type": "markdown",
   "metadata": {},
   "source": [
    "---"
   ]
  },
  {
   "cell_type": "code",
   "execution_count": 10,
   "metadata": {},
   "outputs": [
    {
     "name": "stdout",
     "output_type": "stream",
     "text": [
      "ALL\n",
      "23310\n",
      "['H' 'K' 'O' 'R' 'T' 'G']\n",
      "\n",
      "NO EFFORT\n",
      "9608\n",
      "['K' 'O' 'R' 'T' 'G']\n",
      "\n",
      "NO CATCH\n",
      "5094\n",
      "['T' 'G' 'H' 'K']\n",
      "\n",
      "NO CATCH AND NO EFFORT\n",
      "2424\n",
      "['H']\n",
      "\n",
      "COMPLET\n",
      "6184\n",
      "['R' 'T' 'K' 'H']\n"
     ]
    }
   ],
   "source": [
    "print(\"ALL\")\n",
    "print(len(f9))\n",
    "print(f9['gr'].unique())\n",
    "\n",
    "print(\"\\nNO EFFORT\")\n",
    "print(len(f9[(f9['E']==0) & (f9['C']!=0)]))\n",
    "print(f9[(f9['E']==0) & (f9['C']!=0)]['gr'].unique())\n",
    "\n",
    "print(\"\\nNO CATCH\")\n",
    "print(len(f9[(f9['E']!=0) & (f9['C']==0)]))\n",
    "print(f9[(f9['E']!=0) & (f9['C']==0)]['gr'].unique())\n",
    "\n",
    "print(\"\\nNO CATCH AND NO EFFORT\")\n",
    "print(len(f9[(f9['C']==0) & (f9['E']==0)]))\n",
    "print(f9[(f9['C']==0) & (f9['E']==0)]['gr'].unique())\n",
    "\n",
    "print(\"\\nCOMPLET\")\n",
    "print(len(f9[(f9['E']!=0) & (f9['C']!=0)]))\n",
    "print(f9[(f9['E']!=0) & (f9['C']!=0)]['gr'].unique())\n"
   ]
  },
  {
   "cell_type": "code",
   "execution_count": 11,
   "metadata": {},
   "outputs": [
    {
     "data": {
      "text/plain": [
       "1.0"
      ]
     },
     "execution_count": 11,
     "metadata": {},
     "output_type": "execute_result"
    }
   ],
   "source": [
    "f9[(f9['E']!=0) & (f9['C']!=0)]['E'].min()"
   ]
  },
  {
   "cell_type": "code",
   "execution_count": 12,
   "metadata": {},
   "outputs": [
    {
     "data": {
      "text/plain": [
       "0.001"
      ]
     },
     "execution_count": 12,
     "metadata": {},
     "output_type": "execute_result"
    }
   ],
   "source": [
    "f9[(f9['E']!=0) & (f9['C']!=0)]['C'].min()"
   ]
  },
  {
   "cell_type": "markdown",
   "metadata": {},
   "source": [
    "---\n",
    "# ALL"
   ]
  },
  {
   "cell_type": "code",
   "execution_count": 29,
   "metadata": {},
   "outputs": [
    {
     "data": {
      "image/png": "[encoded data removed]",
      "text/plain": [
       "<Figure size 720x720 with 1 Axes>"
      ]
     },
     "metadata": {
      "needs_background": "light"
     },
     "output_type": "display_data"
    }
   ],
   "source": [
    "plt.subplots(1,1,figsize=(10,10))\n",
    "\n",
    "gr = ['K', 'O', 'R', 'T', 'G', 'H']\n",
    "color = ['b','g','r','c','m','y','k']\n",
    "\n",
    "for g, c in zip(gr,color) :\n",
    "    plt.plot(f9[(f9['gr']==g)]['C'],\n",
    "             f9[(f9['gr']==g)]['E'],\n",
    "             marker='o', markersize=2, color=c,linestyle=\"None\" )\n",
    "\n",
    "plt.legend(gr, fontsize=15)\n",
    "plt.xlabel(\"Catch\", fontsize=20)\n",
    "plt.ylabel(\"Effort\", fontsize=20)\n",
    "plt.title(\"All entries\", fontsize=24)\n",
    "plt.grid(True)\n",
    "plt.show()"
   ]
  },
  {
   "cell_type": "markdown",
   "metadata": {},
   "source": [
    "---\n",
    "# COMPLET"
   ]
  },
  {
   "cell_type": "code",
   "execution_count": 14,
   "metadata": {},
   "outputs": [
    {
     "data": {
      "text/plain": [
       "Text(0.5, 1.0, '(Effort != 0) AND (Catch != 0)')"
      ]
     },
     "execution_count": 14,
     "metadata": {},
     "output_type": "execute_result"
    },
    {
     "data": {
      "image/png": "[encoded data removed]",
      "text/plain": [
       "<Figure size 720x720 with 1 Axes>"
      ]
     },
     "metadata": {
      "needs_background": "light"
     },
     "output_type": "display_data"
    }
   ],
   "source": [
    "cond = (f9['E']!=0) & (f9['C']!=0)\n",
    "\n",
    "plt.subplots(1,1,figsize=(10,10))\n",
    "plt.plot(f9[cond & (f9['gr']=='R')]['C'],\n",
    "         f9[cond & (f9['gr']=='R')]['E'], '.r')\n",
    "plt.plot(f9[cond & (f9['gr']=='T')]['C'],\n",
    "         f9[cond & (f9['gr']=='T')]['E'], '.b')\n",
    "plt.plot(f9[cond & (f9['gr']=='K')]['C'],\n",
    "         f9[cond & (f9['gr']=='K')]['E'], '.g')\n",
    "plt.plot(f9[cond & (f9['gr']=='H')]['C'],\n",
    "         f9[cond & (f9['gr']=='H')]['E'], '.y')\n",
    "plt.legend(['R','T','K','H'], fontsize=15)\n",
    "plt.xlabel(\"Catch\", fontsize=20)\n",
    "plt.ylabel(\"Effort\", fontsize=20)\n",
    "plt.title(\"(Effort != 0) AND (Catch != 0)\", fontsize=24)"
   ]
  },
  {
   "cell_type": "markdown",
   "metadata": {},
   "source": [
    "---\n",
    "# Transforme"
   ]
  },
  {
   "cell_type": "code",
   "execution_count": 15,
   "metadata": {},
   "outputs": [],
   "source": [
    "def predictEffort(fishery: pd.DataFrame, conserve_no_catch: bool = False,\n",
    "                  conserve_empty: bool = False, gear_to_choose: str = 'K',\n",
    "                  catch_label: str = 'C', gear_label: str = 'gr',\n",
    "                  effort_label: str = 'E') :\n",
    "    \n",
    "    model = fishery[(fishery[gear_label]==gear_to_choose)\n",
    "                    & (fishery[effort_label]!=0) & (fishery[catch_label]!=0)]\n",
    "    \n",
    "    effort_to_predict = pd.DataFrame(fishery[~fishery.index.isin(model.index)])\n",
    "    \n",
    "    no_catch_but_effort = effort_to_predict[(effort_to_predict[effort_label]!=0)\n",
    "                               & (effort_to_predict[catch_label]==0)]\n",
    "\n",
    "    nothing = effort_to_predict[(effort_to_predict[effort_label]==0)\n",
    "                               & (effort_to_predict[catch_label]==0)]\n",
    "    \n",
    "    effort_to_predict = effort_to_predict[(effort_to_predict[catch_label]!=0)]\n",
    "    \n",
    "    regr = linear_model.LinearRegression()\n",
    "    fun = regr.fit(np.array(model[catch_label])[:,np.newaxis],\n",
    "                   np.array(model[effort_label]))\n",
    "    effort_to_predict.drop(effort_label, axis=1)\n",
    "    effort_to_predict[effort_label] = fun.predict(\n",
    "        np.array(effort_to_predict[catch_label])[:,np.newaxis])\n",
    "    \n",
    "    df_to_return = [model, effort_to_predict]\n",
    "    if conserve_no_catch : df_to_return.append(no_catch_but_effort)\n",
    "    if conserve_empty :df_to_return.append(nothing)\n",
    "    \n",
    "    return pd.concat(df_to_return)"
   ]
  },
  {
   "cell_type": "code",
   "execution_count": 16,
   "metadata": {},
   "outputs": [],
   "source": [
    "new_f9 = predictEffort(f9).sort_index()"
   ]
  },
  {
   "cell_type": "code",
   "execution_count": 17,
   "metadata": {},
   "outputs": [],
   "source": [
    "assert not (False in new_f9.index == f9.sort_index().index)"
   ]
  },
  {
   "cell_type": "code",
   "execution_count": 25,
   "metadata": {},
   "outputs": [
    {
     "data": {
      "image/png": "[encoded data removed]",
      "text/plain": [
       "<Figure size 720x720 with 1 Axes>"
      ]
     },
     "metadata": {
      "needs_background": "light"
     },
     "output_type": "display_data"
    }
   ],
   "source": [
    "plt.subplots(1,1,figsize=(10,10))\n",
    "\n",
    "gr = ['K', 'O', 'R', 'T', 'G', 'H']\n",
    "color = ['b','g','r','c','m','y','k']\n",
    "\n",
    "for g, c in zip(gr,color) :\n",
    "    plt.plot(new_f9[(new_f9['gr']==g)]['C'],\n",
    "             new_f9[(new_f9['gr']==g)]['E'],\n",
    "             marker='o', markersize=2, color=c,linestyle=\"None\" )\n",
    "\n",
    "plt.legend(gr, fontsize=15)\n",
    "plt.xlabel(\"Catch\", fontsize=20)\n",
    "plt.ylabel(\"Effort\", fontsize=20)\n",
    "plt.title(\"All entries\", fontsize=24)\n",
    "plt.grid(True)\n",
    "plt.show()"
   ]
  },
  {
   "cell_type": "code",
   "execution_count": 27,
   "metadata": {},
   "outputs": [
    {
     "data": {
      "text/plain": [
       "23310"
      ]
     },
     "execution_count": 27,
     "metadata": {},
     "output_type": "execute_result"
    }
   ],
   "source": [
    "len(f9)"
   ]
  },
  {
   "cell_type": "code",
   "execution_count": 28,
   "metadata": {},
   "outputs": [
    {
     "data": {
      "text/plain": [
       "15792"
      ]
     },
     "execution_count": 28,
     "metadata": {},
     "output_type": "execute_result"
    }
   ],
   "source": [
    "len(new_f9)"
   ]
  },
  {
   "cell_type": "code",
   "execution_count": null,
   "metadata": {},
   "outputs": [],
   "source": []
  }
 ],
 "metadata": {
  "interpreter": {
   "hash": "37ec2f13ba464e68fd0ed37b53a9616d3f8194c3696da374c2105063a1dc0216"
  },
  "kernelspec": {
   "display_name": "Python 3.9.7 64-bit ('ikamoana': conda)",
   "language": "python",
   "name": "python3"
  },
  "language_info": {
   "codemirror_mode": {
    "name": "ipython",
    "version": 3
   },
   "file_extension": ".py",
   "mimetype": "text/x-python",
   "name": "python",
   "nbconvert_exporter": "python",
   "pygments_lexer": "ipython3",
   "version": "3.9.7"
  },
  "orig_nbformat": 4
 },
 "nbformat": 4,
 "nbformat_minor": 2
}

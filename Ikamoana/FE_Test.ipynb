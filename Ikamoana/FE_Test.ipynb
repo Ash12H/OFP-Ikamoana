{
 "cells": [
  {
   "cell_type": "code",
   "execution_count": 1,
   "metadata": {},
   "outputs": [],
   "source": [
    "import ikamoana.fisheries_effort.fisheries_effort as fe\n",
    "import numpy as np\n",
    "import pandas as pd"
   ]
  },
  {
   "cell_type": "code",
   "execution_count": 2,
   "metadata": {},
   "outputs": [],
   "source": [
    "## Non unique value in the fisheries_effort file will lead to error in DataSet transformation\n",
    "\n",
    "filepath = \"./data/fisheries_effort/fisheries_data_2021_Nov8.txt\""
   ]
  },
  {
   "cell_type": "code",
   "execution_count": 3,
   "metadata": {},
   "outputs": [],
   "source": [
    "fisheries_df = fe.readFile(filepath, header_position=0, columns_name=None)\n",
    "fisheries_dict = fe.separateFisheries(fisheries_df)\n",
    "rescaled_fisheries_dict = fe.rescaleFisheries({1:fisheries_dict[1],15:fisheries_dict[15]})"
   ]
  },
  {
   "cell_type": "code",
   "execution_count": 31,
   "metadata": {},
   "outputs": [
    {
     "data": {
      "text/html": [
       "<div>\n",
       "<style scoped>\n",
       "    .dataframe tbody tr th:only-of-type {\n",
       "        vertical-align: middle;\n",
       "    }\n",
       "\n",
       "    .dataframe tbody tr th {\n",
       "        vertical-align: top;\n",
       "    }\n",
       "\n",
       "    .dataframe thead th {\n",
       "        text-align: right;\n",
       "    }\n",
       "</style>\n",
       "<table border=\"1\" class=\"dataframe\">\n",
       "  <thead>\n",
       "    <tr style=\"text-align: right;\">\n",
       "      <th></th>\n",
       "      <th>f</th>\n",
       "      <th>yr</th>\n",
       "      <th>mm</th>\n",
       "      <th>dd</th>\n",
       "      <th>gr</th>\n",
       "      <th>lat</th>\n",
       "      <th>lon</th>\n",
       "      <th>res</th>\n",
       "      <th>E</th>\n",
       "      <th>C</th>\n",
       "    </tr>\n",
       "  </thead>\n",
       "  <tbody>\n",
       "    <tr>\n",
       "      <th>345</th>\n",
       "      <td>15</td>\n",
       "      <td>1976</td>\n",
       "      <td>8</td>\n",
       "      <td>15</td>\n",
       "      <td>P</td>\n",
       "      <td>22.5</td>\n",
       "      <td>229.5</td>\n",
       "      <td>1</td>\n",
       "      <td>0.04</td>\n",
       "      <td>0.00</td>\n",
       "    </tr>\n",
       "    <tr>\n",
       "      <th>346</th>\n",
       "      <td>15</td>\n",
       "      <td>1976</td>\n",
       "      <td>8</td>\n",
       "      <td>15</td>\n",
       "      <td>P</td>\n",
       "      <td>22.5</td>\n",
       "      <td>230.5</td>\n",
       "      <td>1</td>\n",
       "      <td>0.04</td>\n",
       "      <td>0.00</td>\n",
       "    </tr>\n",
       "    <tr>\n",
       "      <th>347</th>\n",
       "      <td>15</td>\n",
       "      <td>1976</td>\n",
       "      <td>8</td>\n",
       "      <td>15</td>\n",
       "      <td>P</td>\n",
       "      <td>22.5</td>\n",
       "      <td>231.5</td>\n",
       "      <td>1</td>\n",
       "      <td>0.04</td>\n",
       "      <td>0.00</td>\n",
       "    </tr>\n",
       "    <tr>\n",
       "      <th>352</th>\n",
       "      <td>15</td>\n",
       "      <td>1976</td>\n",
       "      <td>8</td>\n",
       "      <td>15</td>\n",
       "      <td>P</td>\n",
       "      <td>22.5</td>\n",
       "      <td>229.5</td>\n",
       "      <td>1</td>\n",
       "      <td>0.04</td>\n",
       "      <td>0.00</td>\n",
       "    </tr>\n",
       "    <tr>\n",
       "      <th>353</th>\n",
       "      <td>15</td>\n",
       "      <td>1976</td>\n",
       "      <td>8</td>\n",
       "      <td>15</td>\n",
       "      <td>P</td>\n",
       "      <td>22.5</td>\n",
       "      <td>230.5</td>\n",
       "      <td>1</td>\n",
       "      <td>0.04</td>\n",
       "      <td>0.00</td>\n",
       "    </tr>\n",
       "    <tr>\n",
       "      <th>...</th>\n",
       "      <td>...</td>\n",
       "      <td>...</td>\n",
       "      <td>...</td>\n",
       "      <td>...</td>\n",
       "      <td>...</td>\n",
       "      <td>...</td>\n",
       "      <td>...</td>\n",
       "      <td>...</td>\n",
       "      <td>...</td>\n",
       "      <td>...</td>\n",
       "    </tr>\n",
       "    <tr>\n",
       "      <th>175833</th>\n",
       "      <td>15</td>\n",
       "      <td>2014</td>\n",
       "      <td>7</td>\n",
       "      <td>15</td>\n",
       "      <td>P</td>\n",
       "      <td>1.5</td>\n",
       "      <td>220.5</td>\n",
       "      <td>1</td>\n",
       "      <td>0.12</td>\n",
       "      <td>0.36</td>\n",
       "    </tr>\n",
       "    <tr>\n",
       "      <th>175835</th>\n",
       "      <td>15</td>\n",
       "      <td>2014</td>\n",
       "      <td>7</td>\n",
       "      <td>15</td>\n",
       "      <td>P</td>\n",
       "      <td>0.5</td>\n",
       "      <td>217.5</td>\n",
       "      <td>1</td>\n",
       "      <td>0.12</td>\n",
       "      <td>0.36</td>\n",
       "    </tr>\n",
       "    <tr>\n",
       "      <th>175836</th>\n",
       "      <td>15</td>\n",
       "      <td>2014</td>\n",
       "      <td>7</td>\n",
       "      <td>15</td>\n",
       "      <td>P</td>\n",
       "      <td>0.5</td>\n",
       "      <td>218.5</td>\n",
       "      <td>1</td>\n",
       "      <td>0.12</td>\n",
       "      <td>0.36</td>\n",
       "    </tr>\n",
       "    <tr>\n",
       "      <th>175837</th>\n",
       "      <td>15</td>\n",
       "      <td>2014</td>\n",
       "      <td>7</td>\n",
       "      <td>15</td>\n",
       "      <td>P</td>\n",
       "      <td>0.5</td>\n",
       "      <td>219.5</td>\n",
       "      <td>1</td>\n",
       "      <td>0.12</td>\n",
       "      <td>0.36</td>\n",
       "    </tr>\n",
       "    <tr>\n",
       "      <th>175838</th>\n",
       "      <td>15</td>\n",
       "      <td>2014</td>\n",
       "      <td>7</td>\n",
       "      <td>15</td>\n",
       "      <td>P</td>\n",
       "      <td>0.5</td>\n",
       "      <td>220.5</td>\n",
       "      <td>1</td>\n",
       "      <td>0.12</td>\n",
       "      <td>0.36</td>\n",
       "    </tr>\n",
       "  </tbody>\n",
       "</table>\n",
       "<p>64056 rows × 10 columns</p>\n",
       "</div>"
      ],
      "text/plain": [
       "         f    yr  mm  dd gr   lat    lon  res     E     C\n",
       "345     15  1976   8  15  P  22.5  229.5    1  0.04  0.00\n",
       "346     15  1976   8  15  P  22.5  230.5    1  0.04  0.00\n",
       "347     15  1976   8  15  P  22.5  231.5    1  0.04  0.00\n",
       "352     15  1976   8  15  P  22.5  229.5    1  0.04  0.00\n",
       "353     15  1976   8  15  P  22.5  230.5    1  0.04  0.00\n",
       "...     ..   ...  ..  .. ..   ...    ...  ...   ...   ...\n",
       "175833  15  2014   7  15  P   1.5  220.5    1  0.12  0.36\n",
       "175835  15  2014   7  15  P   0.5  217.5    1  0.12  0.36\n",
       "175836  15  2014   7  15  P   0.5  218.5    1  0.12  0.36\n",
       "175837  15  2014   7  15  P   0.5  219.5    1  0.12  0.36\n",
       "175838  15  2014   7  15  P   0.5  220.5    1  0.12  0.36\n",
       "\n",
       "[64056 rows x 10 columns]"
      ]
     },
     "execution_count": 31,
     "metadata": {},
     "output_type": "execute_result"
    }
   ],
   "source": [
    "df = rescaled_fisheries_dict[15]\n",
    "cond = df.duplicated(keep=False)\n",
    "df[cond]"
   ]
  },
  {
   "cell_type": "code",
   "execution_count": 34,
   "metadata": {},
   "outputs": [
    {
     "data": {
      "text/plain": [
       "array([-15.5, -14.5, -13.5, -12.5, -11.5, -10.5,  -9.5,  -8.5,  -7.5,\n",
       "        -6.5,  -5.5,  -0.5,   0.5,   1.5,   2.5,   3.5,   4.5,   5.5,\n",
       "         6.5,   7.5,   8.5,   9.5,  10.5,  11.5,  12.5,  13.5,  14.5,\n",
       "        15.5,  16.5,  17.5,  18.5,  19.5,  20.5,  21.5,  22.5,  23.5,\n",
       "        24.5,  25.5,  26.5,  27.5,  28.5,  29.5,  30.5,  31.5,  32.5,\n",
       "        33.5,  34.5])"
      ]
     },
     "execution_count": 34,
     "metadata": {},
     "output_type": "execute_result"
    }
   ],
   "source": [
    "np.sort(df[cond]['lat'].unique())"
   ]
  },
  {
   "cell_type": "code",
   "execution_count": 35,
   "metadata": {},
   "outputs": [
    {
     "data": {
      "text/plain": [
       "array([210.5, 211.5, 212.5, 213.5, 214.5, 215.5, 216.5, 217.5, 218.5,\n",
       "       219.5, 220.5, 221.5, 222.5, 223.5, 224.5, 225.5, 226.5, 227.5,\n",
       "       228.5, 229.5, 230.5, 231.5, 232.5, 233.5, 234.5, 235.5, 236.5,\n",
       "       237.5, 238.5, 239.5, 240.5, 241.5, 242.5, 243.5, 244.5, 245.5,\n",
       "       246.5, 247.5, 248.5, 249.5, 250.5, 251.5, 252.5, 253.5, 254.5,\n",
       "       255.5, 256.5, 257.5, 258.5, 259.5, 260.5, 261.5, 262.5, 263.5,\n",
       "       264.5, 265.5, 266.5, 267.5])"
      ]
     },
     "execution_count": 35,
     "metadata": {},
     "output_type": "execute_result"
    }
   ],
   "source": [
    "np.sort(df[cond]['lon'].unique())"
   ]
  },
  {
   "cell_type": "code",
   "execution_count": 4,
   "metadata": {},
   "outputs": [
    {
     "name": "stdout",
     "output_type": "stream",
     "text": [
      "<xarray.Dataset>\n",
      "Dimensions:  (time: 852, lat: 26, lon: 105)\n",
      "Coordinates:\n",
      "  * time     (time) datetime64[ns] 1950-01-15 1950-02-15 ... 2020-12-15\n",
      "  * lat      (lat) float64 21.5 22.5 23.5 24.5 25.5 ... 42.5 43.5 44.5 45.5 46.5\n",
      "  * lon      (lon) float64 116.5 117.5 118.5 119.5 ... 222.5 223.5 227.5 229.5\n",
      "Data variables:\n",
      "    E        (time, lat, lon) float64 nan nan nan nan nan ... nan nan nan nan\n",
      "<xarray.Dataset>\n",
      "Dimensions:  (time: 852, lat: 26, lon: 105)\n",
      "Coordinates:\n",
      "  * time     (time) datetime64[ns] 1950-01-15 1950-02-15 ... 2020-12-15\n",
      "  * lat      (lat) float64 21.5 22.5 23.5 24.5 25.5 ... 42.5 43.5 44.5 45.5 46.5\n",
      "  * lon      (lon) float64 116.5 117.5 118.5 119.5 ... 222.5 223.5 227.5 229.5\n",
      "Data variables:\n",
      "    C        (time, lat, lon) float64 nan nan nan nan nan ... nan nan nan nan\n"
     ]
    },
    {
     "ename": "ValueError",
     "evalue": "cannot convert a DataFrame with a non-unique MultiIndex into xarray",
     "output_type": "error",
     "traceback": [
      "\u001b[0;31m---------------------------------------------------------------------------\u001b[0m",
      "\u001b[0;31mValueError\u001b[0m                                Traceback (most recent call last)",
      "\u001b[0;32m/tmp/ipykernel_58563/1252255946.py\u001b[0m in \u001b[0;36m<module>\u001b[0;34m\u001b[0m\n\u001b[0;32m----> 1\u001b[0;31m \u001b[0mfe\u001b[0m\u001b[0;34m.\u001b[0m\u001b[0mfisheriesToDataSet\u001b[0m\u001b[0;34m(\u001b[0m\u001b[0mrescaled_fisheries_dict\u001b[0m\u001b[0;34m)\u001b[0m\u001b[0;34m\u001b[0m\u001b[0;34m\u001b[0m\u001b[0m\n\u001b[0m",
      "\u001b[0;32m~/Documents/GitHub_Repositories/OFP-Ikamoana/Ikamoana/ikamoana/fisheries_effort/fisheries_effort.py\u001b[0m in \u001b[0;36mfisheriesToDataSet\u001b[0;34m(fisheries, fishery_label, gear_label, year_label, month_label, day_label, latitude_label, longitude_label, effort_label, catch_label)\u001b[0m\n\u001b[1;32m    173\u001b[0m                                            catch_label:fishery[catch_label]})\n\u001b[1;32m    174\u001b[0m \u001b[0;34m\u001b[0m\u001b[0m\n\u001b[0;32m--> 175\u001b[0;31m         \u001b[0mfishery_effort_xr\u001b[0m \u001b[0;34m=\u001b[0m \u001b[0mfishery_to_convert\u001b[0m\u001b[0;34m[\u001b[0m\u001b[0;34m[\u001b[0m\u001b[0;34m'time'\u001b[0m\u001b[0;34m,\u001b[0m\u001b[0;34m'lat'\u001b[0m\u001b[0;34m,\u001b[0m\u001b[0;34m'lon'\u001b[0m\u001b[0;34m,\u001b[0m\u001b[0meffort_label\u001b[0m\u001b[0;34m]\u001b[0m\u001b[0;34m]\u001b[0m\u001b[0;34m.\u001b[0m\u001b[0mset_index\u001b[0m\u001b[0;34m(\u001b[0m\u001b[0;34m[\u001b[0m\u001b[0;34m\"time\"\u001b[0m\u001b[0;34m,\u001b[0m\u001b[0;34m\"lat\"\u001b[0m\u001b[0;34m,\u001b[0m\u001b[0;34m\"lon\"\u001b[0m\u001b[0;34m]\u001b[0m\u001b[0;34m)\u001b[0m\u001b[0;34m.\u001b[0m\u001b[0mto_xarray\u001b[0m\u001b[0;34m(\u001b[0m\u001b[0;34m)\u001b[0m\u001b[0;34m\u001b[0m\u001b[0;34m\u001b[0m\u001b[0m\n\u001b[0m\u001b[1;32m    176\u001b[0m         \u001b[0mfishery_catch_xr\u001b[0m \u001b[0;34m=\u001b[0m \u001b[0mfishery_to_convert\u001b[0m\u001b[0;34m[\u001b[0m\u001b[0;34m[\u001b[0m\u001b[0;34m'time'\u001b[0m\u001b[0;34m,\u001b[0m\u001b[0;34m'lat'\u001b[0m\u001b[0;34m,\u001b[0m\u001b[0;34m'lon'\u001b[0m\u001b[0;34m,\u001b[0m\u001b[0mcatch_label\u001b[0m\u001b[0;34m]\u001b[0m\u001b[0;34m]\u001b[0m\u001b[0;34m.\u001b[0m\u001b[0mset_index\u001b[0m\u001b[0;34m(\u001b[0m\u001b[0;34m[\u001b[0m\u001b[0;34m\"time\"\u001b[0m\u001b[0;34m,\u001b[0m\u001b[0;34m\"lat\"\u001b[0m\u001b[0;34m,\u001b[0m\u001b[0;34m\"lon\"\u001b[0m\u001b[0;34m]\u001b[0m\u001b[0;34m)\u001b[0m\u001b[0;34m.\u001b[0m\u001b[0mto_xarray\u001b[0m\u001b[0;34m(\u001b[0m\u001b[0;34m)\u001b[0m\u001b[0;34m\u001b[0m\u001b[0;34m\u001b[0m\u001b[0m\n\u001b[1;32m    177\u001b[0m         \u001b[0;31m#fishery_xr.attrs[\"Fishery_\"+fishery_name+\"_Gear\"] = fishery[gear_label].unique()\u001b[0m\u001b[0;34m\u001b[0m\u001b[0;34m\u001b[0m\u001b[0m\n",
      "\u001b[0;32m~/anaconda3/envs/ikamoana/lib/python3.9/site-packages/pandas/core/generic.py\u001b[0m in \u001b[0;36mto_xarray\u001b[0;34m(self)\u001b[0m\n\u001b[1;32m   3107\u001b[0m             \u001b[0;32mreturn\u001b[0m \u001b[0mxarray\u001b[0m\u001b[0;34m.\u001b[0m\u001b[0mDataArray\u001b[0m\u001b[0;34m.\u001b[0m\u001b[0mfrom_series\u001b[0m\u001b[0;34m(\u001b[0m\u001b[0mself\u001b[0m\u001b[0;34m)\u001b[0m\u001b[0;34m\u001b[0m\u001b[0;34m\u001b[0m\u001b[0m\n\u001b[1;32m   3108\u001b[0m         \u001b[0;32melse\u001b[0m\u001b[0;34m:\u001b[0m\u001b[0;34m\u001b[0m\u001b[0;34m\u001b[0m\u001b[0m\n\u001b[0;32m-> 3109\u001b[0;31m             \u001b[0;32mreturn\u001b[0m \u001b[0mxarray\u001b[0m\u001b[0;34m.\u001b[0m\u001b[0mDataset\u001b[0m\u001b[0;34m.\u001b[0m\u001b[0mfrom_dataframe\u001b[0m\u001b[0;34m(\u001b[0m\u001b[0mself\u001b[0m\u001b[0;34m)\u001b[0m\u001b[0;34m\u001b[0m\u001b[0;34m\u001b[0m\u001b[0m\n\u001b[0m\u001b[1;32m   3110\u001b[0m \u001b[0;34m\u001b[0m\u001b[0m\n\u001b[1;32m   3111\u001b[0m     \u001b[0;34m@\u001b[0m\u001b[0mfinal\u001b[0m\u001b[0;34m\u001b[0m\u001b[0;34m\u001b[0m\u001b[0m\n",
      "\u001b[0;32m~/anaconda3/envs/ikamoana/lib/python3.9/site-packages/xarray/core/dataset.py\u001b[0m in \u001b[0;36mfrom_dataframe\u001b[0;34m(cls, dataframe, sparse)\u001b[0m\n\u001b[1;32m   5503\u001b[0m \u001b[0;34m\u001b[0m\u001b[0m\n\u001b[1;32m   5504\u001b[0m         \u001b[0;32mif\u001b[0m \u001b[0misinstance\u001b[0m\u001b[0;34m(\u001b[0m\u001b[0midx\u001b[0m\u001b[0;34m,\u001b[0m \u001b[0mpd\u001b[0m\u001b[0;34m.\u001b[0m\u001b[0mMultiIndex\u001b[0m\u001b[0;34m)\u001b[0m \u001b[0;32mand\u001b[0m \u001b[0;32mnot\u001b[0m \u001b[0midx\u001b[0m\u001b[0;34m.\u001b[0m\u001b[0mis_unique\u001b[0m\u001b[0;34m:\u001b[0m\u001b[0;34m\u001b[0m\u001b[0;34m\u001b[0m\u001b[0m\n\u001b[0;32m-> 5505\u001b[0;31m             raise ValueError(\n\u001b[0m\u001b[1;32m   5506\u001b[0m                 \u001b[0;34m\"cannot convert a DataFrame with a non-unique MultiIndex into xarray\"\u001b[0m\u001b[0;34m\u001b[0m\u001b[0;34m\u001b[0m\u001b[0m\n\u001b[1;32m   5507\u001b[0m             )\n",
      "\u001b[0;31mValueError\u001b[0m: cannot convert a DataFrame with a non-unique MultiIndex into xarray"
     ]
    }
   ],
   "source": [
    "fe.fisheriesToDataSet(rescaled_fisheries_dict)"
   ]
  }
 ],
 "metadata": {
  "interpreter": {
   "hash": "ffb4c739a54b0f14d85400558931514482bb564738e7dc16fa6fbcf98080c52d"
  },
  "kernelspec": {
   "display_name": "Python 3.9.7 64-bit ('cps': conda)",
   "language": "python",
   "name": "python3"
  },
  "language_info": {
   "codemirror_mode": {
    "name": "ipython",
    "version": 3
   },
   "file_extension": ".py",
   "mimetype": "text/x-python",
   "name": "python",
   "nbconvert_exporter": "python",
   "pygments_lexer": "ipython3",
   "version": "3.9.7"
  },
  "orig_nbformat": 4
 },
 "nbformat": 4,
 "nbformat_minor": 2
}

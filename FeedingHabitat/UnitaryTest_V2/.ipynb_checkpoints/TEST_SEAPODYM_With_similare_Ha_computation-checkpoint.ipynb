{
 "cells": [
  {
   "cell_type": "code",
   "execution_count": 1,
   "id": "c76db1f4-9def-4f8c-89a4-50b7dcc93fb9",
   "metadata": {},
   "outputs": [],
   "source": [
    "from sys import path\n",
    "path.append(\"./..\")\n",
    "from feedingHabitat_v3 import FeedingHabitat\n",
    "\n",
    "import numpy as np"
   ]
  },
  {
   "cell_type": "code",
   "execution_count": 2,
   "id": "2b0a9805-9291-451a-a3f6-b77ed4190bff",
   "metadata": {},
   "outputs": [],
   "source": [
    "config_file_path = \"./TEST_SEAPODYM_skj_po_interim.xml\"\n",
    "feeding_habitat_1 = FeedingHabitat(config_file_path, partial_cohorts_computation=[11,36])"
   ]
  },
  {
   "cell_type": "raw",
   "id": "b7538cba-4cb5-4423-a0f3-e8099ecda40b",
   "metadata": {},
   "source": [
    "feeding_habitat_1.correctEpiTempWithZeu()"
   ]
  },
  {
   "cell_type": "code",
   "execution_count": 3,
   "id": "82d324a4-a719-4d82-962c-5b4959bc1793",
   "metadata": {},
   "outputs": [
    {
     "name": "stdout",
     "output_type": "stream",
     "text": [
      "Files will be saved at : ./out/everything_SEAPODYM_way/\n",
      "Computing oxygen\n",
      "Cohort 11 : computing temperature\n",
      "Cohort 11 : saving Ha in NetCDF file\n",
      "Cohort 36 : computing temperature\n",
      "Cohort 36 : saving Ha in NetCDF file\n"
     ]
    }
   ],
   "source": [
    "feeding_habitat_1.computeFeedingHabitat('./out/everything_SEAPODYM_way/')"
   ]
  },
  {
   "cell_type": "code",
   "execution_count": null,
   "id": "f6228fbc-fd04-4767-9fbf-3b9a23c32797",
   "metadata": {},
   "outputs": [],
   "source": []
  }
 ],
 "metadata": {
  "kernelspec": {
   "display_name": "Python 3",
   "language": "python",
   "name": "python3"
  },
  "language_info": {
   "codemirror_mode": {
    "name": "ipython",
    "version": 3
   },
   "file_extension": ".py",
   "mimetype": "text/x-python",
   "name": "python",
   "nbconvert_exporter": "python",
   "pygments_lexer": "ipython3",
   "version": "3.8.5"
  }
 },
 "nbformat": 4,
 "nbformat_minor": 5
}

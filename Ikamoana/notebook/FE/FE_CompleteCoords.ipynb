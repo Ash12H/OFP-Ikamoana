{
 "cells": [
  {
   "cell_type": "code",
   "execution_count": 1,
   "id": "7d72ab08",
   "metadata": {},
   "outputs": [],
   "source": [
    "import sys\n",
    "sys.path.append('./../../')"
   ]
  },
  {
   "cell_type": "code",
   "execution_count": 2,
   "metadata": {},
   "outputs": [],
   "source": [
    "import ikamoana.fisherieseffort.fisherieseffort as fe\n",
    "import ikamoana.feedinghabitat.feedinghabitat as fh\n",
    "import xarray as xr\n",
    "import pandas as pd\n",
    "import numpy as np\n",
    "from typing import Union"
   ]
  },
  {
   "cell_type": "code",
   "execution_count": 2,
   "metadata": {},
   "outputs": [],
   "source": [
    "filepath = \"./../../data/fisheries_effort/fisheries_data_2021_Nov8.txt\""
   ]
  },
  {
   "cell_type": "markdown",
   "metadata": {},
   "source": [
    "---\n",
    "## Fishery Effort Time Coords"
   ]
  },
  {
   "cell_type": "code",
   "execution_count": 3,
   "metadata": {},
   "outputs": [
    {
     "name": "stdout",
     "output_type": "stream",
     "text": [
      "356\n",
      "1974-01-15T00:00:00.000000000\n",
      "2014-08-15T00:00:00.000000000\n"
     ]
    }
   ],
   "source": [
    "fisheries_df = fe.readFile(filepath, header_position=0, columns_name=None)\n",
    "fisheries_dict = fe.separateFisheries(fisheries_df)\n",
    "fisheries_rescaled_dict = fe.rescaleFisheries({15:fisheries_dict[15]})\n",
    "fisheries_groub_by_dict = fe.groupByFisheries(fisheries_rescaled_dict)\n",
    "f15 = fisheries_groub_by_dict[15]\n",
    "fe15, _ = fe.fisheriesToDataSet(fisheries_groub_by_dict)\n",
    "fe15 = fe15[15]\n",
    "fe15_time = fe15.time.data\n",
    "print(fe15_time.size)\n",
    "print(fe15_time[0])\n",
    "print(fe15_time[-1])"
   ]
  },
  {
   "cell_type": "markdown",
   "metadata": {},
   "source": [
    "---\n",
    "## Feeding Habitat Time Coords"
   ]
  },
  {
   "cell_type": "code",
   "execution_count": 4,
   "metadata": {},
   "outputs": [
    {
     "name": "stdout",
     "output_type": "stream",
     "text": [
      "384\n",
      "1979-01-15T12:00:00.000000000\n",
      "2010-12-16T12:00:00.000000000\n"
     ]
    }
   ],
   "source": [
    "fh_filepath = \"./../../data/feeding_habitat_data/po_2x30_historical_interim/skj_po_interim_2deg_configuration_file.xml\"\n",
    "fh15 = fh.FeedingHabitat(fh_filepath)\n",
    "fhcoords15_time = fh15.data_structure.coords['time'].data\n",
    "print(fhcoords15_time.size)\n",
    "print(fhcoords15_time[0])\n",
    "print(fhcoords15_time[-1])"
   ]
  },
  {
   "cell_type": "markdown",
   "metadata": {},
   "source": [
    "---"
   ]
  },
  {
   "cell_type": "markdown",
   "metadata": {},
   "source": [
    "## But coords are not continuous, we need to fill in the gaps"
   ]
  },
  {
   "cell_type": "markdown",
   "metadata": {},
   "source": [
    "### Before reshaping"
   ]
  },
  {
   "cell_type": "code",
   "execution_count": 5,
   "metadata": {},
   "outputs": [
    {
     "name": "stdout",
     "output_type": "stream",
     "text": [
      "(356, 50, 54)\n",
      "48865.0\n"
     ]
    }
   ],
   "source": [
    "print(fe15.shape)\n",
    "print(fe15.sum().data)"
   ]
  },
  {
   "cell_type": "markdown",
   "metadata": {},
   "source": [
    "### After reshaping"
   ]
  },
  {
   "cell_type": "code",
   "execution_count": 6,
   "metadata": {},
   "outputs": [
    {
     "name": "stdout",
     "output_type": "stream",
     "text": [
      "(488, 51, 55)\n",
      "48865.0\n"
     ]
    }
   ],
   "source": [
    "tmp = fe._completeCoords(fe15, 30, 1)\n",
    "print(tmp.shape)\n",
    "print(tmp.sum().data)"
   ]
  },
  {
   "cell_type": "markdown",
   "metadata": {},
   "source": [
    "> ### Becarfull : Can't be use to downscale data. ( => Loss )"
   ]
  },
  {
   "cell_type": "code",
   "execution_count": 7,
   "metadata": {},
   "outputs": [
    {
     "name": "stdout",
     "output_type": "stream",
     "text": [
      "(2119, 26, 28)\n",
      "2408.0\n"
     ]
    }
   ],
   "source": [
    "tmp = fe._completeCoords(fe15, 7, 2)\n",
    "print(tmp.shape)\n",
    "print(tmp.sum().data)"
   ]
  },
  {
   "cell_type": "markdown",
   "metadata": {},
   "source": [
    "---"
   ]
  }
 ],
 "metadata": {
  "interpreter": {
   "hash": "37ec2f13ba464e68fd0ed37b53a9616d3f8194c3696da374c2105063a1dc0216"
  },
  "kernelspec": {
   "display_name": "Python 3.9.7 64-bit ('ikamoana': conda)",
   "language": "python",
   "name": "python3"
  },
  "language_info": {
   "codemirror_mode": {
    "name": "ipython",
    "version": 3
   },
   "file_extension": ".py",
   "mimetype": "text/x-python",
   "name": "python",
   "nbconvert_exporter": "python",
   "pygments_lexer": "ipython3",
   "version": "3.9.7"
  },
  "orig_nbformat": 4
 },
 "nbformat": 4,
 "nbformat_minor": 2
}

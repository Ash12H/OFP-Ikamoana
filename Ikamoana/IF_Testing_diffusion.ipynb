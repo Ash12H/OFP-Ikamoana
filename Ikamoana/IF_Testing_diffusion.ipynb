{
 "cells": [
  {
   "cell_type": "code",
   "execution_count": 1,
   "metadata": {},
   "outputs": [],
   "source": [
    "import ikamoana\n",
    "import numpy as np\n",
    "import xarray as xr\n",
    "import ikamoana.SEAPODYM_functions_Parcels3 as sfp"
   ]
  },
  {
   "cell_type": "code",
   "execution_count": 2,
   "metadata": {},
   "outputs": [],
   "source": [
    "xml_filepath=\"./data/feeding_habitat_data/po_2x30_historical_interim/skj_po_interim_2deg_configuration_file.xml\"\n",
    "ikaf = ikamoana.ikamoanafields.ikamoanafields.IkamoanaFields(xml_filepath,xml_filepath)\n",
    "fh = ikamoana.feedinghabitat.FeedingHabitat(xml_filepath)"
   ]
  },
  {
   "cell_type": "raw",
   "metadata": {},
   "source": [
    "hab_0 = fh.computeFeedingHabitat(0)"
   ]
  },
  {
   "cell_type": "raw",
   "metadata": {},
   "source": [
    "ikaf.diffusion(hab_0['Feeding_Habitat_Cohort_0'])"
   ]
  },
  {
   "cell_type": "markdown",
   "metadata": {},
   "source": [
    "---\n",
    "## Xarray"
   ]
  },
  {
   "cell_type": "code",
   "execution_count": 3,
   "metadata": {},
   "outputs": [],
   "source": [
    "hab_0_36 = fh.computeEvolvingFeedingHabitat()\n",
    "hab_0_36 = hab_0_36.sel(time=hab_0_36.time.data[:36])\n",
    "dif_xr = ikaf.diffusion(hab_0_36)"
   ]
  },
  {
   "cell_type": "markdown",
   "metadata": {},
   "source": [
    "---\n",
    "## Parcels"
   ]
  },
  {
   "cell_type": "code",
   "execution_count": 4,
   "metadata": {},
   "outputs": [],
   "source": [
    "hab_0_36_parcels = ikamoana.ikamoanafields.ikamoanafields.convertToField(hab_0_36)\n",
    "dif_parcels = sfp.Create_SEAPODYM_Diffusion_Field(\n",
    "    hab_0_36_parcels.Feeding_Habitat_Cohort_0_to_36,\n",
    "    ikaf.feeding_habitat_structure.data_structure.species_dictionary['cohorts_mean_length'],\n",
    "    start_age=1,\n",
    "    verbose=False)"
   ]
  },
  {
   "cell_type": "markdown",
   "metadata": {},
   "source": [
    "---"
   ]
  },
  {
   "cell_type": "code",
   "execution_count": 10,
   "metadata": {},
   "outputs": [],
   "source": [
    "round = False"
   ]
  },
  {
   "cell_type": "code",
   "execution_count": 11,
   "metadata": {},
   "outputs": [],
   "source": [
    "dif_parcels_data = np.round(dif_parcels.data) if round else dif_parcels.data \n",
    "dif_xr_data = np.round(dif_xr.data) if round else dif_xr.data\n",
    "dif_xr_data = np.flip(dif_xr_data, axis=1)"
   ]
  },
  {
   "cell_type": "code",
   "execution_count": 12,
   "metadata": {},
   "outputs": [
    {
     "name": "stdout",
     "output_type": "stream",
     "text": [
      "(36, 60, 101)\n",
      "(36, 60, 101)\n"
     ]
    }
   ],
   "source": [
    "print(dif_parcels_data.shape)\n",
    "print(dif_xr_data.shape)"
   ]
  },
  {
   "cell_type": "markdown",
   "metadata": {},
   "source": [
    "---\n",
    "## Differences"
   ]
  },
  {
   "cell_type": "code",
   "execution_count": 13,
   "metadata": {},
   "outputs": [
    {
     "name": "stdout",
     "output_type": "stream",
     "text": [
      "202872\n",
      "218160\n"
     ]
    }
   ],
   "source": [
    "print(np.sum(dif_parcels_data == dif_xr_data))\n",
    "print(dif_parcels_data.size)"
   ]
  },
  {
   "cell_type": "code",
   "execution_count": 14,
   "metadata": {},
   "outputs": [
    {
     "data": {
      "text/plain": [
       "array([  103.22364 ,   103.223595,   103.2236  , ..., 78688.63    ,\n",
       "       78688.63    , 78688.63    ], dtype=float32)"
      ]
     },
     "execution_count": 14,
     "metadata": {},
     "output_type": "execute_result"
    }
   ],
   "source": [
    "dif_parcels_data[dif_parcels_data != dif_xr_data]"
   ]
  },
  {
   "cell_type": "code",
   "execution_count": 15,
   "metadata": {},
   "outputs": [
    {
     "data": {
      "text/plain": [
       "array([  103.22365 ,   103.22359 ,   103.223595, ..., 78688.64    ,\n",
       "       78688.625   , 78688.64    ], dtype=float32)"
      ]
     },
     "execution_count": 15,
     "metadata": {},
     "output_type": "execute_result"
    }
   ],
   "source": [
    "dif_xr_data[dif_parcels_data != dif_xr_data]"
   ]
  }
 ],
 "metadata": {
  "interpreter": {
   "hash": "ffb4c739a54b0f14d85400558931514482bb564738e7dc16fa6fbcf98080c52d"
  },
  "kernelspec": {
   "display_name": "Python 3.9.7 64-bit ('cps': conda)",
   "language": "python",
   "name": "python3"
  },
  "language_info": {
   "codemirror_mode": {
    "name": "ipython",
    "version": 3
   },
   "file_extension": ".py",
   "mimetype": "text/x-python",
   "name": "python",
   "nbconvert_exporter": "python",
   "pygments_lexer": "ipython3",
   "version": "3.9.7"
  },
  "orig_nbformat": 4
 },
 "nbformat": 4,
 "nbformat_minor": 2
}

{
 "cells": [
  {
   "cell_type": "code",
   "execution_count": 1,
   "metadata": {},
   "outputs": [],
   "source": [
    "import xml.etree.ElementTree as ET\n",
    "tree = ET.parse('./Data_Test/skj_po_interim_2deg_configuration_file.xml')\n",
    "root = tree.getroot()"
   ]
  },
  {
   "cell_type": "markdown",
   "metadata": {},
   "source": [
    "----\n",
    "# Root Directory"
   ]
  },
  {
   "cell_type": "code",
   "execution_count": 2,
   "metadata": {},
   "outputs": [
    {
     "name": "stdout",
     "output_type": "stream",
     "text": [
      "/datalocal/isenina/run-freeglorys-025x30d-1998-2019-po/\n"
     ]
    }
   ],
   "source": [
    "rep_root = root.find('strdir').attrib['value']\n",
    "print(rep_root)"
   ]
  },
  {
   "cell_type": "code",
   "execution_count": 12,
   "metadata": {},
   "outputs": [
    {
     "name": "stdout",
     "output_type": "stream",
     "text": [
      "37\n",
      "3\n"
     ]
    }
   ],
   "source": [
    "nb_cohorts = sum([int(x) for x in root.find('nb_cohort_life_stage')[0].text.split(' ')])\n",
    "nb_layers = int(root.find('nb_layer').attrib['value'])\n",
    "\n",
    "print(nb_cohorts)\n",
    "print(nb_layers)"
   ]
  },
  {
   "cell_type": "markdown",
   "metadata": {},
   "source": [
    "----\n",
    "# Temperature"
   ]
  },
  {
   "cell_type": "code",
   "execution_count": 3,
   "metadata": {},
   "outputs": [
    {
     "name": "stdout",
     "output_type": "stream",
     "text": [
      "/datalocal/isenina/run-freeglorys-025x30d-1998-2019-po/po_freeglorys2v4_rxd_025x30d_temperature_L1_1980.dym\n",
      "/datalocal/isenina/run-freeglorys-025x30d-1998-2019-po/po_freeglorys2v4_rxd_025x30d_temperature_L2_1980.dym\n",
      "/datalocal/isenina/run-freeglorys-025x30d-1998-2019-po/po_freeglorys2v4_rxd_025x30d_temperature_L3_1980.dym\n"
     ]
    }
   ],
   "source": [
    "for temp_file in root.find('strfile_t_clm').attrib.values() :\n",
    "    print(rep_root+temp_file)"
   ]
  },
  {
   "cell_type": "markdown",
   "metadata": {},
   "source": [
    "----\n",
    "# Oxygen"
   ]
  },
  {
   "cell_type": "code",
   "execution_count": 4,
   "metadata": {},
   "outputs": [
    {
     "name": "stdout",
     "output_type": "stream",
     "text": [
      "/datalocal/isenina/run-freeglorys-025x30d-1998-2019-po/po_freeglorys2v4_rxd_025x30d_O2_L1_1980.dym\n",
      "/datalocal/isenina/run-freeglorys-025x30d-1998-2019-po/po_freeglorys2v4_rxd_025x30d_O2_L2_1980.dym\n",
      "/datalocal/isenina/run-freeglorys-025x30d-1998-2019-po/po_freeglorys2v4_rxd_025x30d_O2_L3_1980.dym\n"
     ]
    }
   ],
   "source": [
    "for oxy_file in root.find('strfile_oxy_clm').attrib.values() :\n",
    "    print(rep_root+oxy_file)"
   ]
  },
  {
   "cell_type": "code",
   "execution_count": 5,
   "metadata": {},
   "outputs": [
    {
     "name": "stdout",
     "output_type": "stream",
     "text": [
      "monthly\n"
     ]
    }
   ],
   "source": [
    "tmp = root.find('type_oxy').attrib['value']\n",
    "if tmp == '0' :\n",
    "    print('time series')\n",
    "if tmp == '1' :\n",
    "    print('monthly')\n",
    "\n",
    "#Obsolet\n",
    "#if tmp == '2' :\n",
    "#    print('seasonal')\n",
    "\n",
    "del tmp"
   ]
  },
  {
   "cell_type": "markdown",
   "metadata": {},
   "source": [
    "----\n",
    "# Forage"
   ]
  },
  {
   "cell_type": "markdown",
   "metadata": {},
   "source": [
    "## Order"
   ]
  },
  {
   "cell_type": "code",
   "execution_count": 10,
   "metadata": {},
   "outputs": [
    {
     "name": "stdout",
     "output_type": "stream",
     "text": [
      "{'epi': '0', 'meso': '1', 'mmeso': '1', 'bathy': '2', 'mbathy': '2', 'hmbathy': '2'}\n",
      "{'epi': '0', 'meso': '1', 'mmeso': '0', 'bathy': '2', 'mbathy': '1', 'hmbathy': '0'}\n"
     ]
    }
   ],
   "source": [
    "a = root.find('day_layer').attrib\n",
    "b = root.find('night_layer').attrib\n",
    "print(a)\n",
    "print(b)"
   ]
  },
  {
   "cell_type": "code",
   "execution_count": 13,
   "metadata": {},
   "outputs": [
    {
     "name": "stdout",
     "output_type": "stream",
     "text": [
      "{'epi': ('0', '0'), 'meso': ('1', '1'), 'mmeso': ('1', '0'), 'bathy': ('2', '2'), 'mbathy': ('2', '1'), 'hmbathy': ('2', '0')}\n",
      "['epi', 'meso', 'mmeso', 'bathy', 'mbathy', 'hmbathy']\n"
     ]
    }
   ],
   "source": [
    "tmp_ordered_forage = {}\n",
    "ordered_forage = []\n",
    "\n",
    "for k_a, v_a in a.items() :\n",
    "    for k_b, v_b in b.items() :\n",
    "        if k_a == k_b :\n",
    "            tmp_ordered_forage[k_a] = (v_a, v_b)\n",
    "print(tmp_ordered_forage)\n",
    "\n",
    "key_list = list(tmp_ordered_forage.keys())\n",
    "val_list = list(tmp_ordered_forage.values())\n",
    "\n",
    "for x in range(nb_layers) :\n",
    "    for y in reversed(range(x+1)) :\n",
    "        position = val_list.index((str(x),str(y)))\n",
    "        ordered_forage.append(key_list[position])\n",
    "\n",
    "del tmp_ordered_forage\n",
    "print(ordered_forage)"
   ]
  },
  {
   "cell_type": "raw",
   "metadata": {},
   "source": [
    "#                                                                            #\n",
    "#   SHOULD FIND --> ['meso', 'epi', 'hmbathy', 'bathy', 'mbathy', 'mmeso']   #\n",
    "#                                                                            #\n",
    "\n",
    "nb_layers = int(root.find('nb_layer').attrib['value'])\n",
    "tmp_ordered_forage = {}\n",
    "ordered_forage = []\n",
    "\n",
    "for k_a, v_a in a.items() :\n",
    "    for k_b, v_b in b.items() :\n",
    "        if k_a == k_b :\n",
    "            tmp_ordered_forage[k_a] = (v_a, v_b)\n",
    "\n",
    "tmp_ordered_forage['epi'] = ('1','1')\n",
    "tmp_ordered_forage['meso'] = ('0','0')\n",
    "tmp_ordered_forage['mmeso'] = ('2','0')\n",
    "tmp_ordered_forage['hmbathy'] = ('1','0')\n",
    "\n",
    "print(tmp_ordered_forage)\n",
    "\n",
    "key_list = list(tmp_ordered_forage.keys())\n",
    "val_list = list(tmp_ordered_forage.values())\n",
    "\n",
    "for x in range(nb_layers) :\n",
    "    for y in reversed(range(x+1)) :\n",
    "        position = val_list.index((str(x),str(y)))\n",
    "        ordered_forage.append(key_list[position])\n",
    "\n",
    "del tmp_ordered_forage\n",
    "print(ordered_forage)"
   ]
  },
  {
   "cell_type": "raw",
   "metadata": {},
   "source": [
    "{'epi': ('1', '1'), 'meso': ('0', '0'), 'mmeso': ('2', '0'), 'bathy': ('2', '2'), 'mbathy': ('2', '1'), 'hmbathy': ('1', '0')}\n",
    "['meso', 'epi', 'hmbathy', 'bathy', 'mbathy', 'mmeso']"
   ]
  },
  {
   "cell_type": "markdown",
   "metadata": {},
   "source": [
    "## File"
   ]
  },
  {
   "cell_type": "code",
   "execution_count": 14,
   "metadata": {},
   "outputs": [
    {
     "name": "stdout",
     "output_type": "stream",
     "text": [
      "forage-vgpm/\n"
     ]
    }
   ],
   "source": [
    "rep_forage = root.find('strdir_forage').attrib['value']\n",
    "print(rep_forage)"
   ]
  },
  {
   "cell_type": "code",
   "execution_count": 15,
   "metadata": {},
   "outputs": [
    {
     "name": "stdout",
     "output_type": "stream",
     "text": [
      "/datalocal/isenina/run-freeglorys-025x30d-1998-2019-po/forage-vgpm/Fbiom_epi.nc\n",
      "/datalocal/isenina/run-freeglorys-025x30d-1998-2019-po/forage-vgpm/Fbiom_meso.nc\n",
      "/datalocal/isenina/run-freeglorys-025x30d-1998-2019-po/forage-vgpm/Fbiom_mmeso.nc\n",
      "/datalocal/isenina/run-freeglorys-025x30d-1998-2019-po/forage-vgpm/Fbiom_bathy.nc\n",
      "/datalocal/isenina/run-freeglorys-025x30d-1998-2019-po/forage-vgpm/Fbiom_mbathy.nc\n",
      "/datalocal/isenina/run-freeglorys-025x30d-1998-2019-po/forage-vgpm/Fbiom_hmbathy.nc\n"
     ]
    }
   ],
   "source": [
    "for forage in ordered_forage :\n",
    "    print(rep_root+rep_forage+'Fbiom_'+forage+\".nc\")"
   ]
  },
  {
   "cell_type": "markdown",
   "metadata": {},
   "source": [
    "----\n",
    "# Mask"
   ]
  },
  {
   "cell_type": "code",
   "execution_count": 17,
   "metadata": {},
   "outputs": [
    {
     "data": {
      "text/plain": [
       "'/datalocal/isenina/run-freeglorys-025x30d-1998-2019-po/mask_freeglorys_025deg_corrected_noIO_short.txt'"
      ]
     },
     "execution_count": 17,
     "metadata": {},
     "output_type": "execute_result"
    }
   ],
   "source": [
    "rep_root+root.find('str_file_mask').attrib['value']"
   ]
  },
  {
   "cell_type": "markdown",
   "metadata": {},
   "source": [
    "----\n",
    "# Output Directory"
   ]
  },
  {
   "cell_type": "code",
   "execution_count": 6,
   "metadata": {},
   "outputs": [
    {
     "data": {
      "text/plain": [
       "'output/'"
      ]
     },
     "execution_count": 6,
     "metadata": {},
     "output_type": "execute_result"
    }
   ],
   "source": [
    "root.find('strdir_output').attrib['value']"
   ]
  },
  {
   "cell_type": "markdown",
   "metadata": {},
   "source": [
    "----\n",
    "# Lengths"
   ]
  },
  {
   "cell_type": "code",
   "execution_count": 18,
   "metadata": {},
   "outputs": [],
   "source": [
    "buffer_length = []\n",
    "for length in root.find('length')[0].text.split(' ') :\n",
    "    if length != '' :\n",
    "        buffer_length.append(float(length))"
   ]
  },
  {
   "cell_type": "code",
   "execution_count": 19,
   "metadata": {},
   "outputs": [
    {
     "name": "stdout",
     "output_type": "stream",
     "text": [
      "[3.0, 4.5, 7.52, 11.65, 16.91, 21.83, 26.43, 30.72, 34.73, 38.49, 41.99, 45.27, 48.33, 51.19, 53.86, 56.36, 58.7, 60.88, 62.92, 64.83, 66.61, 68.27, 69.83, 71.28, 72.64, 73.91, 75.1, 76.21, 77.25, 78.22, 79.12, 79.97, 80.76, 81.5, 82.19, 82.83, 87.96]\n"
     ]
    }
   ],
   "source": [
    "print(buffer_length)"
   ]
  },
  {
   "cell_type": "markdown",
   "metadata": {},
   "source": [
    "----\n",
    "# Weigths"
   ]
  },
  {
   "cell_type": "code",
   "execution_count": 22,
   "metadata": {},
   "outputs": [],
   "source": [
    "buffer_weigth = []\n",
    "for weigth in root.find('weight')[0].text.split(' ') :\n",
    "    if weigth != '' :\n",
    "        buffer_weigth.append(float(weigth))"
   ]
  },
  {
   "cell_type": "code",
   "execution_count": 23,
   "metadata": {},
   "outputs": [
    {
     "name": "stdout",
     "output_type": "stream",
     "text": [
      "[0.0003, 0.00109, 0.00571, 0.023, 0.08, 0.18, 0.32, 0.53, 0.78, 1.09, 1.44, 1.84, 2.27, 2.73, 3.21, 3.72, 4.23, 4.76, 5.3, 5.83, 6.36, 6.89, 7.4, 7.91, 8.41, 8.89, 9.36, 9.81, 10.25, 10.66, 11.07, 11.45, 11.82, 12.17, 12.51, 12.83, 15.56]\n"
     ]
    }
   ],
   "source": [
    "print(buffer_weigth)"
   ]
  },
  {
   "cell_type": "markdown",
   "metadata": {},
   "source": [
    "----\n",
    "# Parameters\n",
    "## eF"
   ]
  },
  {
   "cell_type": "code",
   "execution_count": 25,
   "metadata": {},
   "outputs": [
    {
     "name": "stdout",
     "output_type": "stream",
     "text": [
      "['0.04507713477165387', '0.05', '4.999999999806264', '0.0', '0.0', '2.556631372954981']\n"
     ]
    }
   ],
   "source": [
    "eF = root.find('eF_habitat')\n",
    "eF_list = []\n",
    "\n",
    "for element in ordered_forage :\n",
    "    tmp_eF = eF.find(element)\n",
    "#    print(tmp_eF)\n",
    "#    print(tmp_eF.attrib,end='\\n\\n')\n",
    "    eF_list.append(list(tmp_eF.attrib.values())[0])\n",
    "\n",
    "print(eF_list)"
   ]
  },
  {
   "cell_type": "markdown",
   "metadata": {},
   "source": [
    "## Sigma"
   ]
  },
  {
   "cell_type": "code",
   "execution_count": 26,
   "metadata": {},
   "outputs": [
    {
     "name": "stdout",
     "output_type": "stream",
     "text": [
      "{'skj': '1.458299960257398'}\n",
      "1.458299960257398\n",
      "\n",
      "{'skj': '3.255065398014956'}\n",
      "3.255065398014956\n",
      "\n"
     ]
    }
   ],
   "source": [
    "#sigma 0\n",
    "print(root.find('a_sst_larvae').attrib)\n",
    "print(list(root.find('a_sst_larvae').attrib.values())[0],end='\\n\\n')\n",
    "\n",
    "#sigma K\n",
    "print(root.find('a_sst_habitat').attrib)\n",
    "print(list(root.find('a_sst_habitat').attrib.values())[0],end='\\n\\n')"
   ]
  },
  {
   "cell_type": "markdown",
   "metadata": {},
   "source": [
    "## T*"
   ]
  },
  {
   "cell_type": "code",
   "execution_count": 16,
   "metadata": {},
   "outputs": [
    {
     "name": "stdout",
     "output_type": "stream",
     "text": [
      "{'skj': '28.72407840883895'}\n",
      "28.72407840883895\n",
      "\n",
      "{'skj': '27.54999999968445'}\n",
      "27.54999999968445\n",
      "\n"
     ]
    }
   ],
   "source": [
    "#T*_0\n",
    "print(root.findall('b_sst_larvae')[0].attrib)\n",
    "print(list(root.findall('b_sst_larvae')[0].attrib.values())[0],end='\\n\\n')\n",
    "\n",
    "#T*_K\n",
    "print(root.findall('b_sst_habitat')[0].attrib)\n",
    "print(list(root.findall('b_sst_habitat')[0].attrib.values())[0],end='\\n\\n')"
   ]
  },
  {
   "cell_type": "markdown",
   "metadata": {},
   "source": [
    "## bT"
   ]
  },
  {
   "cell_type": "code",
   "execution_count": 17,
   "metadata": {},
   "outputs": [
    {
     "name": "stdout",
     "output_type": "stream",
     "text": [
      "{'skj': '2.564600347374714'}\n",
      "2.564600347374714\n",
      "\n"
     ]
    }
   ],
   "source": [
    "print(root.findall('T_age_size_slope')[0].attrib)\n",
    "print(list(root.findall('T_age_size_slope')[0].attrib.values())[0],end='\\n\\n')"
   ]
  },
  {
   "cell_type": "markdown",
   "metadata": {},
   "source": [
    "## Gamma"
   ]
  },
  {
   "cell_type": "code",
   "execution_count": 19,
   "metadata": {},
   "outputs": [
    {
     "name": "stdout",
     "output_type": "stream",
     "text": [
      "{'skj': '0.0139731044278165'}\n",
      "0.0139731044278165\n",
      "\n"
     ]
    }
   ],
   "source": [
    "print(root.findall('a_oxy_habitat')[0].attrib)\n",
    "print(list(root.findall('a_oxy_habitat')[0].attrib.values())[0],end='\\n\\n')"
   ]
  },
  {
   "cell_type": "markdown",
   "metadata": {},
   "source": [
    "## O*"
   ]
  },
  {
   "cell_type": "code",
   "execution_count": 20,
   "metadata": {},
   "outputs": [
    {
     "name": "stdout",
     "output_type": "stream",
     "text": [
      "{'skj': '3.716132203115754'}\n",
      "3.716132203115754\n",
      "\n"
     ]
    }
   ],
   "source": [
    "print(root.findall('b_oxy_habitat')[0].attrib)\n",
    "print(list(root.findall('b_oxy_habitat')[0].attrib.values())[0],end='\\n\\n')"
   ]
  }
 ],
 "metadata": {
  "kernelspec": {
   "display_name": "Python 3",
   "language": "python",
   "name": "python3"
  },
  "language_info": {
   "codemirror_mode": {
    "name": "ipython",
    "version": 3
   },
   "file_extension": ".py",
   "mimetype": "text/x-python",
   "name": "python",
   "nbconvert_exporter": "python",
   "pygments_lexer": "ipython3",
   "version": "3.8.5"
  }
 },
 "nbformat": 4,
 "nbformat_minor": 4
}

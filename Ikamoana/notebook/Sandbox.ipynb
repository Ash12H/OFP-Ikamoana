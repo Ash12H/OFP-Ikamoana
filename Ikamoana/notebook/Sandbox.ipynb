{
 "cells": [
  {
   "cell_type": "code",
   "execution_count": 1,
   "id": "7d72ab08",
   "metadata": {},
   "outputs": [],
   "source": [
    "import sys\n",
    "sys.path.append('./../')"
   ]
  },
  {
   "cell_type": "code",
   "execution_count": 2,
   "id": "d373979f-40e0-48d3-8484-a7c211b57453",
   "metadata": {},
   "outputs": [],
   "source": [
    "import ikamoana.fisherieseffort.fisherieseffort as fe\n",
    "from ikamoana.ikamoanafields import ikamoanafields\n",
    "from ikamoana.feedinghabitat import feedinghabitat"
   ]
  },
  {
   "cell_type": "markdown",
   "metadata": {},
   "source": [
    "## Initialize"
   ]
  },
  {
   "cell_type": "code",
   "execution_count": 3,
   "id": "11a23b86-56cd-4fab-a3b0-96d311b8106c",
   "metadata": {
    "tags": []
   },
   "outputs": [],
   "source": [
    "xml_filepath=\"./../data/feeding_habitat_data/po_2x30_historical_interim/skj_po_interim_2deg_configuration_file.xml\"\n",
    "fisheries_xml_filepath=\"./../data/feeding_habitat_data/po_2x30_historical_interim/ORIGINAL_skj_interim_CLT_2018_testopt.xml\"\n",
    "\n",
    "fh = feedinghabitat.FeedingHabitat(xml_filepath)\n",
    "\n",
    "# ikaf = ikamoanafields.IkamoanaFields(xml_filepath,xml_filepath)\n",
    "# ikaf.feeding_habitat_structure.data_structure.normalizeCoords()"
   ]
  },
  {
   "cell_type": "code",
   "execution_count": null,
   "metadata": {},
   "outputs": [],
   "source": [
    "fh.data_structure"
   ]
  },
  {
   "cell_type": "code",
   "execution_count": null,
   "metadata": {},
   "outputs": [],
   "source": [
    "print(fh.computeEvolvingFeedingHabitat(0,25))"
   ]
  }
 ],
 "metadata": {
  "interpreter": {
   "hash": "37ec2f13ba464e68fd0ed37b53a9616d3f8194c3696da374c2105063a1dc0216"
  },
  "kernelspec": {
   "display_name": "Python 3.9.7 64-bit ('ikamoana': conda)",
   "language": "python",
   "name": "python3"
  },
  "language_info": {
   "codemirror_mode": {
    "name": "ipython",
    "version": 3
   },
   "file_extension": ".py",
   "mimetype": "text/x-python",
   "name": "python",
   "nbconvert_exporter": "python",
   "pygments_lexer": "ipython3",
   "version": "3.9.7"
  },
  "orig_nbformat": 4
 },
 "nbformat": 4,
 "nbformat_minor": 2
}

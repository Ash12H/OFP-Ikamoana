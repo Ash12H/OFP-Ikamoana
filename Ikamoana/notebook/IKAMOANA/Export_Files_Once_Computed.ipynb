{
 "cells": [
  {
   "cell_type": "code",
   "execution_count": 1,
   "id": "19f1d1a7",
   "metadata": {},
   "outputs": [],
   "source": [
    "import sys\n",
    "sys.path.append('./../../')\n",
    "import numpy as np\n",
    "import ikamoana as ika\n",
    "import xarray as xr\n",
    "import xml.etree.ElementTree as ET"
   ]
  },
  {
   "cell_type": "code",
   "execution_count": 2,
   "id": "d6d45ac2",
   "metadata": {},
   "outputs": [
    {
     "name": "stdout",
     "output_type": "stream",
     "text": [
      "Warning : This function (correctEpiTempWithVld) was only tested for Skipjack.\n",
      " It will also add +1 to sigma_min. Cf. function documentation for more details.\n"
     ]
    }
   ],
   "source": [
    "ika_file = './../../data/ikamoana_config/IkaSim_DensityTest.xml'\n",
    "\n",
    "IkaTest = ika.ikamoana.IkaSim(ika_file)"
   ]
  },
  {
   "cell_type": "markdown",
   "metadata": {},
   "source": [
    "## Store IKAMOANA fields in NetCDF files"
   ]
  },
  {
   "cell_type": "code",
   "execution_count": 3,
   "metadata": {},
   "outputs": [],
   "source": [
    "# IkaTest.generateForcing(to_file=True)"
   ]
  },
  {
   "cell_type": "markdown",
   "metadata": {},
   "source": [
    "## Specify files name"
   ]
  },
  {
   "cell_type": "code",
   "execution_count": 4,
   "metadata": {},
   "outputs": [],
   "source": [
    "# dict_vars = {\n",
    "#     \"dK_dx\":\"IkaSim_DensityTest_dK_dx.nc\",\n",
    "#     \"dK_dy\":\"IkaSim_DensityTest_dK_dy.nc\",\n",
    "#     \"H\":\"IkaSim_DensityTest_H.nc\",\n",
    "#     \"K\":\"IkaSim_DensityTest_K.nc\",\n",
    "#     \"landmask\":\"IkaSim_DensityTest_landmask.nc\",\n",
    "#     \"start_dist\":\"IkaSim_DensityTest_start_dist.nc\",\n",
    "#     \"Tx\":\"IkaSim_DensityTest_Tx.nc\",\n",
    "#     \"Ty\":\"IkaSim_DensityTest_Ty.nc\",\n",
    "#     \"U\":\"IkaSim_DensityTest_U.nc\",\n",
    "#     \"V\":\"IkaSim_DensityTest_V.nc\",\n",
    "# }\n",
    "# IkaTest.createFieldSet(from_disk=True, variables=dict_vars)"
   ]
  },
  {
   "cell_type": "markdown",
   "metadata": {},
   "source": [
    "## Or use automatic naming (if conventional creation)"
   ]
  },
  {
   "cell_type": "code",
   "execution_count": 5,
   "metadata": {},
   "outputs": [],
   "source": [
    "IkaTest.createFieldSet(from_disk=True)"
   ]
  },
  {
   "cell_type": "code",
   "execution_count": 6,
   "metadata": {},
   "outputs": [
    {
     "data": {
      "text/plain": [
       "{'gridset': <parcels.gridset.GridSet at 0x7f579b5ec370>,\n",
       " 'completed': False,\n",
       " 'U': <parcels.field.Field at 0x7f579b65a910>,\n",
       " 'time_origin': 2008-01-15T00:00:00.000000000,\n",
       " 'V': <parcels.field.Field at 0x7f579b5eca30>,\n",
       " 'dK_dx': <parcels.field.Field at 0x7f582c4fa490>,\n",
       " 'dK_dy': <parcels.field.Field at 0x7f579b650280>,\n",
       " 'H': <parcels.field.Field at 0x7f579b650850>,\n",
       " 'K': <parcels.field.Field at 0x7f579b650790>,\n",
       " 'landmask': <parcels.field.Field at 0x7f579b6501c0>,\n",
       " 'start_dist': <parcels.field.Field at 0x7f579bf61040>,\n",
       " 'Tx': <parcels.field.Field at 0x7f579b5eecd0>,\n",
       " 'Ty': <parcels.field.Field at 0x7f579b65ac40>,\n",
       " 'compute_on_defer': None}"
      ]
     },
     "execution_count": 6,
     "metadata": {},
     "output_type": "execute_result"
    }
   ],
   "source": [
    "IkaTest.ocean.__dict__"
   ]
  }
 ],
 "metadata": {
  "interpreter": {
   "hash": "37ec2f13ba464e68fd0ed37b53a9616d3f8194c3696da374c2105063a1dc0216"
  },
  "kernelspec": {
   "display_name": "Python 3.9.7 64-bit ('ikamoana': conda)",
   "language": "python",
   "name": "python3"
  },
  "language_info": {
   "codemirror_mode": {
    "name": "ipython",
    "version": 3
   },
   "file_extension": ".py",
   "mimetype": "text/x-python",
   "name": "python",
   "nbconvert_exporter": "python",
   "pygments_lexer": "ipython3",
   "version": "3.9.7"
  },
  "orig_nbformat": 4
 },
 "nbformat": 4,
 "nbformat_minor": 2
}

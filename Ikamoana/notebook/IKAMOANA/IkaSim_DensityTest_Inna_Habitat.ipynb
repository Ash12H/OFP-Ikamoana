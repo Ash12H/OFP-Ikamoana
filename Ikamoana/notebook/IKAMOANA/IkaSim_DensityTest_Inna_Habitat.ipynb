{
 "cells": [
  {
   "cell_type": "code",
   "execution_count": 18,
   "id": "19f1d1a7",
   "metadata": {},
   "outputs": [],
   "source": [
    "import sys\n",
    "sys.path.append('./../../')\n",
    "\n",
    "import numpy as np\n",
    "import ikamoana as ika\n",
    "import xarray as xr\n",
    "import xml.etree.ElementTree as ET"
   ]
  },
  {
   "cell_type": "code",
   "execution_count": 19,
   "id": "d6d45ac2",
   "metadata": {},
   "outputs": [
    {
     "name": "stdout",
     "output_type": "stream",
     "text": [
      "Warning : This function (correctEpiTempWithVld) was only tested for Skipjack.\n",
      " It will also add +1 to sigma_min. Cf. function documentation for more details.\n"
     ]
    }
   ],
   "source": [
    "# ika_file = 'C:/Users/joes/Dropbox/SPC_2020/OFP-Ikamoana/Ikamoana/ikamoana/IkaSim_DensityTest.xml'\n",
    "ika_file = './../../data/ikamoana_fields_data/IkaSim_DensityTest.xml'\n",
    "\n",
    "IkaTest = ika.ikamoana.IkaSim(ika_file)"
   ]
  },
  {
   "cell_type": "code",
   "execution_count": 20,
   "id": "3dd4c3ca",
   "metadata": {},
   "outputs": [
    {
     "name": "stdout",
     "output_type": "stream",
     "text": [
      "Warning : This function (correctEpiTempWithVld) was only tested for Skipjack.\n",
      " It will also add +1 to sigma_min. Cf. function documentation for more details.\n"
     ]
    }
   ],
   "source": [
    "IkaTest.forcing_gen.feeding_habitat_structure.correctEpiTempWithVld()"
   ]
  },
  {
   "cell_type": "code",
   "execution_count": 21,
   "id": "201ce2be",
   "metadata": {},
   "outputs": [
    {
     "name": "stdout",
     "output_type": "stream",
     "text": [
      "167071220.0\n",
      "4.1960506\n",
      "2.1541765\n"
     ]
    }
   ],
   "source": [
    "IkaTest.generateForcing()\n",
    "print(IkaTest.forcing['K'].sum().data)\n",
    "print(IkaTest.forcing['dK_dx'].sum().data)\n",
    "print(IkaTest.forcing['dK_dy'].sum().data)"
   ]
  },
  {
   "cell_type": "code",
   "execution_count": 22,
   "id": "46aecaf1",
   "metadata": {},
   "outputs": [],
   "source": [
    "IkaTest.createFieldSet()"
   ]
  },
  {
   "cell_type": "code",
   "execution_count": 23,
   "id": "37d0cb88",
   "metadata": {},
   "outputs": [],
   "source": [
    "\n",
    "#Create N particles using the default start field distribution already loaded into the fieldset(start=None)\n",
    "N = 50000\n",
    "IkaTest.initialiseFishParticles(start=None,n_fish=N, pclass=ika.ikafish.ikafish.IkaFish)"
   ]
  },
  {
   "cell_type": "code",
   "execution_count": 24,
   "id": "9cd10abd",
   "metadata": {},
   "outputs": [
    {
     "name": "stderr",
     "output_type": "stream",
     "text": [
      "WARNING: u1 declared in multiple Kernels\n",
      "WARNING: v1 declared in multiple Kernels\n",
      "WARNING: lon1 declared in multiple Kernels\n",
      "WARNING: lat1 declared in multiple Kernels\n",
      "WARNING: u2 declared in multiple Kernels\n",
      "WARNING: v2 declared in multiple Kernels\n",
      "WARNING: lon2 declared in multiple Kernels\n",
      "WARNING: lat2 declared in multiple Kernels\n",
      "WARNING: u3 declared in multiple Kernels\n",
      "WARNING: v3 declared in multiple Kernels\n",
      "WARNING: lon3 declared in multiple Kernels\n",
      "WARNING: lat3 declared in multiple Kernels\n",
      "WARNING: u4 declared in multiple Kernels\n",
      "WARNING: v4 declared in multiple Kernels\n",
      "WARNING: u1 declared in multiple Kernels\n",
      "WARNING: v1 declared in multiple Kernels\n",
      "WARNING: lon1 declared in multiple Kernels\n",
      "WARNING: lat1 declared in multiple Kernels\n",
      "WARNING: u2 declared in multiple Kernels\n",
      "WARNING: v2 declared in multiple Kernels\n",
      "WARNING: lon2 declared in multiple Kernels\n",
      "WARNING: lat2 declared in multiple Kernels\n",
      "WARNING: u3 declared in multiple Kernels\n",
      "WARNING: v3 declared in multiple Kernels\n",
      "WARNING: lon3 declared in multiple Kernels\n",
      "WARNING: lat3 declared in multiple Kernels\n",
      "WARNING: u4 declared in multiple Kernels\n",
      "WARNING: v4 declared in multiple Kernels\n",
      "WARNING: u1 declared in multiple Kernels\n",
      "WARNING: v1 declared in multiple Kernels\n",
      "WARNING: lon1 declared in multiple Kernels\n",
      "WARNING: lat1 declared in multiple Kernels\n",
      "WARNING: u2 declared in multiple Kernels\n",
      "WARNING: v2 declared in multiple Kernels\n",
      "WARNING: lon2 declared in multiple Kernels\n",
      "WARNING: lat2 declared in multiple Kernels\n",
      "WARNING: u3 declared in multiple Kernels\n",
      "WARNING: v3 declared in multiple Kernels\n",
      "WARNING: lon3 declared in multiple Kernels\n",
      "WARNING: lat3 declared in multiple Kernels\n",
      "WARNING: u4 declared in multiple Kernels\n",
      "WARNING: v4 declared in multiple Kernels\n",
      "WARNING: Dx declared in multiple Kernels\n",
      "WARNING: Dy declared in multiple Kernels\n",
      "WARNING: Rx declared in multiple Kernels\n",
      "WARNING: Ry declared in multiple Kernels\n",
      "INFO: Compiled ArrayIkaFishCalcLonLatScalersIkAdvectionRK4TaxisRK4RandomWalkNonUniformDiffusionIkaDimMoveWithDiffusionReroll ==> /tmp/parcels-1000/lib2c589777d6ec9b5bd91977de57423bd8_0.so\n",
      "100% (864000.0 of 864000.0) |############| Elapsed Time: 0:00:00 Time:  0:00:00\n",
      "/home/ash/anaconda3/envs/ikamoana/lib/python3.9/site-packages/numpy/lib/arraysetops.py:270: VisibleDeprecationWarning: Creating an ndarray from ragged nested sequences (which is a list-or-tuple of lists-or-tuples-or ndarrays with different lengths or shapes) is deprecated. If you meant to do this, you must specify 'dtype=object' when creating the ndarray.\n",
      "  ar = np.asanyarray(ar)\n"
     ]
    }
   ],
   "source": [
    "#Run the behavioural kernels for two months\n",
    "IkaTest.runKernels(T=86400*10)"
   ]
  }
 ],
 "metadata": {
  "kernelspec": {
   "display_name": "Python 3",
   "language": "python",
   "name": "python3"
  },
  "language_info": {
   "codemirror_mode": {
    "name": "ipython",
    "version": 3
   },
   "file_extension": ".py",
   "mimetype": "text/x-python",
   "name": "python",
   "nbconvert_exporter": "python",
   "pygments_lexer": "ipython3",
   "version": "3.9.7"
  }
 },
 "nbformat": 4,
 "nbformat_minor": 5
}

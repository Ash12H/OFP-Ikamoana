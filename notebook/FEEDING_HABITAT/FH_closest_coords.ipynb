{
 "cells": [
  {
   "cell_type": "code",
   "execution_count": 1,
   "id": "7d72ab08",
   "metadata": {},
   "outputs": [],
   "source": [
    "import sys\n",
    "sys.path.append('./../../')"
   ]
  },
  {
   "cell_type": "code",
   "execution_count": 2,
   "metadata": {},
   "outputs": [],
   "source": [
    "import ikamoana\n",
    "import numpy as np"
   ]
  },
  {
   "cell_type": "code",
   "execution_count": 3,
   "metadata": {},
   "outputs": [],
   "source": [
    "xml_filepath=\"./../../data/SEAPODYM_data/run-test/skj_CLT_e5_3_est.xml\"\n",
    "fh = ikamoana.feedinghabitat.FeedingHabitat(xml_filepath)\n",
    "closestCoord = ikamoana.utils.closestCoord"
   ]
  },
  {
   "cell_type": "code",
   "execution_count": 4,
   "metadata": {},
   "outputs": [],
   "source": [
    "coord_time = fh.data_structure.variables_dictionary['forage_lmeso'].time\n",
    "coord_lat = fh.data_structure.variables_dictionary['forage_lmeso'].lat\n",
    "coord_lon = fh.data_structure.variables_dictionary['forage_lmeso'].lon"
   ]
  },
  {
   "cell_type": "code",
   "execution_count": 5,
   "metadata": {},
   "outputs": [
    {
     "name": "stdout",
     "output_type": "stream",
     "text": [
      "1995-01-15T00:00:00.000000000\n",
      "1995-01-15T00:00:00.000000000\n",
      "50.5\n",
      "89.5\n"
     ]
    }
   ],
   "source": [
    "print(closestCoord(coord_time, '1995-01-01'))\n",
    "print(closestCoord(coord_time, np.datetime64('1995-01-01')))\n",
    "print(closestCoord(coord_lat, 50))\n",
    "print(closestCoord(coord_lon, 90))"
   ]
  }
 ],
 "metadata": {
  "interpreter": {
   "hash": "ffb4c739a54b0f14d85400558931514482bb564738e7dc16fa6fbcf98080c52d"
  },
  "kernelspec": {
   "display_name": "Python 3.9.7 64-bit ('cps': conda)",
   "language": "python",
   "name": "python3"
  },
  "language_info": {
   "codemirror_mode": {
    "name": "ipython",
    "version": 3
   },
   "file_extension": ".py",
   "mimetype": "text/x-python",
   "name": "python",
   "nbconvert_exporter": "python",
   "pygments_lexer": "ipython3",
   "version": "3.9.7"
  },
  "orig_nbformat": 4
 },
 "nbformat": 4,
 "nbformat_minor": 2
}

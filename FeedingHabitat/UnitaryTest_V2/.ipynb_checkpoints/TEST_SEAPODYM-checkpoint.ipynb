{
 "cells": [
  {
   "cell_type": "code",
   "execution_count": 1,
   "id": "c76db1f4-9def-4f8c-89a4-50b7dcc93fb9",
   "metadata": {},
   "outputs": [],
   "source": [
    "from sys import path\n",
    "path.append(\"./..\")\n",
    "from feedingHabitat import FeedingHabitat\n",
    "\n",
    "import numpy as np"
   ]
  },
  {
   "cell_type": "code",
   "execution_count": 2,
   "id": "2b0a9805-9291-451a-a3f6-b77ed4190bff",
   "metadata": {},
   "outputs": [],
   "source": [
    "config_file_path = \"./TEST_SEAPODYM_skj_po_interim.xml\"\n",
    "feeding_habitat_1 = FeedingHabitat(config_file_path, partial_cohorts_computation=[11,36])"
   ]
  },
  {
   "cell_type": "code",
   "execution_count": 3,
   "id": "b426a9bb-bb8b-4ee3-9722-81512c92a1bf",
   "metadata": {},
   "outputs": [
    {
     "name": "stdout",
     "output_type": "stream",
     "text": [
      "Warning : This function (correctEpiTempWithZeu) was only tested for Skipjack.\n",
      " It will also add +1 to sigma_min. Cf. function documentation for more details.\n"
     ]
    }
   ],
   "source": [
    "feeding_habitat_1.correctEpiTempWithZeu()"
   ]
  },
  {
   "cell_type": "code",
   "execution_count": 5,
   "id": "3edec87f-b952-4175-9be7-725440d7027f",
   "metadata": {},
   "outputs": [
    {
     "name": "stdout",
     "output_type": "stream",
     "text": [
      "Files will be saved at : ./out/ZeuGrad_My_Way/\n",
      "Computing  forage\n",
      "Computing oxygen\n",
      "Cohort 11 : computing temperature\n",
      "Cohort 11 : saving Ha in NetCDF file\n",
      "Cohort 36 : computing temperature\n",
      "Cohort 36 : saving Ha in NetCDF file\n"
     ]
    }
   ],
   "source": [
    "feeding_habitat_1.computeFeedingHabitat('./out/ZeuGrad_My_Way/')"
   ]
  },
  {
   "cell_type": "code",
   "execution_count": null,
   "id": "6f635923-3c21-4f5f-8077-0110f9ab6727",
   "metadata": {},
   "outputs": [],
   "source": []
  }
 ],
 "metadata": {
  "kernelspec": {
   "display_name": "Python 3",
   "language": "python",
   "name": "python3"
  },
  "language_info": {
   "codemirror_mode": {
    "name": "ipython",
    "version": 3
   },
   "file_extension": ".py",
   "mimetype": "text/x-python",
   "name": "python",
   "nbconvert_exporter": "python",
   "pygments_lexer": "ipython3",
   "version": "3.8.5"
  }
 },
 "nbformat": 4,
 "nbformat_minor": 5
}

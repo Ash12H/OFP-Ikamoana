{
 "cells": [
  {
   "cell_type": "code",
   "execution_count": 1,
   "id": "d373979f-40e0-48d3-8484-a7c211b57453",
   "metadata": {},
   "outputs": [],
   "source": [
    "import sys\n",
    "sys.path.append('./../')\n",
    "\n",
    "import ikamoana.fisherieseffort.fisherieseffort as fe\n",
    "from ikamoana.ikamoanafields import (\n",
    "    ikamoanafields,\n",
    "    fieldsdatastructure\n",
    ")\n",
    "from ikamoana.feedinghabitat import (\n",
    "    feedinghabitat,\n",
    "    feedinghabitatconfigreader\n",
    ")\n",
    "import xarray as xr\n",
    "import numpy as np\n",
    "\n",
    "\n",
    "#xml_filepath=\"./../data/SEAPODYM_data/run-test/skj_interim_CL_2018_testopt.xml\"\n",
    "SEAPODYM_filepath = \"./../data/SEAPODYM_data/run-test/skj_CLT_e5_3_est.xml\"\n",
    "IKAMOANA_filepath = \"./IkaSim_DensityTest.xml\"\n",
    "fisheries_xml_filepath=\"./../data/SEAPODYM_data/run-test/data/fisheries/skj_fisheries_data_2021_Nov17.txt\""
   ]
  },
  {
   "cell_type": "markdown",
   "metadata": {},
   "source": [
    "## Initialize"
   ]
  },
  {
   "cell_type": "code",
   "execution_count": 4,
   "id": "11a23b86-56cd-4fab-a3b0-96d311b8106c",
   "metadata": {
    "tags": []
   },
   "outputs": [],
   "source": [
    "fh = feedinghabitat.FeedingHabitat(SEAPODYM_filepath)\n",
    "# ikaf = ikamoanafields.IkamoanaFields(\n",
    "#    IKAMOANA_filepath, SEAPODYM_filepath,\n",
    "#    feeding_habitat=fh.computeFeedingHabitat(0)['Feeding_Habitat_Cohort_0'])\n",
    "ikaf = ikamoanafields.IkamoanaFields(IKAMOANA_filepath)\n",
    "#ikaf.feeding_habitat_structure.data_structure.normalizeCoords()"
   ]
  },
  {
   "cell_type": "code",
   "execution_count": 3,
   "metadata": {},
   "outputs": [],
   "source": [
    "Tx, Ty = ikaf.computeTaxis(0)"
   ]
  },
  {
   "cell_type": "markdown",
   "metadata": {},
   "source": [
    "---\n"
   ]
  },
  {
   "cell_type": "code",
   "execution_count": 49,
   "metadata": {},
   "outputs": [],
   "source": [
    "# Create Ikamoana habitat from Inna's habitat\n",
    "\n",
    "import sys\n",
    "sys.path.append('./../')\n",
    "import numpy as np\n",
    "import ikamoana as ika \n",
    "import xml.etree.ElementTree as ET\n",
    "tree = ET.parse('./IkaSim_DensityTest.xml')\n",
    "root = tree.getroot()\n",
    "\n",
    "# ika_file = 'C:/Users/joes/Dropbox/SPC_2020/OFP-Ikamoana/Ikamoana/ikamoana/IkaSim_DensityTest.xml'\n",
    "ika_file = './IkaSim_DensityTest.xml'\n",
    "\n",
    "IkaTest = ika.ikamoana.IkaSim(ika_file)\n",
    "\n",
    "#IkaTest.forcing_gen.feeding_habitat_structure.correctEpiTempWithVld()\n",
    "\n",
    "IkaTest.generateForcingNEW()\n",
    "\n",
    "my_hab = IkaTest.forcing['H']\n",
    "my_hab.to_netcdf('./../../../../../Téléchargements/Habitat_Ikamoana.nc')\n",
    "\n",
    "other_hab = xr.open_dataarray('./../data/Inna/skj_cohort_habitat_20080115-20080515_20080115.nc')\n",
    "other_hab = other_hab[0]\n",
    "other_hab = other_hab.drop_vars('Time')\n",
    "other_hab = other_hab.assign_coords({\"time\":(\"mean_age\", my_hab.time.data),\n",
    "                                     \"cohorts\":(\"mean_age\",[5,6,7,8,9])})\n",
    "other_hab = other_hab.swap_dims({\"mean_age\":\"time\"})\n",
    "other_hab = other_hab.drop_vars('mean_age')\n",
    "other_hab = other_hab.loc[:,-39.5:50.5,119.5:289.5]\n",
    "other_hab = other_hab.rename({'longitude':'lon','latitude':'lat'})\n",
    "other_hab.attrs = my_hab.attrs\n",
    "other_hab.to_netcdf('./../data/Inna/Modified_skj_cohort_habitat_20080115-20080515_20080115.nc')"
   ]
  },
  {
   "cell_type": "markdown",
   "metadata": {},
   "source": [
    "---"
   ]
  },
  {
   "cell_type": "code",
   "execution_count": 1,
   "id": "19f1d1a7",
   "metadata": {},
   "outputs": [],
   "source": [
    "import sys\n",
    "sys.path.append('./../')\n",
    "import numpy as np\n",
    "import ikamoana as ika\n",
    "import xarray as xr\n",
    "import xml.etree.ElementTree as ET\n",
    "tree = ET.parse('./IkaSim_DensityTest.xml')\n",
    "root = tree.getroot()"
   ]
  },
  {
   "cell_type": "code",
   "execution_count": 10,
   "id": "d6d45ac2",
   "metadata": {},
   "outputs": [],
   "source": [
    "# ika_file = 'C:/Users/joes/Dropbox/SPC_2020/OFP-Ikamoana/Ikamoana/ikamoana/IkaSim_DensityTest.xml'\n",
    "ika_file = './IkaSim_DensityTest.xml'\n",
    "\n",
    "IkaTest = ika.ikamoana.IkaSim(ika_file)"
   ]
  },
  {
   "cell_type": "markdown",
   "metadata": {},
   "source": [
    "# No VLD correction"
   ]
  },
  {
   "cell_type": "code",
   "execution_count": 11,
   "id": "201ce2be",
   "metadata": {},
   "outputs": [
    {
     "name": "stdout",
     "output_type": "stream",
     "text": [
      "193617070.0\n",
      "0.1575282\n",
      "0.9045079\n"
     ]
    },
    {
     "data": {
      "text/plain": [
       "<matplotlib.collections.QuadMesh at 0x7f527dd39c40>"
      ]
     },
     "execution_count": 11,
     "metadata": {},
     "output_type": "execute_result"
    },
    {
     "data": {
      "image/png": "[encoded data removed]",
      "text/plain": [
       "<Figure size 432x288 with 2 Axes>"
      ]
     },
     "metadata": {
      "needs_background": "light"
     },
     "output_type": "display_data"
    }
   ],
   "source": [
    "IkaTest.generateForcing()\n",
    "# IkaTest.generateForcing(\n",
    "#     from_habitat=xr.open_dataarray('./../data/Inna/Modified_skj_cohort_habitat_20080115-20080515_20080115.nc')\n",
    "# )\n",
    "print(IkaTest.forcing['K'].sum().data)\n",
    "print(IkaTest.forcing['dK_dx'].sum().data)\n",
    "print(IkaTest.forcing['dK_dy'].sum().data)\n",
    "\n",
    "IkaTest.forcing['H'][3].plot()"
   ]
  },
  {
   "cell_type": "markdown",
   "metadata": {},
   "source": [
    "# VLD correction"
   ]
  },
  {
   "cell_type": "code",
   "execution_count": 12,
   "metadata": {},
   "outputs": [
    {
     "name": "stdout",
     "output_type": "stream",
     "text": [
      "Warning : This function (correctEpiTempWithVld) was only tested for Skipjack.\n",
      " It will also add +1 to sigma_min. Cf. function documentation for more details.\n",
      "182479100.0\n",
      "2.2612607\n",
      "1.937542\n"
     ]
    },
    {
     "data": {
      "text/plain": [
       "<matplotlib.collections.QuadMesh at 0x7f52bc4231c0>"
      ]
     },
     "execution_count": 12,
     "metadata": {},
     "output_type": "execute_result"
    },
    {
     "data": {
      "image/png": "[encoded data removed]",
      "text/plain": [
       "<Figure size 432x288 with 2 Axes>"
      ]
     },
     "metadata": {
      "needs_background": "light"
     },
     "output_type": "display_data"
    }
   ],
   "source": [
    "IkaTest.forcing_gen.feeding_habitat_structure.correctEpiTempWithVld()\n",
    "\n",
    "IkaTest.generateForcing()\n",
    "# IkaTest.generateForcing(\n",
    "#     from_habitat=xr.open_dataarray('./../data/Inna/Modified_skj_cohort_habitat_20080115-20080515_20080115.nc')\n",
    "# )\n",
    "print(IkaTest.forcing['K'].sum().data)\n",
    "print(IkaTest.forcing['dK_dx'].sum().data)\n",
    "print(IkaTest.forcing['dK_dy'].sum().data)\n",
    "\n",
    "IkaTest.forcing['H'][3].plot()"
   ]
  },
  {
   "cell_type": "markdown",
   "metadata": {},
   "source": [
    "# Inna's habitat"
   ]
  },
  {
   "cell_type": "code",
   "execution_count": 13,
   "id": "13744a9c",
   "metadata": {},
   "outputs": [
    {
     "name": "stdout",
     "output_type": "stream",
     "text": [
      "186955870.0\n",
      "-0.028697833\n",
      "0.5759071\n"
     ]
    },
    {
     "data": {
      "text/plain": [
       "<matplotlib.collections.QuadMesh at 0x7f527dc03ac0>"
      ]
     },
     "execution_count": 13,
     "metadata": {},
     "output_type": "execute_result"
    },
    {
     "data": {
      "image/png": "[encoded data removed]",
      "text/plain": [
       "<Figure size 432x288 with 2 Axes>"
      ]
     },
     "metadata": {
      "needs_background": "light"
     },
     "output_type": "display_data"
    }
   ],
   "source": [
    "# IkaTest.generateForcing()\n",
    "IkaTest.generateForcing(\n",
    "    from_habitat=xr.open_dataarray('./../data/Inna/Modified_skj_cohort_habitat_20080115-20080515_20080115.nc')\n",
    ")\n",
    "print(IkaTest.forcing['K'].sum().data)\n",
    "print(IkaTest.forcing['dK_dx'].sum().data)\n",
    "print(IkaTest.forcing['dK_dy'].sum().data)\n",
    "\n",
    "IkaTest.forcing['H'][3].plot()"
   ]
  }
 ],
 "metadata": {
  "interpreter": {
   "hash": "37ec2f13ba464e68fd0ed37b53a9616d3f8194c3696da374c2105063a1dc0216"
  },
  "kernelspec": {
   "display_name": "Python 3.9.7 64-bit ('ikamoana': conda)",
   "language": "python",
   "name": "python3"
  },
  "language_info": {
   "codemirror_mode": {
    "name": "ipython",
    "version": 3
   },
   "file_extension": ".py",
   "mimetype": "text/x-python",
   "name": "python",
   "nbconvert_exporter": "python",
   "pygments_lexer": "ipython3",
   "version": "3.9.7"
  },
  "orig_nbformat": 4
 },
 "nbformat": 4,
 "nbformat_minor": 2
}

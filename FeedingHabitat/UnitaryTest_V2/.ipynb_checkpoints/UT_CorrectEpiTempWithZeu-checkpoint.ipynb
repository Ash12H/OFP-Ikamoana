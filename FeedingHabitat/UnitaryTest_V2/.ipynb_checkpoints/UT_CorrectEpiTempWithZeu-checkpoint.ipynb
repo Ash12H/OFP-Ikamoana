{
 "cells": [
  {
   "cell_type": "code",
   "execution_count": 1,
   "id": "72165793-ca69-4080-8de2-073c9f48c52d",
   "metadata": {},
   "outputs": [],
   "source": [
    "from sys import path\n",
    "path.append(\"./..\")\n",
    "from feedingHabitat import FeedingHabitat\n",
    "\n",
    "import numpy as np"
   ]
  },
  {
   "cell_type": "code",
   "execution_count": 2,
   "id": "f1743778-c128-4dcf-bde0-a149bc599657",
   "metadata": {},
   "outputs": [],
   "source": [
    "config_file_path = \"./../Data_Test/skj_po_interim_2deg_configuration_file.xml\"\n",
    "feeding_habitat_1 = FeedingHabitat(config_file_path, partial_cohorts_computation=[0,11,36])"
   ]
  },
  {
   "cell_type": "code",
   "execution_count": 4,
   "id": "d81a7118-b677-4050-9e87-ac089fcd43a5",
   "metadata": {},
   "outputs": [],
   "source": [
    "temp_L1_before = feeding_habitat_1.variables_dictionary[\"temperature_L1\"]"
   ]
  },
  {
   "cell_type": "code",
   "execution_count": 5,
   "id": "66f6becb-7988-4b30-8d7c-b355b591492e",
   "metadata": {},
   "outputs": [],
   "source": [
    "feeding_habitat_1.correctEpiTempWithZeu()"
   ]
  },
  {
   "cell_type": "code",
   "execution_count": 6,
   "id": "cf089197-ac0c-4057-a17e-3946ff82ae66",
   "metadata": {},
   "outputs": [],
   "source": [
    "temp_L1_after = feeding_habitat_1.variables_dictionary[\"temperature_L1\"]"
   ]
  },
  {
   "cell_type": "code",
   "execution_count": 7,
   "id": "ec19f7af-d54f-41cb-ad60-74e1806b17d7",
   "metadata": {},
   "outputs": [],
   "source": [
    "sub = temp_L1_before - temp_L1_after"
   ]
  },
  {
   "cell_type": "code",
   "execution_count": 8,
   "id": "905acff5-bf6c-409b-9fad-7f1f7eb737e8",
   "metadata": {},
   "outputs": [
    {
     "data": {
      "text/plain": [
       "array([-2.0315647e-02, -1.8711090e-02, -1.8362999e-02, ...,\n",
       "       -9.6042641e-10, -3.4924597e-10,  0.0000000e+00], dtype=float32)"
      ]
     },
     "execution_count": 8,
     "metadata": {},
     "output_type": "execute_result"
    }
   ],
   "source": [
    "np.unique(sub.ravel())"
   ]
  }
 ],
 "metadata": {
  "kernelspec": {
   "display_name": "Python 3",
   "language": "python",
   "name": "python3"
  },
  "language_info": {
   "codemirror_mode": {
    "name": "ipython",
    "version": 3
   },
   "file_extension": ".py",
   "mimetype": "text/x-python",
   "name": "python",
   "nbconvert_exporter": "python",
   "pygments_lexer": "ipython3",
   "version": "3.8.5"
  }
 },
 "nbformat": 4,
 "nbformat_minor": 5
}

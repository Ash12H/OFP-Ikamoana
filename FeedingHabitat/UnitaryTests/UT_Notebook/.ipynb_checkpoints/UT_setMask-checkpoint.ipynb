{
 "cells": [
  {
   "cell_type": "code",
   "execution_count": 1,
   "metadata": {},
   "outputs": [],
   "source": [
    "from sys import path\n",
    "import matplotlib.pyplot as plt\n",
    "import xarray as xr\n",
    "import numpy as np\n",
    "import pandas as pd\n",
    "import math\n",
    "\n",
    "if not (\"C:\\\\Users\\\\julesl\\\\Documents (Local)\\\\JupyterLabWorkspace\\\\Library\\\\\" in path) :\n",
    "    path.append(\"C:\\\\Users\\\\julesl\\\\Documents (Local)\\\\JupyterLabWorkspace\\\\Library\\\\\")\n",
    "\n",
    "from FeedingHabitat.feedingHabitat import FeedingHabitat\n",
    "%load_ext memory_profiler"
   ]
  },
  {
   "cell_type": "code",
   "execution_count": 2,
   "metadata": {},
   "outputs": [],
   "source": [
    "fh = FeedingHabitat(1)"
   ]
  },
  {
   "cell_type": "code",
   "execution_count": 3,
   "metadata": {},
   "outputs": [],
   "source": [
    "min, max = 0.0,10.0\n",
    "fh.variables_dictionary[\"temperature_L1\"] = np.array([[0.,0.],[0.,np.NaN]])\n",
    "fh.variables_dictionary[\"temperature_L2\"] = np.array([[0.,0.],[np.NaN,np.NaN]])\n",
    "fh.variables_dictionary[\"temperature_L3\"] = np.array([[0.,np.NaN],[np.NaN,np.NaN]])"
   ]
  },
  {
   "cell_type": "code",
   "execution_count": 4,
   "metadata": {},
   "outputs": [
    {
     "name": "stdout",
     "output_type": "stream",
     "text": [
      "[[ 0.  0.]\n",
      " [ 0. nan]]\n",
      "[[ 0.  0.]\n",
      " [nan nan]]\n",
      "[[ 0. nan]\n",
      " [nan nan]]\n"
     ]
    }
   ],
   "source": [
    "print(fh.variables_dictionary[\"temperature_L1\"])\n",
    "print(fh.variables_dictionary[\"temperature_L2\"])\n",
    "print(fh.variables_dictionary[\"temperature_L3\"])"
   ]
  },
  {
   "cell_type": "code",
   "execution_count": 5,
   "metadata": {},
   "outputs": [
    {
     "name": "stdout",
     "output_type": "stream",
     "text": [
      "\n"
     ]
    },
    {
     "data": {
      "text/plain": [
       "Filename: C:\\Users\\julesl\\Documents (Local)\\JupyterLabWorkspace\\Library\\FeedingHabitat\\feedingHabitat.py\n",
       "\n",
       "Line #    Mem usage    Increment  Occurences   Line Contents\n",
       "============================================================\n",
       "    84    127.5 MiB    127.5 MiB           1       def setMask(self, from_Data=None) :\n",
       "    85                                                 \n",
       "    86    127.5 MiB      0.0 MiB           1           if from_Data is None :\n",
       "    87    127.5 MiB      0.0 MiB           3               tmp_mask = (np.isfinite(self.variables_dictionary[\"temperature_L1\"]).astype(np.int)\n",
       "    88    127.5 MiB      0.0 MiB           1                                 + np.isfinite(self.variables_dictionary[\"temperature_L2\"]).astype(np.int)\n",
       "    89    127.5 MiB      0.0 MiB           1                                 + np.isfinite(self.variables_dictionary[\"temperature_L3\"]).astype(np.int))\n",
       "    90                                                     \n",
       "    91    127.5 MiB      0.0 MiB           2               self.global_mask = {\"mask_L1\" : ((tmp_mask == 1) + (tmp_mask == 2) + (tmp_mask == 3)),\n",
       "    92    127.5 MiB      0.0 MiB           1                                   \"mask_L2\" : ((tmp_mask == 2) + (tmp_mask == 3)),\n",
       "    93    127.5 MiB      0.0 MiB           1                                   \"mask_L3\" : (tmp_mask == 3)}\n",
       "    94                                                     \n",
       "    95    127.5 MiB      0.0 MiB           1               del tmp_mask\n",
       "    96    127.5 MiB      0.0 MiB           1               gc.collect()\n",
       "    97                                                     \n",
       "    98                                                 else :\n",
       "    99                                                     self.global_mask = from_Data"
      ]
     },
     "metadata": {},
     "output_type": "display_data"
    }
   ],
   "source": [
    "%mprun -f fh.setMask fh.setMask()"
   ]
  },
  {
   "cell_type": "code",
   "execution_count": 6,
   "metadata": {},
   "outputs": [
    {
     "data": {
      "text/plain": [
       "{'mask_L1': array([[ True,  True],\n",
       "        [ True, False]]),\n",
       " 'mask_L2': array([[ True,  True],\n",
       "        [False, False]]),\n",
       " 'mask_L3': array([[ True, False],\n",
       "        [False, False]])}"
      ]
     },
     "execution_count": 6,
     "metadata": {},
     "output_type": "execute_result"
    }
   ],
   "source": [
    "fh.global_mask"
   ]
  },
  {
   "cell_type": "markdown",
   "metadata": {},
   "source": [
    "## **Real DATA**"
   ]
  },
  {
   "cell_type": "code",
   "execution_count": 3,
   "metadata": {},
   "outputs": [
    {
     "name": "stdout",
     "output_type": "stream",
     "text": [
      "\n"
     ]
    },
    {
     "data": {
      "text/plain": [
       "Filename: C:\\Users\\julesl\\Documents (Local)\\JupyterLabWorkspace\\Library\\FeedingHabitat\\feedingHabitat.py\n",
       "\n",
       "Line #    Mem usage    Increment  Occurences   Line Contents\n",
       "============================================================\n",
       "    84    146.3 MiB    146.3 MiB           1       def setMask(self, from_Data=None) :\n",
       "    85                                                 \n",
       "    86    146.3 MiB      0.0 MiB           1           if from_Data is None :\n",
       "    87    151.0 MiB      4.7 MiB           1               tmp_mask = (np.isfinite(self.variables_dictionary[\"temperature_L1\"]).astype(np.int) + np.isfinite(self.variables_dictionary[\"temperature_L2\"]).astype(np.int)+ np.isfinite(self.variables_dictionary[\"temperature_L3\"]).astype(np.int))\n",
       "    88                                                     \n",
       "    89    153.9 MiB      2.8 MiB           1               self.global_mask = {\"mask_L1\" : ((tmp_mask == 1) + (tmp_mask == 2) + (tmp_mask == 3)),\"mask_L2\" : ((tmp_mask == 2) + (tmp_mask == 3)),\"mask_L3\" : (tmp_mask == 3)}\n",
       "    90                                                     \n",
       "    91    150.1 MiB     -3.8 MiB           1               del tmp_mask\n",
       "    92    150.1 MiB      0.0 MiB           1               gc.collect()\n",
       "    93                                                     \n",
       "    94                                                 else :\n",
       "    95                                                     self.global_mask = from_Data"
      ]
     },
     "metadata": {},
     "output_type": "display_data"
    }
   ],
   "source": [
    "xr_ds_sst = xr.open_dataset(\"C:\\\\Users\\\\julesl\\\\Documents (Local)\\\\JupyterLabWorkspace\\\\\\Data\\\\Concat\\\\SP\\\\MFCat_sp_2x30d_interim_historic_sst_1979_2010.nc\")\n",
    "xr_ds_o2 = xr.open_dataset(\"C:\\\\Users\\\\julesl\\\\Documents (Local)\\\\JupyterLabWorkspace\\\\\\Data\\\\Concat\\\\SP\\\\MFCat_sp_2x30d_interim_historic_O2_L2_1979_2010.nc\")\n",
    "\n",
    "fh.variables_dictionary[\"temperature_L1\"] = xr_ds_sst['sst'].data\n",
    "fh.variables_dictionary[\"temperature_L2\"] = xr_ds_sst['sst'].data\n",
    "fh.variables_dictionary[\"temperature_L3\"] = xr_ds_o2['o2'].data\n",
    "\n",
    "%mprun -f fh.setMask fh.setMask()"
   ]
  },
  {
   "cell_type": "markdown",
   "metadata": {},
   "source": [
    "## **More DATA**"
   ]
  },
  {
   "cell_type": "code",
   "execution_count": 3,
   "metadata": {},
   "outputs": [],
   "source": [
    "filepath_directory = \"C:\\\\Users\\\\julesl\\\\Documents (Local)\\\\JupyterLabWorkspace\\\\\\Data\\\\Concat\\\\PO\\\\\"\n",
    "\n",
    "#TEMPERATURE\n",
    "fh.variables_dictionary[\"temperature_L1\"] = xr.open_dataset(filepath_directory+\"MFCat_po_025x30_temperature_L1_1998_2019.nc\")['temperature_L1'].data\n",
    "fh.variables_dictionary[\"temperature_L2\"] = xr.open_dataset(filepath_directory+\"MFCat_po_025x30_temperature_L2_1998_2019.nc\")['temperature_L2'].data\n",
    "fh.variables_dictionary[\"temperature_L3\"] = xr.open_dataset(filepath_directory+\"MFCat_po_025x30_temperature_L3_1998_2019.nc\")['temperature_L3'].data"
   ]
  },
  {
   "cell_type": "code",
   "execution_count": null,
   "metadata": {},
   "outputs": [],
   "source": [
    "%mprun -f fh.setMask fh.setMask()"
   ]
  },
  {
   "cell_type": "markdown",
   "metadata": {},
   "source": [
    "----\n",
    "# Mask From Text File"
   ]
  },
  {
   "cell_type": "code",
   "execution_count": 4,
   "metadata": {},
   "outputs": [
    {
     "data": {
      "text/plain": [
       "(480, 808)"
      ]
     },
     "execution_count": 4,
     "metadata": {},
     "output_type": "execute_result"
    }
   ],
   "source": [
    "fh.setMask(from_text=filepath_directory+'mask\\\\mask_freeglorys_025deg_corrected.txt')\n",
    "fh.global_mask['mask_L1'].shape"
   ]
  },
  {
   "cell_type": "code",
   "execution_count": 5,
   "metadata": {},
   "outputs": [
    {
     "data": {
      "text/plain": [
       "(264, 480, 808)"
      ]
     },
     "execution_count": 5,
     "metadata": {},
     "output_type": "execute_result"
    }
   ],
   "source": [
    "fh.setMask(from_text=filepath_directory+'mask\\\\mask_freeglorys_025deg_corrected.txt', expend_time=264)\n",
    "fh.global_mask['mask_L1'].shape"
   ]
  },
  {
   "cell_type": "code",
   "execution_count": 8,
   "metadata": {},
   "outputs": [
    {
     "data": {
      "text/plain": [
       "True"
      ]
     },
     "execution_count": 8,
     "metadata": {},
     "output_type": "execute_result"
    }
   ],
   "source": [
    "not (False in  (fh.global_mask['mask_L1'][0,:,:] == fh.global_mask['mask_L1'][1,:,:]))"
   ]
  }
 ],
 "metadata": {
  "kernelspec": {
   "display_name": "Python 3",
   "language": "python",
   "name": "python3"
  },
  "language_info": {
   "codemirror_mode": {
    "name": "ipython",
    "version": 3
   },
   "file_extension": ".py",
   "mimetype": "text/x-python",
   "name": "python",
   "nbconvert_exporter": "python",
   "pygments_lexer": "ipython3",
   "version": "3.8.5"
  }
 },
 "nbformat": 4,
 "nbformat_minor": 4
}

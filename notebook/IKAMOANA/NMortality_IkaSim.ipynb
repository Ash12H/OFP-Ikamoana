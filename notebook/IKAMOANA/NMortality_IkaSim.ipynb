{
 "cells": [
  {
   "cell_type": "code",
   "execution_count": 15,
   "id": "7d72ab08",
   "metadata": {},
   "outputs": [],
   "source": [
    "import sys\n",
    "sys.path.append('./../../')\n",
    "\n",
    "import numpy as np\n",
    "import ikamoana as ika"
   ]
  },
  {
   "cell_type": "code",
   "execution_count": 16,
   "id": "d6d45ac2",
   "metadata": {},
   "outputs": [
    {
     "name": "stdout",
     "output_type": "stream",
     "text": [
      "Warning : This function (correctEpiTempWithVld) was only tested for Skipjack.\n",
      " It will also add +1 to sigma_min. Cf. function documentation for more details.\n"
     ]
    }
   ],
   "source": [
    "#ika_file = 'C:/Users/joes/Dropbox/SPC_2020/OFP-Ikamoana/Ikamoana/ikamoana/IkaSim_NatMortalityTest.xml'\n",
    "ika_file = './../../data/ikamoana_fields_data/IkaSim_NatMortalityTest.xml'\n",
    "\n",
    "IkaTest = ika.ikamoana.IkaSim(ika_file)"
   ]
  },
  {
   "cell_type": "code",
   "execution_count": 20,
   "id": "13744a9c",
   "metadata": {},
   "outputs": [],
   "source": [
    "IkaTest.generateForcing()"
   ]
  },
  {
   "cell_type": "code",
   "execution_count": 21,
   "id": "46aecaf1",
   "metadata": {},
   "outputs": [],
   "source": [
    "IkaTest.createFieldSet()"
   ]
  },
  {
   "cell_type": "code",
   "execution_count": 22,
   "id": "37d0cb88",
   "metadata": {},
   "outputs": [],
   "source": [
    "\n",
    "\n",
    "#Make five IkaFish particles that start in the same position to start with (for a test)\n",
    "N=5\n",
    "#init_pos = [[140]*N,[0]*N]\n",
    "#IkaTest.initialiseFishParticles(start=np.array(init_pos,dtype=np.float32),n_fish=N, pclass=ika.ikafish.ikafish.IkaFish)\n",
    "\n",
    "#Create 5000 particles using the default start field distribution already loaded into the fieldset(start=None)\n",
    "N = 10\n",
    "IkaTest.initialiseFishParticles(start=None,n_fish=N, pclass=ika.ikafish.ikafish.IkaTag)\n",
    "\n"
   ]
  },
  {
   "cell_type": "code",
   "execution_count": null,
   "id": "9cd10abd",
   "metadata": {},
   "outputs": [],
   "source": [
    "#Run the behavioural kernels for two months\n",
    "IkaTest.runKernels(T=86400*60)"
   ]
  }
 ],
 "metadata": {
  "kernelspec": {
   "display_name": "Python 3",
   "language": "python",
   "name": "python3"
  },
  "language_info": {
   "codemirror_mode": {
    "name": "ipython",
    "version": 3
   },
   "file_extension": ".py",
   "mimetype": "text/x-python",
   "name": "python",
   "nbconvert_exporter": "python",
   "pygments_lexer": "ipython3",
   "version": "3.9.7"
  }
 },
 "nbformat": 4,
 "nbformat_minor": 5
}

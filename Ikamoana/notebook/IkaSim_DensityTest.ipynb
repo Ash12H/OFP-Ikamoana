{
 "cells": [
  {
   "cell_type": "code",
   "execution_count": 1,
   "id": "19f1d1a7",
   "metadata": {},
   "outputs": [],
   "source": [
    "import sys\n",
    "sys.path.append('./../')"
   ]
  },
  {
   "cell_type": "code",
   "execution_count": 2,
   "id": "b86fd80e",
   "metadata": {},
   "outputs": [],
   "source": [
    "import numpy as np\n",
    "import ikamoana as ika "
   ]
  },
  {
   "cell_type": "code",
   "execution_count": 3,
   "id": "a77fe174",
   "metadata": {},
   "outputs": [],
   "source": [
    "import xml.etree.ElementTree as ET\n",
    "tree = ET.parse('./IkaSim_DensityTest.xml')\n",
    "root = tree.getroot()"
   ]
  },
  {
   "cell_type": "code",
   "execution_count": 4,
   "id": "d6d45ac2",
   "metadata": {},
   "outputs": [],
   "source": [
    "# ika_file = 'C:/Users/joes/Dropbox/SPC_2020/OFP-Ikamoana/Ikamoana/ikamoana/IkaSim_DensityTest.xml'\n",
    "ika_file = './IkaSim_DensityTest.xml'\n",
    "\n",
    "IkaTest = ika.ikamoana.IkaSim(ika_file)"
   ]
  },
  {
   "cell_type": "code",
   "execution_count": 5,
   "id": "13744a9c",
   "metadata": {},
   "outputs": [],
   "source": [
    "#IkaTest.generateForcing()\n",
    "IkaTest.generateForcingNEW()"
   ]
  },
  {
   "cell_type": "code",
   "execution_count": 8,
   "id": "46aecaf1",
   "metadata": {},
   "outputs": [],
   "source": [
    "IkaTest.createFieldSet()"
   ]
  },
  {
   "cell_type": "code",
   "execution_count": 9,
   "id": "37d0cb88",
   "metadata": {},
   "outputs": [],
   "source": [
    "\n",
    "#Create N particles using the default start field distribution already loaded into the fieldset(start=None)\n",
    "N = 50000\n",
    "IkaTest.initialiseFishParticles(start=None,n_fish=N, pclass=ika.ikafish.ikafish.IkaFish)"
   ]
  },
  {
   "cell_type": "code",
   "execution_count": 10,
   "id": "9cd10abd",
   "metadata": {},
   "outputs": [
    {
     "name": "stderr",
     "output_type": "stream",
     "text": [
      "WARNING: u1 declared in multiple Kernels\n",
      "WARNING: v1 declared in multiple Kernels\n",
      "WARNING: lon1 declared in multiple Kernels\n",
      "WARNING: lat1 declared in multiple Kernels\n",
      "WARNING: u2 declared in multiple Kernels\n",
      "WARNING: v2 declared in multiple Kernels\n",
      "WARNING: lon2 declared in multiple Kernels\n",
      "WARNING: lat2 declared in multiple Kernels\n",
      "WARNING: u3 declared in multiple Kernels\n",
      "WARNING: v3 declared in multiple Kernels\n",
      "WARNING: lon3 declared in multiple Kernels\n",
      "WARNING: lat3 declared in multiple Kernels\n",
      "WARNING: u4 declared in multiple Kernels\n",
      "WARNING: v4 declared in multiple Kernels\n",
      "WARNING: u1 declared in multiple Kernels\n",
      "WARNING: v1 declared in multiple Kernels\n",
      "WARNING: lon1 declared in multiple Kernels\n",
      "WARNING: lat1 declared in multiple Kernels\n",
      "WARNING: u2 declared in multiple Kernels\n",
      "WARNING: v2 declared in multiple Kernels\n",
      "WARNING: lon2 declared in multiple Kernels\n",
      "WARNING: lat2 declared in multiple Kernels\n",
      "WARNING: u3 declared in multiple Kernels\n",
      "WARNING: v3 declared in multiple Kernels\n",
      "WARNING: lon3 declared in multiple Kernels\n",
      "WARNING: lat3 declared in multiple Kernels\n",
      "WARNING: u4 declared in multiple Kernels\n",
      "WARNING: v4 declared in multiple Kernels\n",
      "WARNING: u1 declared in multiple Kernels\n",
      "WARNING: v1 declared in multiple Kernels\n",
      "WARNING: lon1 declared in multiple Kernels\n",
      "WARNING: lat1 declared in multiple Kernels\n",
      "WARNING: u2 declared in multiple Kernels\n",
      "WARNING: v2 declared in multiple Kernels\n",
      "WARNING: lon2 declared in multiple Kernels\n",
      "WARNING: lat2 declared in multiple Kernels\n",
      "WARNING: u3 declared in multiple Kernels\n",
      "WARNING: v3 declared in multiple Kernels\n",
      "WARNING: lon3 declared in multiple Kernels\n",
      "WARNING: lat3 declared in multiple Kernels\n",
      "WARNING: u4 declared in multiple Kernels\n",
      "WARNING: v4 declared in multiple Kernels\n",
      "WARNING: Dx declared in multiple Kernels\n",
      "WARNING: Dy declared in multiple Kernels\n",
      "WARNING: Rx declared in multiple Kernels\n",
      "WARNING: Ry declared in multiple Kernels\n",
      "INFO: Compiled ArrayIkaFishCalcLonLatScalersIkAdvectionRK4TaxisRK4RandomWalkNonUniformDiffusionIkaDimMoveWithDiffusionReroll ==> /tmp/parcels-1000/libdf8da1872eed2db7ab09981b9b69af64_0.so\n",
      "100% (864000.0 of 864000.0) |############| Elapsed Time: 0:00:00 Time:  0:00:00\n",
      "/home/ash/anaconda3/envs/ikamoana/lib/python3.9/site-packages/numpy/lib/arraysetops.py:270: VisibleDeprecationWarning: Creating an ndarray from ragged nested sequences (which is a list-or-tuple of lists-or-tuples-or ndarrays with different lengths or shapes) is deprecated. If you meant to do this, you must specify 'dtype=object' when creating the ndarray.\n",
      "  ar = np.asanyarray(ar)\n"
     ]
    }
   ],
   "source": [
    "#Run the behavioural kernels for two months\n",
    "IkaTest.runKernels(T=86400*10)"
   ]
  }
 ],
 "metadata": {
  "kernelspec": {
   "display_name": "Python 3",
   "language": "python",
   "name": "python3"
  },
  "language_info": {
   "codemirror_mode": {
    "name": "ipython",
    "version": 3
   },
   "file_extension": ".py",
   "mimetype": "text/x-python",
   "name": "python",
   "nbconvert_exporter": "python",
   "pygments_lexer": "ipython3",
   "version": "3.9.7"
  }
 },
 "nbformat": 4,
 "nbformat_minor": 5
}

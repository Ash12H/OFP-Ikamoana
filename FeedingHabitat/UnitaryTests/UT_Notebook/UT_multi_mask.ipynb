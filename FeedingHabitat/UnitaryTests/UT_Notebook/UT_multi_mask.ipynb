{
 "cells": [
  {
   "cell_type": "code",
   "execution_count": 1,
   "metadata": {},
   "outputs": [],
   "source": [
    "from sys import path\n",
    "import matplotlib.pyplot as plt\n",
    "import xarray as xr\n",
    "import numpy as np\n",
    "import pandas as pd\n",
    "import math\n",
    "\n",
    "if not (\"C:\\\\Users\\\\julesl\\\\Documents (Local)\\\\JupyterLabWorkspace\\\\Library\\\\\" in path) :\n",
    "    path.append(\"C:\\\\Users\\\\julesl\\\\Documents (Local)\\\\JupyterLabWorkspace\\\\Library\\\\\")\n",
    "\n",
    "from FeedingHabitat.feedingHabitat import FeedingHabitat\n",
    "\n",
    "fh = FeedingHabitat(10)"
   ]
  },
  {
   "cell_type": "code",
   "execution_count": 2,
   "metadata": {},
   "outputs": [],
   "source": [
    "# OXYGEN\n",
    "xr_ds_o2 = xr.open_dataset(\"C:\\\\Users\\\\julesl\\\\Documents (Local)\\\\JupyterLabWorkspace\\\\\\Data\\\\Concat\\\\MFCat_sp_2x30d_interim_historic_O2_L2_1979_2010.nc\")\n",
    "fh.variables_dictionary[\"oxygen_L1\"] = xr_ds_o2['o2'].data\n",
    "fh.variables_dictionary[\"oxygen_L2\"] = xr_ds_o2['o2'].data\n",
    "fh.variables_dictionary[\"oxygen_L3\"] = xr_ds_o2['o2'].data\n",
    "\n",
    "#TEMPERATURE\n",
    "xr_ds_sst = xr.open_dataset(\"C:\\\\Users\\\\julesl\\\\Documents (Local)\\\\JupyterLabWorkspace\\\\\\Data\\\\Concat\\\\MFCat_sp_2x30d_interim_historic_sst_1979_2010.nc\")\n",
    "fh.variables_dictionary[\"temperature_L1\"] = xr_ds_sst['sst'].data\n",
    "fh.variables_dictionary[\"temperature_L2\"] = fh.variables_dictionary[\"oxygen_L2\"]\n",
    "fh.variables_dictionary[\"temperature_L3\"] = fh.variables_dictionary[\"temperature_L2\"]\n",
    "fh.variables_dictionary[\"temperature_L3\"] = np.where(fh.variables_dictionary[\"temperature_L3\"] < 3.0, np.NaN, fh.variables_dictionary[\"temperature_L3\"])\n",
    "\n",
    "# FORAGE\n",
    "fh.variables_dictionary[\"forage_epi\"]     = xr.open_dataset(\"C:\\\\Users\\\\julesl\\\\Documents (Local)\\\\JupyterLabWorkspace\\\\\\Data\\\\Concat\\\\MFCat_sp_2x30d_Fbiom_epi_1979_2010.nc\")['epi'].data\n",
    "fh.variables_dictionary[\"forage_meso\"]    = xr.open_dataset(\"C:\\\\Users\\\\julesl\\\\Documents (Local)\\\\JupyterLabWorkspace\\\\\\Data\\\\Concat\\\\MFCat_sp_2x30d_Fbiom_mmeso_1979_2010.nc\")['mmeso'].data\n",
    "fh.variables_dictionary[\"forage_mmeso\"]   = xr.open_dataset(\"C:\\\\Users\\\\julesl\\\\Documents (Local)\\\\JupyterLabWorkspace\\\\\\Data\\\\Concat\\\\MFCat_sp_2x30d_Fbiom_mmeso_1979_2010.nc\")['mmeso'].data\n",
    "fh.variables_dictionary[\"forage_bathy\"]   = xr.open_dataset(\"C:\\\\Users\\\\julesl\\\\Documents (Local)\\\\JupyterLabWorkspace\\\\\\Data\\\\Concat\\\\MFCat_sp_2x30d_Fbiom_hmbathy_1979_2010.nc\")['hmbathy'].data\n",
    "fh.variables_dictionary[\"forage_mbathy\"]  = xr.open_dataset(\"C:\\\\Users\\\\julesl\\\\Documents (Local)\\\\JupyterLabWorkspace\\\\\\Data\\\\Concat\\\\MFCat_sp_2x30d_Fbiom_hmbathy_1979_2010.nc\")['hmbathy'].data\n",
    "fh.variables_dictionary[\"forage_hmbathy\"] = xr.open_dataset(\"C:\\\\Users\\\\julesl\\\\Documents (Local)\\\\JupyterLabWorkspace\\\\\\Data\\\\Concat\\\\MFCat_sp_2x30d_Fbiom_hmbathy_1979_2010.nc\")['hmbathy'].data\n",
    "\n",
    "#L/W\n",
    "fh.variables_dictionary['cohorts_mean_weight'] = np.arange(1.0,2.1,0.1)\n",
    "fh.variables_dictionary['cohorts_mean_length'] = np.arange(1.0,2.1,0.1)\n",
    "\n",
    "#OTHERS\n",
    "fh.daysLength(model=xr_ds_o2)\n",
    "fh.setMask()"
   ]
  },
  {
   "cell_type": "markdown",
   "metadata": {},
   "source": [
    "----"
   ]
  },
  {
   "cell_type": "code",
   "execution_count": 3,
   "metadata": {},
   "outputs": [],
   "source": [
    "masks  = {\"temperature_L1\" : ((fh.global_mask == 1) + (fh.global_mask == 2) + (fh.global_mask == 3)),\n",
    "          \"temperature_L2\" : ((fh.global_mask == 2) + (fh.global_mask == 3)),\n",
    "          \"temperature_L3\" : (fh.global_mask == 3)}"
   ]
  },
  {
   "cell_type": "code",
   "execution_count": 4,
   "metadata": {},
   "outputs": [
    {
     "data": {
      "text/plain": [
       "900096"
      ]
     },
     "execution_count": 4,
     "metadata": {},
     "output_type": "execute_result"
    }
   ],
   "source": [
    "np.sum(masks[\"temperature_L1\"])"
   ]
  },
  {
   "cell_type": "code",
   "execution_count": 5,
   "metadata": {},
   "outputs": [
    {
     "data": {
      "text/plain": [
       "889344"
      ]
     },
     "execution_count": 5,
     "metadata": {},
     "output_type": "execute_result"
    }
   ],
   "source": [
    "np.sum(masks[\"temperature_L2\"])"
   ]
  },
  {
   "cell_type": "code",
   "execution_count": 6,
   "metadata": {},
   "outputs": [
    {
     "data": {
      "text/plain": [
       "730577"
      ]
     },
     "execution_count": 6,
     "metadata": {},
     "output_type": "execute_result"
    }
   ],
   "source": [
    "np.sum(masks[\"temperature_L3\"])"
   ]
  },
  {
   "cell_type": "code",
   "execution_count": 7,
   "metadata": {},
   "outputs": [],
   "source": [
    "result = fh.temperature(sigma_0=1.0, sigma_K=1.0, T_star_1=1.0, T_star_K=1.0, bT=1.0)"
   ]
  },
  {
   "cell_type": "code",
   "execution_count": 8,
   "metadata": {},
   "outputs": [
    {
     "data": {
      "text/plain": [
       "(10, 3, 384, 32, 80)"
      ]
     },
     "execution_count": 8,
     "metadata": {},
     "output_type": "execute_result"
    }
   ],
   "source": [
    "result.shape"
   ]
  },
  {
   "cell_type": "code",
   "execution_count": 9,
   "metadata": {},
   "outputs": [
    {
     "data": {
      "text/plain": [
       "983040"
      ]
     },
     "execution_count": 9,
     "metadata": {},
     "output_type": "execute_result"
    }
   ],
   "source": [
    "np.sum(np.isfinite(result[0,0,:,:,:]))"
   ]
  },
  {
   "cell_type": "code",
   "execution_count": 10,
   "metadata": {},
   "outputs": [
    {
     "data": {
      "text/plain": [
       "983040"
      ]
     },
     "execution_count": 10,
     "metadata": {},
     "output_type": "execute_result"
    }
   ],
   "source": [
    "np.sum(np.isfinite(result[0,1,:,:,:]))"
   ]
  },
  {
   "cell_type": "code",
   "execution_count": 11,
   "metadata": {},
   "outputs": [
    {
     "data": {
      "text/plain": [
       "983040"
      ]
     },
     "execution_count": 11,
     "metadata": {},
     "output_type": "execute_result"
    }
   ],
   "source": [
    "np.sum(np.isfinite(result[0,2,:,:,:]))"
   ]
  },
  {
   "cell_type": "markdown",
   "metadata": {},
   "source": [
    "----"
   ]
  },
  {
   "cell_type": "code",
   "execution_count": 12,
   "metadata": {},
   "outputs": [],
   "source": [
    "fh.variables_dictionary[\"oxygen_L1\"] = xr_ds_sst['sst'].data"
   ]
  },
  {
   "cell_type": "code",
   "execution_count": 13,
   "metadata": {},
   "outputs": [],
   "source": [
    "result_ox = fh.oxygen(0.0001, 3.)"
   ]
  },
  {
   "cell_type": "code",
   "execution_count": 14,
   "metadata": {},
   "outputs": [
    {
     "data": {
      "text/plain": [
       "(10, 3, 384, 32, 80)"
      ]
     },
     "execution_count": 14,
     "metadata": {},
     "output_type": "execute_result"
    }
   ],
   "source": [
    "result.shape"
   ]
  },
  {
   "cell_type": "code",
   "execution_count": 15,
   "metadata": {},
   "outputs": [
    {
     "data": {
      "text/plain": [
       "983040"
      ]
     },
     "execution_count": 15,
     "metadata": {},
     "output_type": "execute_result"
    }
   ],
   "source": [
    "np.sum(np.isfinite(result_ox[0,0,:,:,:]))"
   ]
  },
  {
   "cell_type": "code",
   "execution_count": 16,
   "metadata": {},
   "outputs": [
    {
     "data": {
      "text/plain": [
       "983040"
      ]
     },
     "execution_count": 16,
     "metadata": {},
     "output_type": "execute_result"
    }
   ],
   "source": [
    "np.sum(np.isfinite(result_ox[0,1,:,:,:]))"
   ]
  },
  {
   "cell_type": "code",
   "execution_count": 17,
   "metadata": {},
   "outputs": [
    {
     "data": {
      "text/plain": [
       "983040"
      ]
     },
     "execution_count": 17,
     "metadata": {},
     "output_type": "execute_result"
    }
   ],
   "source": [
    "np.sum(np.isfinite(result_ox[0,2,:,:,:]))"
   ]
  },
  {
   "cell_type": "markdown",
   "metadata": {},
   "source": [
    "----"
   ]
  },
  {
   "cell_type": "code",
   "execution_count": 18,
   "metadata": {},
   "outputs": [
    {
     "name": "stdout",
     "output_type": "stream",
     "text": [
      "Wall time: 2.29 s\n"
     ]
    }
   ],
   "source": [
    "%%time\n",
    "result_Ha = fh.Ha(fpc=[1.0,1.0,1.0,1.0,1.0,1.0], gamma=0.0001, o_star=3.4, sigma_0=1.0, sigma_K=2.0, T_star_1=28.0, T_star_K=24.0, bT=2.0)"
   ]
  },
  {
   "cell_type": "code",
   "execution_count": 19,
   "metadata": {},
   "outputs": [
    {
     "data": {
      "text/plain": [
       "(10, 3, 384, 32, 80)"
      ]
     },
     "execution_count": 19,
     "metadata": {},
     "output_type": "execute_result"
    }
   ],
   "source": [
    "result_Ha.shape"
   ]
  },
  {
   "cell_type": "code",
   "execution_count": 20,
   "metadata": {},
   "outputs": [
    {
     "data": {
      "text/plain": [
       "900096"
      ]
     },
     "execution_count": 20,
     "metadata": {},
     "output_type": "execute_result"
    }
   ],
   "source": [
    "np.sum(np.isfinite(result_Ha[0,0,:,:,:]))"
   ]
  },
  {
   "cell_type": "code",
   "execution_count": 21,
   "metadata": {},
   "outputs": [
    {
     "data": {
      "text/plain": [
       "889344"
      ]
     },
     "execution_count": 21,
     "metadata": {},
     "output_type": "execute_result"
    }
   ],
   "source": [
    "np.sum(np.isfinite(result_Ha[0,1,:,:,:]))"
   ]
  },
  {
   "cell_type": "code",
   "execution_count": 22,
   "metadata": {},
   "outputs": [
    {
     "data": {
      "text/plain": [
       "730577"
      ]
     },
     "execution_count": 22,
     "metadata": {},
     "output_type": "execute_result"
    }
   ],
   "source": [
    "np.sum(np.isfinite(result_Ha[0,2,:,:,:]))"
   ]
  }
 ],
 "metadata": {
  "kernelspec": {
   "display_name": "Python 3",
   "language": "python",
   "name": "python3"
  },
  "language_info": {
   "codemirror_mode": {
    "name": "ipython",
    "version": 3
   },
   "file_extension": ".py",
   "mimetype": "text/x-python",
   "name": "python",
   "nbconvert_exporter": "python",
   "pygments_lexer": "ipython3",
   "version": "3.8.5"
  }
 },
 "nbformat": 4,
 "nbformat_minor": 4
}

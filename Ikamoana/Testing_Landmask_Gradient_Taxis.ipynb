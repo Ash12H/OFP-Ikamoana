{
 "cells": [
  {
   "cell_type": "code",
   "execution_count": 1,
   "metadata": {},
   "outputs": [],
   "source": [
    "import ikamoana\n",
    "import parcels\n",
    "import numpy as np\n",
    "import xarray as xr\n",
    "import ikamoana.SEAPODYM_functions_Parcels3 as sfp\n",
    "import ikamoana\n",
    "%load_ext line_profiler"
   ]
  },
  {
   "cell_type": "markdown",
   "metadata": {},
   "source": [
    "## __Initialize Habitat__"
   ]
  },
  {
   "cell_type": "code",
   "execution_count": 2,
   "metadata": {},
   "outputs": [],
   "source": [
    "\n",
    "xml_filepath=\"./data/feeding_habitat_data/po_2x30_historical_interim/skj_po_interim_2deg_configuration_file.xml\"\n",
    "fh = ikamoana.feedinghabitat.FeedingHabitat(xml_filepath)\n",
    "ikaf = ikamoana.ikamoanafields.IkamoanaFields(xml_filepath,xml_filepath)\n",
    "\n",
    "habitat_0_ds = fh.computeFeedingHabitat(0)\n",
    "habitat_0_ds = habitat_0_ds.sel(time=habitat_0_ds.time[:1])\n",
    "habitat_0_da = habitat_0_ds['Feeding_Habitat_Cohort_0']"
   ]
  },
  {
   "cell_type": "markdown",
   "metadata": {},
   "source": [
    "## __Add Ubathy__"
   ]
  },
  {
   "cell_type": "code",
   "execution_count": 3,
   "metadata": {},
   "outputs": [],
   "source": [
    "ubathy = fh.data_structure.variables_dictionary['forage_lmeso']\n",
    "habitat_0_ds_to_merge = xr.Dataset(\n",
    "    {'Ubathy':ubathy},\n",
    "    coords=habitat_0_ds.coords,\n",
    ")\n",
    "habitat_0_ds = habitat_0_ds.merge(habitat_0_ds_to_merge)"
   ]
  },
  {
   "cell_type": "markdown",
   "metadata": {},
   "source": [
    "## __Convert DataSet to FieldSet__"
   ]
  },
  {
   "cell_type": "code",
   "execution_count": 4,
   "metadata": {},
   "outputs": [],
   "source": [
    "variables = {\n",
    "    'H': 'Feeding_Habitat_Cohort_0',\n",
    "    'Ubathy' : 'Ubathy'}\n",
    "\n",
    "dimensions = {\n",
    "    'lon': 'lon',\n",
    "    'lat': 'lat',\n",
    "    'time': 'time'}\n",
    "\n",
    "habitat_0_fs = parcels.FieldSet.from_xarray_dataset(\n",
    "    habitat_0_ds.reindex(lat=list(reversed(habitat_0_ds.lat))),\n",
    "    variables=variables,\n",
    "    dimensions=dimensions)"
   ]
  },
  {
   "cell_type": "markdown",
   "metadata": {},
   "source": [
    "## __Create Landmask__"
   ]
  },
  {
   "cell_type": "code",
   "execution_count": 5,
   "metadata": {},
   "outputs": [
    {
     "name": "stderr",
     "output_type": "stream",
     "text": [
      "100% (101 of 101) |######################| Elapsed Time: 0:00:00 Time:  0:00:00\n"
     ]
    }
   ],
   "source": [
    "landmask_parcels = sfp.Create_Landmask(habitat_0_fs)\n",
    "landmask_xarray = ikaf.landmask(habitat_0_da)"
   ]
  },
  {
   "cell_type": "code",
   "execution_count": 6,
   "metadata": {},
   "outputs": [],
   "source": [
    "sum = np.sum(np.flip(landmask_parcels.data[0,:,:], axis=0) == landmask_xarray.data)\n",
    "compare = landmask_xarray.data.size\n",
    "assert sum == compare"
   ]
  },
  {
   "cell_type": "markdown",
   "metadata": {},
   "source": [
    "## __Compute Gradient__"
   ]
  },
  {
   "cell_type": "code",
   "execution_count": 7,
   "metadata": {},
   "outputs": [],
   "source": [
    "grad_lon_parcels, grad_lat_parcels = sfp.getGradient(\n",
    "    habitat_0_fs.H, landmask_parcels)\n",
    "\n",
    "grad_lon_xarray, grad_lat_xarray = ikaf.gradient(\n",
    "    habitat_0_da, landmask_xarray)"
   ]
  },
  {
   "cell_type": "code",
   "execution_count": 8,
   "metadata": {},
   "outputs": [],
   "source": [
    "assert (np.sum(grad_lon_parcels.data == grad_lon_xarray.data)\n",
    "        == grad_lon_xarray.data.size)\n",
    "assert (np.sum(np.flip(grad_lat_parcels.data, axis=1) == grad_lat_xarray.data)\n",
    "        == grad_lat_xarray.data.size)"
   ]
  },
  {
   "cell_type": "markdown",
   "metadata": {},
   "source": [
    "## __Compute Taxis__"
   ]
  },
  {
   "cell_type": "code",
   "execution_count": 9,
   "metadata": {},
   "outputs": [
    {
     "name": "stdout",
     "output_type": "stream",
     "text": [
      "Taxis for 1 steps\n"
     ]
    }
   ],
   "source": [
    "taxis_tx, taxis_ty = sfp.Create_SEAPODYM_Taxis_Fields(\n",
    "    dHdx=grad_lon_parcels, dHdy=grad_lat_parcels,\n",
    "    length_classes=fh.data_structure.species_dictionary['cohorts_mean_length'],\n",
    "    start_age=1)\n",
    "\n",
    "taxis_lon_xarray, taxis_lat_xarray = ikaf.taxis(grad_lon_xarray, grad_lat_xarray)"
   ]
  },
  {
   "cell_type": "code",
   "execution_count": 24,
   "metadata": {},
   "outputs": [
    {
     "name": "stdout",
     "output_type": "stream",
     "text": [
      "D LONGITUDE :\n",
      "In common :\t 5174\n",
      "Total : \t 6060\n",
      "\n",
      "D LATITUDE :\n",
      "In common :\t 6060\n",
      "Total : \t 6060\n",
      "\n",
      "Sum of Error is : 2.6788224e-12\n",
      "Corresponding to 0.0000002471 %\n"
     ]
    }
   ],
   "source": [
    "print(\"D LONGITUDE :\")\n",
    "print(\"In common :\\t\",np.sum(taxis_lon_xarray.data == taxis_tx.data))\n",
    "print(\"Total : \\t\",taxis_lon_xarray.size)\n",
    "print(\"\\nD LATITUDE :\")\n",
    "print(\"In common :\\t\",np.sum(taxis_lat_xarray.data == np.flip(taxis_ty.data, axis=1)))\n",
    "print(\"Total : \\t\",taxis_lat_xarray.size)\n",
    "print(\"\\nSum of Error is :\", np.sum(taxis_lon_xarray.data - taxis_tx.data))\n",
    "print(\"Corresponding to %.10f %s\"%(\n",
    "    np.sum(taxis_lon_xarray.data-taxis_tx.data)/np.sum(taxis_lon_xarray.data)*100,\n",
    "    \"%\")\n",
    ")"
   ]
  }
 ],
 "metadata": {
  "interpreter": {
   "hash": "ffb4c739a54b0f14d85400558931514482bb564738e7dc16fa6fbcf98080c52d"
  },
  "kernelspec": {
   "display_name": "Python 3.9.7 64-bit ('cps': conda)",
   "name": "python3"
  },
  "language_info": {
   "codemirror_mode": {
    "name": "ipython",
    "version": 3
   },
   "file_extension": ".py",
   "mimetype": "text/x-python",
   "name": "python",
   "nbconvert_exporter": "python",
   "pygments_lexer": "ipython3",
   "version": "3.9.7"
  },
  "orig_nbformat": 4
 },
 "nbformat": 4,
 "nbformat_minor": 2
}

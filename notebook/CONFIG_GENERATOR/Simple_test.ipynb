{
 "cells": [
  {
   "cell_type": "code",
   "execution_count": 1,
   "metadata": {},
   "outputs": [],
   "source": [
    "import sys\n",
    "sys.path.append('./../../')\n",
    "\n",
    "import xml.etree.ElementTree as ET\n",
    "from ikamoana.utils.configfilegenerator import ConfigFileGenerator"
   ]
  },
  {
   "cell_type": "code",
   "execution_count": 2,
   "metadata": {},
   "outputs": [],
   "source": [
    "cfg = ConfigFileGenerator(\"\",\"\")\n",
    "cfg.directories(\"a\",\"b\",\"c\")\n",
    "cfg.domain()\n",
    "cfg.cohortInfo(start_cell_lon=0, start_cell_lat=0)\n",
    "cfg.mortality({\"P1\":1, \"P2\":None})\n",
    "cfg.forcing(files_dict={\"H\":(False, \"hab.nc\")}, home_directory=\"~/data\")\n",
    "cfg.kernels(('TaxisRK4','IkAdvectionRK4','IkaDymMove'))\n",
    "cfg.write(\"my_config_file\")"
   ]
  }
 ],
 "metadata": {
  "interpreter": {
   "hash": "37ec2f13ba464e68fd0ed37b53a9616d3f8194c3696da374c2105063a1dc0216"
  },
  "kernelspec": {
   "display_name": "Python 3.9.7 ('ikamoana')",
   "language": "python",
   "name": "python3"
  },
  "language_info": {
   "codemirror_mode": {
    "name": "ipython",
    "version": 3
   },
   "file_extension": ".py",
   "mimetype": "text/x-python",
   "name": "python",
   "nbconvert_exporter": "python",
   "pygments_lexer": "ipython3",
   "version": "3.9.7"
  },
  "orig_nbformat": 4
 },
 "nbformat": 4,
 "nbformat_minor": 2
}

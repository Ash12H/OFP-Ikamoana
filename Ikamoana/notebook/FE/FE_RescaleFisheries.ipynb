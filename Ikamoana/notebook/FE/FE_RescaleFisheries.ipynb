{
 "cells": [
  {
   "cell_type": "code",
   "execution_count": null,
   "id": "7d72ab08",
   "metadata": {},
   "outputs": [],
   "source": [
    "import sys\n",
    "sys.path.append('./../../')"
   ]
  },
  {
   "cell_type": "code",
   "execution_count": 1,
   "metadata": {},
   "outputs": [],
   "source": [
    "import ikamoana.fisherieseffort.fisherieseffort as fe\n",
    "import numpy as np\n",
    "import pandas as pd"
   ]
  },
  {
   "cell_type": "code",
   "execution_count": 2,
   "metadata": {},
   "outputs": [],
   "source": [
    "## Non unique value in the fisheries_effort file will lead to error in DataSet transformation\n",
    "\n",
    "filepath = \"./../../data/fisheries_effort/fisheries_data_2021_Nov8.txt\""
   ]
  },
  {
   "cell_type": "code",
   "execution_count": 3,
   "metadata": {},
   "outputs": [],
   "source": [
    "fisheries_df = fe.readFile(filepath, header_position=0, columns_name=None)\n",
    "fisheries_dict = fe.separateFisheries(fisheries_df)"
   ]
  },
  {
   "cell_type": "code",
   "execution_count": 4,
   "metadata": {},
   "outputs": [
    {
     "name": "stdout",
     "output_type": "stream",
     "text": [
      "Fishery  1  has resolutions : \t [1]\n",
      "Fishery  2  has resolutions : \t [1]\n",
      "Fishery  3  has resolutions : \t [1]\n",
      "Fishery  4  has resolutions : \t [1]\n",
      "Fishery  5  has resolutions : \t [1]\n",
      "Fishery  6  has resolutions : \t [1]\n",
      "Fishery  7  has resolutions : \t [1]\n",
      "Fishery  8  has resolutions : \t [5]\n",
      "Fishery  9  has resolutions : \t [1]\n",
      "Fishery  10  has resolutions : \t [1]\n",
      "Fishery  12  has resolutions : \t [1]\n",
      "Fishery  13  has resolutions : \t [1]\n",
      "Fishery  15  has resolutions : \t [5]\n"
     ]
    }
   ],
   "source": [
    "for k, i in fisheries_dict.items():\n",
    "    print(\"Fishery \", k,\" has resolutions : \\t\",i['res'].unique())"
   ]
  },
  {
   "cell_type": "code",
   "execution_count": 9,
   "metadata": {},
   "outputs": [],
   "source": [
    "# Rescale 8th fishery is much longer than 15th\n",
    "\n",
    "tmp = fe.rescaleFisheries({1:fisheries_dict[1],15:fisheries_dict[15]})"
   ]
  },
  {
   "cell_type": "code",
   "execution_count": 10,
   "metadata": {},
   "outputs": [
    {
     "data": {
      "text/html": [
       "<div>\n",
       "<style scoped>\n",
       "    .dataframe tbody tr th:only-of-type {\n",
       "        vertical-align: middle;\n",
       "    }\n",
       "\n",
       "    .dataframe tbody tr th {\n",
       "        vertical-align: top;\n",
       "    }\n",
       "\n",
       "    .dataframe thead th {\n",
       "        text-align: right;\n",
       "    }\n",
       "</style>\n",
       "<table border=\"1\" class=\"dataframe\">\n",
       "  <thead>\n",
       "    <tr style=\"text-align: right;\">\n",
       "      <th></th>\n",
       "      <th>f</th>\n",
       "      <th>yr</th>\n",
       "      <th>mm</th>\n",
       "      <th>dd</th>\n",
       "      <th>gr</th>\n",
       "      <th>lat</th>\n",
       "      <th>lon</th>\n",
       "      <th>res</th>\n",
       "      <th>E</th>\n",
       "      <th>C</th>\n",
       "    </tr>\n",
       "  </thead>\n",
       "  <tbody>\n",
       "    <tr>\n",
       "      <th>1174737</th>\n",
       "      <td>15</td>\n",
       "      <td>1974</td>\n",
       "      <td>1</td>\n",
       "      <td>15</td>\n",
       "      <td>P</td>\n",
       "      <td>0.5</td>\n",
       "      <td>213.5</td>\n",
       "      <td>5</td>\n",
       "      <td>1.0</td>\n",
       "      <td>4.0</td>\n",
       "    </tr>\n",
       "    <tr>\n",
       "      <th>1174738</th>\n",
       "      <td>15</td>\n",
       "      <td>1974</td>\n",
       "      <td>1</td>\n",
       "      <td>15</td>\n",
       "      <td>P</td>\n",
       "      <td>-0.5</td>\n",
       "      <td>213.5</td>\n",
       "      <td>5</td>\n",
       "      <td>1.0</td>\n",
       "      <td>5.0</td>\n",
       "    </tr>\n",
       "    <tr>\n",
       "      <th>1174739</th>\n",
       "      <td>15</td>\n",
       "      <td>1974</td>\n",
       "      <td>3</td>\n",
       "      <td>15</td>\n",
       "      <td>P</td>\n",
       "      <td>-5.5</td>\n",
       "      <td>212.5</td>\n",
       "      <td>5</td>\n",
       "      <td>2.0</td>\n",
       "      <td>7.0</td>\n",
       "    </tr>\n",
       "    <tr>\n",
       "      <th>1174740</th>\n",
       "      <td>15</td>\n",
       "      <td>1974</td>\n",
       "      <td>4</td>\n",
       "      <td>15</td>\n",
       "      <td>P</td>\n",
       "      <td>8.5</td>\n",
       "      <td>212.5</td>\n",
       "      <td>5</td>\n",
       "      <td>2.0</td>\n",
       "      <td>15.0</td>\n",
       "    </tr>\n",
       "    <tr>\n",
       "      <th>1174741</th>\n",
       "      <td>15</td>\n",
       "      <td>1974</td>\n",
       "      <td>4</td>\n",
       "      <td>15</td>\n",
       "      <td>P</td>\n",
       "      <td>-5.5</td>\n",
       "      <td>212.5</td>\n",
       "      <td>5</td>\n",
       "      <td>1.0</td>\n",
       "      <td>9.0</td>\n",
       "    </tr>\n",
       "    <tr>\n",
       "      <th>...</th>\n",
       "      <td>...</td>\n",
       "      <td>...</td>\n",
       "      <td>...</td>\n",
       "      <td>...</td>\n",
       "      <td>...</td>\n",
       "      <td>...</td>\n",
       "      <td>...</td>\n",
       "      <td>...</td>\n",
       "      <td>...</td>\n",
       "      <td>...</td>\n",
       "    </tr>\n",
       "    <tr>\n",
       "      <th>1181772</th>\n",
       "      <td>15</td>\n",
       "      <td>2014</td>\n",
       "      <td>8</td>\n",
       "      <td>15</td>\n",
       "      <td>P</td>\n",
       "      <td>11.5</td>\n",
       "      <td>214.5</td>\n",
       "      <td>5</td>\n",
       "      <td>3.0</td>\n",
       "      <td>30.0</td>\n",
       "    </tr>\n",
       "    <tr>\n",
       "      <th>1181773</th>\n",
       "      <td>15</td>\n",
       "      <td>2014</td>\n",
       "      <td>8</td>\n",
       "      <td>15</td>\n",
       "      <td>P</td>\n",
       "      <td>10.5</td>\n",
       "      <td>229.5</td>\n",
       "      <td>5</td>\n",
       "      <td>3.0</td>\n",
       "      <td>9.0</td>\n",
       "    </tr>\n",
       "    <tr>\n",
       "      <th>1181774</th>\n",
       "      <td>15</td>\n",
       "      <td>2014</td>\n",
       "      <td>8</td>\n",
       "      <td>15</td>\n",
       "      <td>P</td>\n",
       "      <td>9.5</td>\n",
       "      <td>233.5</td>\n",
       "      <td>5</td>\n",
       "      <td>3.0</td>\n",
       "      <td>0.0</td>\n",
       "    </tr>\n",
       "    <tr>\n",
       "      <th>1181775</th>\n",
       "      <td>15</td>\n",
       "      <td>2014</td>\n",
       "      <td>8</td>\n",
       "      <td>15</td>\n",
       "      <td>P</td>\n",
       "      <td>2.5</td>\n",
       "      <td>239.5</td>\n",
       "      <td>5</td>\n",
       "      <td>3.0</td>\n",
       "      <td>39.0</td>\n",
       "    </tr>\n",
       "    <tr>\n",
       "      <th>1181776</th>\n",
       "      <td>15</td>\n",
       "      <td>2014</td>\n",
       "      <td>8</td>\n",
       "      <td>15</td>\n",
       "      <td>P</td>\n",
       "      <td>1.5</td>\n",
       "      <td>241.5</td>\n",
       "      <td>5</td>\n",
       "      <td>3.0</td>\n",
       "      <td>36.0</td>\n",
       "    </tr>\n",
       "  </tbody>\n",
       "</table>\n",
       "<p>7040 rows × 10 columns</p>\n",
       "</div>"
      ],
      "text/plain": [
       "          f    yr  mm  dd gr   lat    lon  res    E     C\n",
       "1174737  15  1974   1  15  P   0.5  213.5    5  1.0   4.0\n",
       "1174738  15  1974   1  15  P  -0.5  213.5    5  1.0   5.0\n",
       "1174739  15  1974   3  15  P  -5.5  212.5    5  2.0   7.0\n",
       "1174740  15  1974   4  15  P   8.5  212.5    5  2.0  15.0\n",
       "1174741  15  1974   4  15  P  -5.5  212.5    5  1.0   9.0\n",
       "...      ..   ...  ..  .. ..   ...    ...  ...  ...   ...\n",
       "1181772  15  2014   8  15  P  11.5  214.5    5  3.0  30.0\n",
       "1181773  15  2014   8  15  P  10.5  229.5    5  3.0   9.0\n",
       "1181774  15  2014   8  15  P   9.5  233.5    5  3.0   0.0\n",
       "1181775  15  2014   8  15  P   2.5  239.5    5  3.0  39.0\n",
       "1181776  15  2014   8  15  P   1.5  241.5    5  3.0  36.0\n",
       "\n",
       "[7040 rows x 10 columns]"
      ]
     },
     "execution_count": 10,
     "metadata": {},
     "output_type": "execute_result"
    }
   ],
   "source": [
    "fisheries_dict[15]"
   ]
  },
  {
   "cell_type": "code",
   "execution_count": 11,
   "metadata": {},
   "outputs": [
    {
     "data": {
      "text/plain": [
       "{1:         f    yr  mm  dd gr   lat    lon  res    E      C\n",
       " 0       1  1950   1  15  P  46.5  150.5    1  1.0  0.047\n",
       " 1       1  1950   1  15  P  34.5  136.5    1  0.0  0.000\n",
       " 2       1  1950   1  15  P  34.5  138.5    1  0.0  0.000\n",
       " 3       1  1950   1  15  P  34.5  139.5    1  9.0  0.000\n",
       " 4       1  1950   1  15  P  33.5  133.5    1  0.0  0.000\n",
       " ...    ..   ...  ..  .. ..   ...    ...  ...  ...    ...\n",
       " 192946  1  2020  12  15  P  25.5  130.5    1  0.0  2.118\n",
       " 192947  1  2020  12  15  P  25.5  131.5    1  0.0  2.118\n",
       " 192948  1  2020  12  15  P  25.5  132.5    1  0.0  2.118\n",
       " 192949  1  2020  12  15  P  25.5  133.5    1  0.0  2.118\n",
       " 192950  1  2020  12  15  P  25.5  134.5    1  0.0  2.118\n",
       " \n",
       " [192951 rows x 10 columns],\n",
       " 15:          f    yr  mm  dd gr  lat    lon  res     E     C\n",
       " 0       15  1974   1  15  P  2.5  211.5    1  0.04  0.16\n",
       " 1       15  1974   1  15  P  2.5  212.5    1  0.04  0.16\n",
       " 2       15  1974   1  15  P  2.5  213.5    1  0.04  0.16\n",
       " 3       15  1974   1  15  P  2.5  214.5    1  0.04  0.16\n",
       " 4       15  1974   1  15  P  2.5  215.5    1  0.04  0.16\n",
       " ...     ..   ...  ..  .. ..  ...    ...  ...   ...   ...\n",
       " 175995  15  2014   8  15  P -0.5  239.5    1  0.12  1.44\n",
       " 175996  15  2014   8  15  P -0.5  240.5    1  0.12  1.44\n",
       " 175997  15  2014   8  15  P -0.5  241.5    1  0.12  1.44\n",
       " 175998  15  2014   8  15  P -0.5  242.5    1  0.12  1.44\n",
       " 175999  15  2014   8  15  P -0.5  243.5    1  0.12  1.44\n",
       " \n",
       " [176000 rows x 10 columns]}"
      ]
     },
     "execution_count": 11,
     "metadata": {},
     "output_type": "execute_result"
    }
   ],
   "source": [
    "tmp"
   ]
  },
  {
   "cell_type": "code",
   "execution_count": 12,
   "metadata": {},
   "outputs": [
    {
     "name": "stdout",
     "output_type": "stream",
     "text": [
      "Catch error :  7.275957614183426e-12\n",
      "Effort error :  -7.275957614183426e-12\n"
     ]
    }
   ],
   "source": [
    "print(\"Catch error : \", fisheries_dict[15]['C'].sum() - tmp[15]['C'].sum())\n",
    "print(\"Effort error : \", fisheries_dict[15]['E'].sum() - tmp[15]['E'].sum())"
   ]
  }
 ],
 "metadata": {
  "interpreter": {
   "hash": "ffb4c739a54b0f14d85400558931514482bb564738e7dc16fa6fbcf98080c52d"
  },
  "kernelspec": {
   "display_name": "Python 3.9.7 64-bit ('cps': conda)",
   "language": "python",
   "name": "python3"
  },
  "language_info": {
   "codemirror_mode": {
    "name": "ipython",
    "version": 3
   },
   "file_extension": ".py",
   "mimetype": "text/x-python",
   "name": "python",
   "nbconvert_exporter": "python",
   "pygments_lexer": "ipython3",
   "version": "3.9.7"
  },
  "orig_nbformat": 4
 },
 "nbformat": 4,
 "nbformat_minor": 2
}
